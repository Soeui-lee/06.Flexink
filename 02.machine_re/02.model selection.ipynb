{
 "cells": [
  {
   "cell_type": "markdown",
   "metadata": {},
   "source": [
    "01. intro"
   ]
  },
  {
   "cell_type": "markdown",
   "metadata": {},
   "source": [
    "Model Selection 모듈\n",
    "- 훈련/테스트 데이터로 분리하지 않고 머신러닝 수행"
   ]
  },
  {
   "cell_type": "code",
   "execution_count": null,
   "metadata": {},
   "outputs": [],
   "source": [
    "# 12.9 28:00 "
   ]
  }
 ],
 "metadata": {
  "language_info": {
   "name": "python"
  },
  "orig_nbformat": 4
 },
 "nbformat": 4,
 "nbformat_minor": 2
}
