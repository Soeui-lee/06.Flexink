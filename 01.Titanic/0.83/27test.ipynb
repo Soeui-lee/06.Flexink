{
 "cells": [
  {
   "cell_type": "code",
   "execution_count": 1,
   "metadata": {},
   "outputs": [],
   "source": [
    "import numpy as np \n",
    "import pandas as pd\n",
    "from sklearn.model_selection import train_test_split\n",
    "from sklearn.tree import DecisionTreeClassifier\n",
    "from sklearn.ensemble import RandomForestClassifier\n",
    "from sklearn.neighbors import KNeighborsClassifier\n",
    "from xgboost import XGBClassifier\n",
    "from lightgbm import LGBMClassifier\n",
    "from sklearn.model_selection import GridSearchCV\n",
    "import warnings \n",
    "warnings.filterwarnings('ignore')\n",
    "# pip install lightgbm\n",
    "# pip install xgboost"
   ]
  },
  {
   "cell_type": "code",
   "execution_count": 2,
   "metadata": {},
   "outputs": [],
   "source": [
    "train = pd.read_csv('pre_train.csv')\n",
    "test = pd.read_csv('pre_test.csv')"
   ]
  },
  {
   "cell_type": "markdown",
   "metadata": {},
   "source": [
    "## 분류모델"
   ]
  },
  {
   "cell_type": "markdown",
   "metadata": {},
   "source": [
    "train, test(val) split"
   ]
  },
  {
   "cell_type": "code",
   "execution_count": 3,
   "metadata": {},
   "outputs": [
    {
     "data": {
      "text/plain": [
       "((668, 8), (223, 8), (668,), (223,))"
      ]
     },
     "execution_count": 3,
     "metadata": {},
     "output_type": "execute_result"
    }
   ],
   "source": [
    "X = train.iloc[:,1:].values\n",
    "y = train['Survived']\n",
    "\n",
    "X_train, X_test, y_train, y_test = train_test_split(X, y, test_size=0.25, stratify=y, random_state=2022)\n",
    "\n",
    "X_train.shape, X_test.shape, y_train.shape, y_test.shape"
   ]
  },
  {
   "cell_type": "markdown",
   "metadata": {},
   "source": [
    "- 예측을 위한 모델\n",
    "- 결정 트리 / 랜덤 포레스트 / KNN / xgboost / lgbm 사용"
   ]
  },
  {
   "cell_type": "code",
   "execution_count": 4,
   "metadata": {},
   "outputs": [],
   "source": [
    "# 기본 모델 \n",
    "\n",
    "# dtree = DecisionTreeClassifier(random_state=2022)\n",
    "# rfc = RandomForestClassifier(random_state=2022)\n",
    "# knn = KNeighborsClassifier()\n",
    "# xgb = XGBClassifier(random_state=2022, eval_metric='mlogloss')\n",
    "# lgbm = LGBMClassifier(random_state=2022)"
   ]
  },
  {
   "cell_type": "markdown",
   "metadata": {},
   "source": [
    "-----"
   ]
  },
  {
   "cell_type": "code",
   "execution_count": 5,
   "metadata": {},
   "outputs": [],
   "source": [
    "# 최적 튜닝 모델 \n",
    "\n",
    "dtree = DecisionTreeClassifier(random_state=2022, max_depth = 4, max_features = 5, max_leaf_nodes = 8, min_samples_leaf = 2, min_samples_split = 2)\n",
    "rfc = RandomForestClassifier(random_state=2022, max_depth = 10, min_samples_leaf = 1, min_samples_split = 5, n_estimators = 130)\n",
    "knn = KNeighborsClassifier(metric = 'manhattan', n_neighbors = 87, weights = 'distance')\n",
    "xgb = XGBClassifier(random_state=2022, eval_metric='mlogloss')\n",
    "lgbm = LGBMClassifier(random_state=2022, max_depth = 4, min_child_samples = 40, n_estimators = 100, num_leaves = 20, subsample = 0.5)\n"
   ]
  },
  {
   "cell_type": "code",
   "execution_count": 6,
   "metadata": {},
   "outputs": [
    {
     "data": {
      "text/plain": [
       "{'boosting_type': 'gbdt',\n",
       " 'class_weight': None,\n",
       " 'colsample_bytree': 1.0,\n",
       " 'importance_type': 'split',\n",
       " 'learning_rate': 0.1,\n",
       " 'max_depth': 4,\n",
       " 'min_child_samples': 40,\n",
       " 'min_child_weight': 0.001,\n",
       " 'min_split_gain': 0.0,\n",
       " 'n_estimators': 100,\n",
       " 'n_jobs': -1,\n",
       " 'num_leaves': 20,\n",
       " 'objective': None,\n",
       " 'random_state': 2022,\n",
       " 'reg_alpha': 0.0,\n",
       " 'reg_lambda': 0.0,\n",
       " 'silent': 'warn',\n",
       " 'subsample': 0.5,\n",
       " 'subsample_for_bin': 200000,\n",
       " 'subsample_freq': 0}"
      ]
     },
     "execution_count": 6,
     "metadata": {},
     "output_type": "execute_result"
    }
   ],
   "source": [
    "lgbm.get_params()"
   ]
  },
  {
   "cell_type": "code",
   "execution_count": 7,
   "metadata": {},
   "outputs": [],
   "source": [
    "params = {\n",
    "    'n_estimators': [100],                 \n",
    "    'max_depth': [3],          \n",
    "    'num_leaves': [2],      \n",
    "    'min_child_samples': [20],     \n",
    "    'subsample' :  [0.5,1]                 \n",
    "}"
   ]
  },
  {
   "cell_type": "code",
   "execution_count": 8,
   "metadata": {},
   "outputs": [
    {
     "name": "stdout",
     "output_type": "stream",
     "text": [
      "{'max_depth': 3, 'min_child_samples': 20, 'n_estimators': 100, 'num_leaves': 2, 'subsample': 0.5}\n",
      "0.8157620985979195\n"
     ]
    }
   ],
   "source": [
    "grid_lgbm = GridSearchCV(lgbm, param_grid=params, scoring='accuracy', cv=10)\n",
    "grid_lgbm.fit(X_train, y_train)\n",
    "\n",
    "print(grid_lgbm.best_params_)\n",
    "print(grid_lgbm.best_score_)"
   ]
  },
  {
   "cell_type": "code",
   "execution_count": 9,
   "metadata": {},
   "outputs": [
    {
     "data": {
      "text/plain": [
       "86.98"
      ]
     },
     "execution_count": 9,
     "metadata": {},
     "output_type": "execute_result"
    }
   ],
   "source": [
    "# 파람스 검증\n",
    "lgbm = LGBMClassifier(random_state=2022, max_depth = 3, min_child_samples = 20, n_estimators = 100, num_leaves = 10, subsample = 0.5)\n",
    "lgbm.fit(X_train, y_train)\n",
    "round(lgbm.score(X_train, y_train) * 100, 2)"
   ]
  },
  {
   "cell_type": "markdown",
   "metadata": {},
   "source": [
    "LGBM \n",
    "\n",
    "-  순서:        그리드   / 예측성능 / 캐글\n",
    "-  기본:        0.812754 / 89.37 / **77990**\n",
    "-  튜닝1 :      0.820262 / 87.13 / 77990\n",
    "-  튜닝2 :      0.829194 / 86.23 / **78708**\n",
    "-  튜닝3 :      0.829194 / 86.98 / 76555\n",
    ">\n",
    ">\n",
    "\n",
    "- lgbm1\n",
    "- 'n_estimators': [100],                 \n",
    "- 'max_depth': [10, 30, 50, 100],          \n",
    "- 'num_leaves': [2, 10, 20, 31],      \n",
    "- 'min_child_samples': [20, 40, 60],     \n",
    "- 'subsample' :  [0.5, 1]   \n",
    "> 'max_depth': 10, 'min_child_samples': 40, 'n_estimators': 100, 'num_leaves': 10, 'subsample': 0.5 >> 77990\n",
    "\n",
    "- **lgbm 2**\n",
    "- 'n_estimators': [100],                 \n",
    "- 'max_depth': [2, 4, 6, 8, 10],          \n",
    "- 'num_leaves': [2, 10, 20, 31],      \n",
    "- 'min_child_samples': [20, 40, 60],     \n",
    "- 'subsample' :  [0.5, 1]   \n",
    "> **'max_depth': 4, 'min_child_samples': 40, 'n_estimators': 100, 'num_leaves': 20, 'subsample': 0.5 >> 78708**\n",
    "\n",
    "- lgbm3\n",
    "- 'n_estimators': [100],                 \n",
    "- 'max_depth': [3, 5, 7, 9],          \n",
    "- 'num_leaves': [2, 10, 20, 31],      \n",
    "- 'min_child_samples': [20, 40, 60],     \n",
    "- 'subsample' :  [0.5, 1]  \n",
    "> 'max_depth': 3, 'min_child_samples': 20, 'n_estimators': 100, 'num_leaves': 10, 'subsample': 0.5 >> 76555"
   ]
  },
  {
   "cell_type": "markdown",
   "metadata": {},
   "source": [
    "KNN\n",
    "-  순서:        그리드   / 예측성능 / 캐글\n",
    "-  기본:        0.779828 / 85.63 / **75837**\n",
    "-  튜닝1 :      0.805269 / 82.63 / 72727\n",
    "-  튜닝2 :      0.799389 / 91.47 / **77990**\n",
    "> \n",
    "\n",
    "- knn1\n",
    "- 'n_neighbors' : list(range(1,100)),                 \n",
    "- 'weights' : [\"uniform\", 'distance'],                \n",
    "- 'metric' : ['euclidean', 'manhattan','minkowski']\n",
    ">  'metric': 'manhattan', 'n_neighbors': 16, 'weights': 'uniform' >> 72727\n",
    "\n",
    "- knn2\n",
    "- 'n_neighbors' : list(range(50,100)),                 \n",
    "- 'weights' : [\"uniform\", 'distance'],                \n",
    "- 'metric' : ['euclidean', 'manhattan','minkowski']\n",
    ">  **'metric': 'manhattan', 'n_neighbors': 87, 'weights': 'distance' >> 77990**\n"
   ]
  },
  {
   "cell_type": "markdown",
   "metadata": {},
   "source": [
    "dtree\n",
    "- 'max_depth' : [2,3,4,5,6,7,8,9,10], \n",
    "- 'min_samples_leaf' : [2,3,4,5,6,7,8,9,10], \n",
    "- 'min_samples_split' :[2,3,4,5,6,7,8,9,10],  \n",
    "- 'max_features' :[2,3,4,5,6,7,8,9,10],\n",
    "- 'max_leaf_nodes':[2,3,4,5,6,7,8,9,10]\n",
    "> max_depth = 4, max_features = 5, max_leaf_nodes = 8, min_samples_leaf = 2, min_samples_split = 2 >> 0.839733"
   ]
  },
  {
   "cell_type": "markdown",
   "metadata": {},
   "source": [
    "---"
   ]
  },
  {
   "cell_type": "markdown",
   "metadata": {},
   "source": [
    "## *최적 파라미터 적용한 모델 사용"
   ]
  },
  {
   "cell_type": "code",
   "execution_count": 10,
   "metadata": {},
   "outputs": [],
   "source": [
    "# 최적 튜닝 모델 \n",
    "\n",
    "dtree = DecisionTreeClassifier(random_state=2022, max_depth = 4, max_features = 5, max_leaf_nodes = 8, min_samples_leaf = 2, min_samples_split = 2)\n",
    "rfc = RandomForestClassifier(random_state=2022, max_depth = 10, min_samples_leaf = 1, min_samples_split = 5, n_estimators = 130)\n",
    "knn = KNeighborsClassifier(metric = 'manhattan', n_neighbors = 87, weights = 'distance')\n",
    "xgb = XGBClassifier(random_state=2022, eval_metric='mlogloss')\n",
    "lgbm = LGBMClassifier(random_state=2022, max_depth = 4, min_child_samples = 40, n_estimators = 100, num_leaves = 20, subsample = 0.5)"
   ]
  },
  {
   "cell_type": "markdown",
   "metadata": {},
   "source": [
    "기본모델 캐글 score"
   ]
  },
  {
   "cell_type": "code",
   "execution_count": 11,
   "metadata": {},
   "outputs": [],
   "source": [
    "# dtree : 76794\n",
    "# rfc   : 78229\n",
    "# knn   : 75837 \n",
    "# xgb   : 78468 \n",
    "# lgbm  : 77990 "
   ]
  },
  {
   "cell_type": "markdown",
   "metadata": {},
   "source": [
    "최적 튜닝 모델의 캐글 score "
   ]
  },
  {
   "cell_type": "code",
   "execution_count": 12,
   "metadata": {},
   "outputs": [],
   "source": [
    "# dtree : 76794 > 78468\n",
    "# rfc   : 78229 > 78468 \n",
    "# knn   : 75837 > 77990\n",
    "# xgb   : 78468 \n",
    "# lgbm  : 77990 > 78708"
   ]
  },
  {
   "cell_type": "code",
   "execution_count": 13,
   "metadata": {},
   "outputs": [
    {
     "name": "stdout",
     "output_type": "stream",
     "text": [
      "dtree의 성능    : 83.98\n",
      "rfc의 성능      : 89.97\n",
      "knn의 성능      : 91.47\n",
      "xgb의 성능      : 91.02\n",
      "lgbm의 성능     : 86.23\n"
     ]
    }
   ],
   "source": [
    "# vs 에서의 모델별 성능 \n",
    "\n",
    "model = [dtree, rfc, knn, xgb, lgbm]\n",
    "ac = []\n",
    "\n",
    "for i in model:\n",
    "    i.fit(X_train, y_train)\n",
    "    acc = round(i.score(X_train, y_train) * 100, 2)\n",
    "    ac.append(acc)\n",
    "\n",
    "print(f'dtree의 성능    : {ac[0]}') # 91.47\n",
    "print(f'rfc의 성능      : {ac[1]}') # 91.47\n",
    "print(f'knn의 성능      : {ac[2]}') # 85.63\n",
    "print(f'xgb의 성능      : {ac[3]}') # 91.02\n",
    "print(f'lgbm의 성능     : {ac[4]}') # 89.37"
   ]
  },
  {
   "cell_type": "code",
   "execution_count": 14,
   "metadata": {},
   "outputs": [
    {
     "name": "stdout",
     "output_type": "stream",
     "text": [
      "dtree의 성능    : 83.28\n",
      "rfc의 성능      : 89.23\n",
      "knn의 성능      : 90.68\n",
      "xgb의 성능      : 90.35\n",
      "lgbm의 성능     : 86.2\n"
     ]
    }
   ],
   "source": [
    "# train 전체학습 후 vs 모델 성능 \n",
    "\n",
    "\n",
    "X = train.iloc[:,1:].values\n",
    "y = train['Survived']\n",
    "X_test = test.drop(['PassengerId'], axis=1)\n",
    "X.shape, y.shape, X_test.shape\n",
    "\n",
    "model = [dtree, rfc, knn, xgb, lgbm]\n",
    "ac = []\n",
    "pred = []\n",
    "\n",
    "for i in model:\n",
    "    i.fit(X, y)\n",
    "    y_pred = i.predict(X_test)\n",
    "    pred.append(y_pred)\n",
    "\n",
    "    acc = round(i.score(X, y) * 100, 2)\n",
    "    ac.append(acc)\n",
    "    \n",
    "print(f'dtree의 성능    : {ac[0]}') # 91.47 > 90.68\n",
    "print(f'rfc의 성능      : {ac[1]}') # 91.47 > 90.68 > 89.23 > 90.68\n",
    "print(f'knn의 성능      : {ac[2]}') # 91.47 > 90.68\n",
    "print(f'xgb의 성능      : {ac[3]}') # 91.02 > 90.35 > 90.68\n",
    "print(f'lgbm의 성능     : {ac[4]}') # 89.37 > 90.68"
   ]
  },
  {
   "cell_type": "code",
   "execution_count": 15,
   "metadata": {},
   "outputs": [],
   "source": [
    "# 예측, test에 concat \n",
    "\n",
    "dtree = pred[0]\n",
    "rfc = pred[1]\n",
    "knn = pred[2]\n",
    "xgb = pred[3]\n",
    "lgbm = pred[4]\n",
    "\n",
    "dtree = pd.DataFrame({'dtree': dtree})\n",
    "rfc = pd.DataFrame({'rfc': rfc})\n",
    "knn = pd.DataFrame({'knn': knn})\n",
    "xgb = pd.DataFrame({'xgb': xgb})\n",
    "lgbm = pd.DataFrame({'lgbm': lgbm})\n",
    "\n",
    "dtree = pred[0]\n",
    "rfc = pred[1]\n",
    "knn = pred[2]\n",
    "xgb = pred[3]\n",
    "lgbm = pred[4]\n",
    "\n",
    "dtree = pd.DataFrame({'dtree': dtree})\n",
    "rfc = pd.DataFrame({'rfc': rfc})\n",
    "knn = pd.DataFrame({'knn': knn})\n",
    "xgb = pd.DataFrame({'xgb': xgb})\n",
    "lgbm = pd.DataFrame({'lgbm': lgbm})\n",
    "\n",
    "model = [dtree, rfc, knn, xgb, lgbm]\n",
    "\n",
    "for i in model:\n",
    "    test = pd.concat([test, i], axis=1)"
   ]
  },
  {
   "cell_type": "code",
   "execution_count": 16,
   "metadata": {},
   "outputs": [
    {
     "data": {
      "text/html": [
       "<div>\n",
       "<style scoped>\n",
       "    .dataframe tbody tr th:only-of-type {\n",
       "        vertical-align: middle;\n",
       "    }\n",
       "\n",
       "    .dataframe tbody tr th {\n",
       "        vertical-align: top;\n",
       "    }\n",
       "\n",
       "    .dataframe thead th {\n",
       "        text-align: right;\n",
       "    }\n",
       "</style>\n",
       "<table border=\"1\" class=\"dataframe\">\n",
       "  <thead>\n",
       "    <tr style=\"text-align: right;\">\n",
       "      <th></th>\n",
       "      <th>PassengerId</th>\n",
       "      <th>Pclass</th>\n",
       "      <th>Sex</th>\n",
       "      <th>Fare</th>\n",
       "      <th>Embarked</th>\n",
       "      <th>Age_gr</th>\n",
       "      <th>F_nm</th>\n",
       "      <th>F_ox</th>\n",
       "      <th>Married</th>\n",
       "      <th>dtree</th>\n",
       "      <th>rfc</th>\n",
       "      <th>knn</th>\n",
       "      <th>xgb</th>\n",
       "      <th>lgbm</th>\n",
       "    </tr>\n",
       "  </thead>\n",
       "  <tbody>\n",
       "    <tr>\n",
       "      <th>0</th>\n",
       "      <td>892</td>\n",
       "      <td>3</td>\n",
       "      <td>1</td>\n",
       "      <td>1</td>\n",
       "      <td>1</td>\n",
       "      <td>1</td>\n",
       "      <td>0</td>\n",
       "      <td>0</td>\n",
       "      <td>0</td>\n",
       "      <td>0</td>\n",
       "      <td>0</td>\n",
       "      <td>0</td>\n",
       "      <td>0</td>\n",
       "      <td>0</td>\n",
       "    </tr>\n",
       "    <tr>\n",
       "      <th>1</th>\n",
       "      <td>893</td>\n",
       "      <td>3</td>\n",
       "      <td>0</td>\n",
       "      <td>0</td>\n",
       "      <td>2</td>\n",
       "      <td>2</td>\n",
       "      <td>1</td>\n",
       "      <td>1</td>\n",
       "      <td>0</td>\n",
       "      <td>0</td>\n",
       "      <td>0</td>\n",
       "      <td>0</td>\n",
       "      <td>0</td>\n",
       "      <td>0</td>\n",
       "    </tr>\n",
       "    <tr>\n",
       "      <th>2</th>\n",
       "      <td>894</td>\n",
       "      <td>2</td>\n",
       "      <td>1</td>\n",
       "      <td>1</td>\n",
       "      <td>1</td>\n",
       "      <td>4</td>\n",
       "      <td>0</td>\n",
       "      <td>0</td>\n",
       "      <td>0</td>\n",
       "      <td>0</td>\n",
       "      <td>0</td>\n",
       "      <td>0</td>\n",
       "      <td>0</td>\n",
       "      <td>0</td>\n",
       "    </tr>\n",
       "    <tr>\n",
       "      <th>3</th>\n",
       "      <td>895</td>\n",
       "      <td>3</td>\n",
       "      <td>1</td>\n",
       "      <td>1</td>\n",
       "      <td>2</td>\n",
       "      <td>0</td>\n",
       "      <td>0</td>\n",
       "      <td>0</td>\n",
       "      <td>0</td>\n",
       "      <td>0</td>\n",
       "      <td>0</td>\n",
       "      <td>0</td>\n",
       "      <td>0</td>\n",
       "      <td>0</td>\n",
       "    </tr>\n",
       "    <tr>\n",
       "      <th>4</th>\n",
       "      <td>896</td>\n",
       "      <td>3</td>\n",
       "      <td>0</td>\n",
       "      <td>2</td>\n",
       "      <td>2</td>\n",
       "      <td>0</td>\n",
       "      <td>2</td>\n",
       "      <td>1</td>\n",
       "      <td>0</td>\n",
       "      <td>0</td>\n",
       "      <td>1</td>\n",
       "      <td>1</td>\n",
       "      <td>1</td>\n",
       "      <td>0</td>\n",
       "    </tr>\n",
       "  </tbody>\n",
       "</table>\n",
       "</div>"
      ],
      "text/plain": [
       "   PassengerId  Pclass  Sex  Fare  Embarked  Age_gr  F_nm  F_ox  Married  \\\n",
       "0          892       3    1     1         1       1     0     0        0   \n",
       "1          893       3    0     0         2       2     1     1        0   \n",
       "2          894       2    1     1         1       4     0     0        0   \n",
       "3          895       3    1     1         2       0     0     0        0   \n",
       "4          896       3    0     2         2       0     2     1        0   \n",
       "\n",
       "   dtree  rfc  knn  xgb  lgbm  \n",
       "0      0    0    0    0     0  \n",
       "1      0    0    0    0     0  \n",
       "2      0    0    0    0     0  \n",
       "3      0    0    0    0     0  \n",
       "4      0    1    1    1     0  "
      ]
     },
     "execution_count": 16,
     "metadata": {},
     "output_type": "execute_result"
    }
   ],
   "source": [
    "test.head()"
   ]
  },
  {
   "cell_type": "code",
   "execution_count": 17,
   "metadata": {},
   "outputs": [
    {
     "data": {
      "text/html": [
       "<div>\n",
       "<style scoped>\n",
       "    .dataframe tbody tr th:only-of-type {\n",
       "        vertical-align: middle;\n",
       "    }\n",
       "\n",
       "    .dataframe tbody tr th {\n",
       "        vertical-align: top;\n",
       "    }\n",
       "\n",
       "    .dataframe thead th {\n",
       "        text-align: right;\n",
       "    }\n",
       "</style>\n",
       "<table border=\"1\" class=\"dataframe\">\n",
       "  <thead>\n",
       "    <tr style=\"text-align: right;\">\n",
       "      <th></th>\n",
       "      <th>PassengerId</th>\n",
       "      <th>Survived</th>\n",
       "    </tr>\n",
       "  </thead>\n",
       "  <tbody>\n",
       "    <tr>\n",
       "      <th>0</th>\n",
       "      <td>892</td>\n",
       "      <td>0.0</td>\n",
       "    </tr>\n",
       "    <tr>\n",
       "      <th>1</th>\n",
       "      <td>893</td>\n",
       "      <td>0.0</td>\n",
       "    </tr>\n",
       "    <tr>\n",
       "      <th>2</th>\n",
       "      <td>894</td>\n",
       "      <td>0.0</td>\n",
       "    </tr>\n",
       "    <tr>\n",
       "      <th>3</th>\n",
       "      <td>895</td>\n",
       "      <td>0.0</td>\n",
       "    </tr>\n",
       "    <tr>\n",
       "      <th>4</th>\n",
       "      <td>896</td>\n",
       "      <td>0.6</td>\n",
       "    </tr>\n",
       "  </tbody>\n",
       "</table>\n",
       "</div>"
      ],
      "text/plain": [
       "   PassengerId  Survived\n",
       "0          892       0.0\n",
       "1          893       0.0\n",
       "2          894       0.0\n",
       "3          895       0.0\n",
       "4          896       0.6"
      ]
     },
     "execution_count": 17,
     "metadata": {},
     "output_type": "execute_result"
    }
   ],
   "source": [
    "test['Survived'] = (test['dtree'] + test['rfc'] + test['knn'] + test['xgb'] + test['lgbm'])/5\n",
    "test = test.drop(['Pclass', 'Sex', 'Fare', 'Embarked', 'Age_gr', 'F_nm', 'F_ox', 'Married', 'dtree', 'rfc', 'knn', 'xgb', 'lgbm'], axis=1)\n",
    "test.head()"
   ]
  },
  {
   "cell_type": "code",
   "execution_count": 18,
   "metadata": {},
   "outputs": [
    {
     "data": {
      "text/plain": [
       "0.0    256\n",
       "1.0     97\n",
       "0.6     25\n",
       "0.8     21\n",
       "0.2     13\n",
       "0.4      6\n",
       "Name: Survived, dtype: int64"
      ]
     },
     "execution_count": 18,
     "metadata": {},
     "output_type": "execute_result"
    }
   ],
   "source": [
    "test['Survived'].value_counts()"
   ]
  },
  {
   "cell_type": "code",
   "execution_count": 19,
   "metadata": {},
   "outputs": [
    {
     "data": {
      "text/plain": [
       "0    300\n",
       "1    118\n",
       "Name: Survived, dtype: int64"
      ]
     },
     "execution_count": 19,
     "metadata": {},
     "output_type": "execute_result"
    }
   ],
   "source": [
    "def ensemble_survived(x):\n",
    "    if x < 0.8:\n",
    "        return 0\n",
    "    if x >= 0.8:\n",
    "        return 1 \n",
    "\n",
    "test['Survived'] = test['Survived'].apply(lambda x: ensemble_survived(x))\n",
    "test['Survived'].value_counts()"
   ]
  },
  {
   "cell_type": "code",
   "execution_count": 20,
   "metadata": {},
   "outputs": [],
   "source": [
    "test.to_csv('27_81.csv', index=False)"
   ]
  },
  {
   "cell_type": "markdown",
   "metadata": {},
   "source": [
    "27_20 **(79186)**\n",
    "- x <= 0.2 : 0\n",
    "- x > 0.2 : 1\n",
    "\n",
    "27_21 (78468)\n",
    "- x < 0.2 : 0\n",
    "- x >= 0.2 : 1\n",
    "\n",
    "27_40 **(79665)**\n",
    "- x <= 0.4 : 0\n",
    "- x > 0.4 : 1\n",
    "\n",
    "27_41 (79186)\n",
    "- x < 0.4 : 0\n",
    "- x >= 0.4 : 1\n",
    "\n",
    "27_60 (77511)\n",
    "- x <= 0.6 : 0\n",
    "- x > 0.6 : 1\n",
    "\n",
    "27_61 **(79665)**\n",
    "- x < 0.6 : 0\n",
    "- x >= 0.6 : 1\n",
    "\n",
    "27_80 (77272)\n",
    "- x <= 0.8 : 0\n",
    "- x > 0.8 : 1\n",
    "\n",
    "27_81 (77511)\n",
    "- x < 0.8 : 0\n",
    "- x >= 0.8 : 1"
   ]
  }
 ],
 "metadata": {
  "interpreter": {
   "hash": "c81169c30fb96244cfba0db287a0d3fd5325268de070a7a6116eecd4596df902"
  },
  "kernelspec": {
   "display_name": "Python 3.8.8 ('base')",
   "language": "python",
   "name": "python3"
  },
  "language_info": {
   "codemirror_mode": {
    "name": "ipython",
    "version": 3
   },
   "file_extension": ".py",
   "mimetype": "text/x-python",
   "name": "python",
   "nbconvert_exporter": "python",
   "pygments_lexer": "ipython3",
   "version": "3.8.8"
  },
  "orig_nbformat": 4
 },
 "nbformat": 4,
 "nbformat_minor": 2
}
