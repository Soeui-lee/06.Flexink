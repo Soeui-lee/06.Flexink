{
 "cells": [
  {
   "cell_type": "markdown",
   "metadata": {},
   "source": [
    "## 제주 공공와이파이 데이터 분석을 통한 2022 관광 유형 예측"
   ]
  },
  {
   "cell_type": "markdown",
   "metadata": {},
   "source": [
    "1. 라이브러리\n",
    ">\n",
    "2. 데이터 불러오기 \n",
    "    - 2.1. 2020년 와이파이 접속 데이터\n",
    "    - 2.2. 2021년 와이파이 접속 데이터 \n",
    "    - 2.3. 고정형 AP 18,19,20년 데이터 \n",
    ">\n",
    "3. 동일 mac_address로부터 2020년 데이터에 주소지 정보 매핑\n",
    ">\n",
    "4. 지역별(동부 + 서귀포 성산읍) 데이터프레임화 "
   ]
  },
  {
   "cell_type": "markdown",
   "metadata": {},
   "source": [
    "### 1. 라이브러리"
   ]
  },
  {
   "cell_type": "code",
   "execution_count": 1,
   "metadata": {},
   "outputs": [],
   "source": [
    "import numpy as np \n",
    "import pandas as pd "
   ]
  },
  {
   "cell_type": "markdown",
   "metadata": {},
   "source": [
    "### 2. 데이터 불러오기"
   ]
  },
  {
   "cell_type": "markdown",
   "metadata": {},
   "source": [
    "#### 2.1. 2020년 와이파이 접속 데이터"
   ]
  },
  {
   "cell_type": "code",
   "execution_count": 2,
   "metadata": {},
   "outputs": [
    {
     "data": {
      "text/html": [
       "<div>\n",
       "<style scoped>\n",
       "    .dataframe tbody tr th:only-of-type {\n",
       "        vertical-align: middle;\n",
       "    }\n",
       "\n",
       "    .dataframe tbody tr th {\n",
       "        vertical-align: top;\n",
       "    }\n",
       "\n",
       "    .dataframe thead th {\n",
       "        text-align: right;\n",
       "    }\n",
       "</style>\n",
       "<table border=\"1\" class=\"dataframe\">\n",
       "  <thead>\n",
       "    <tr style=\"text-align: right;\">\n",
       "      <th></th>\n",
       "      <th>base_date</th>\n",
       "      <th>user_id</th>\n",
       "      <th>mac_address</th>\n",
       "      <th>upload</th>\n",
       "      <th>download</th>\n",
       "      <th>session_time</th>\n",
       "      <th>nationality</th>\n",
       "      <th>province</th>\n",
       "      <th>gender</th>\n",
       "      <th>age</th>\n",
       "      <th>visit_type</th>\n",
       "      <th>ap_type</th>\n",
       "      <th>pt_year</th>\n",
       "      <th>pt_month</th>\n",
       "    </tr>\n",
       "  </thead>\n",
       "  <tbody>\n",
       "    <tr>\n",
       "      <th>0</th>\n",
       "      <td>20200401</td>\n",
       "      <td>10f31cf6d443c671e2573658c0dcad9a953c3e75c2b201...</td>\n",
       "      <td>1243f1ed4024796f9567e4428d6e45e7014f8848826cd9...</td>\n",
       "      <td>0</td>\n",
       "      <td>0</td>\n",
       "      <td>14</td>\n",
       "      <td>대한민국</td>\n",
       "      <td>제주특별자치도</td>\n",
       "      <td>남성</td>\n",
       "      <td>10</td>\n",
       "      <td>거주</td>\n",
       "      <td>고정형</td>\n",
       "      <td>2020</td>\n",
       "      <td>4</td>\n",
       "    </tr>\n",
       "    <tr>\n",
       "      <th>1</th>\n",
       "      <td>20200401</td>\n",
       "      <td>42e2aa72849d0995eb736f2b2c7110d5893b6c243e2c44...</td>\n",
       "      <td>73dc8b6d8b306ea02b5ecc20ba5d1188997013c3029dc0...</td>\n",
       "      <td>0</td>\n",
       "      <td>0</td>\n",
       "      <td>5</td>\n",
       "      <td>대한민국</td>\n",
       "      <td>제주특별자치도</td>\n",
       "      <td>남성</td>\n",
       "      <td>60</td>\n",
       "      <td>거주</td>\n",
       "      <td>고정형</td>\n",
       "      <td>2020</td>\n",
       "      <td>4</td>\n",
       "    </tr>\n",
       "    <tr>\n",
       "      <th>2</th>\n",
       "      <td>20200401</td>\n",
       "      <td>0f3f81c33b8279e80257a2140dc23512e8501a5ed68379...</td>\n",
       "      <td>ffd8e6745aa3157fb971fdf3d13c4205bee4aa0f5a877e...</td>\n",
       "      <td>0</td>\n",
       "      <td>0</td>\n",
       "      <td>20</td>\n",
       "      <td>중국</td>\n",
       "      <td>NaN</td>\n",
       "      <td>여성</td>\n",
       "      <td>20</td>\n",
       "      <td>관광</td>\n",
       "      <td>고정형</td>\n",
       "      <td>2020</td>\n",
       "      <td>4</td>\n",
       "    </tr>\n",
       "  </tbody>\n",
       "</table>\n",
       "</div>"
      ],
      "text/plain": [
       "   base_date                                            user_id  \\\n",
       "0   20200401  10f31cf6d443c671e2573658c0dcad9a953c3e75c2b201...   \n",
       "1   20200401  42e2aa72849d0995eb736f2b2c7110d5893b6c243e2c44...   \n",
       "2   20200401  0f3f81c33b8279e80257a2140dc23512e8501a5ed68379...   \n",
       "\n",
       "                                         mac_address  upload  download  \\\n",
       "0  1243f1ed4024796f9567e4428d6e45e7014f8848826cd9...       0         0   \n",
       "1  73dc8b6d8b306ea02b5ecc20ba5d1188997013c3029dc0...       0         0   \n",
       "2  ffd8e6745aa3157fb971fdf3d13c4205bee4aa0f5a877e...       0         0   \n",
       "\n",
       "   session_time nationality province gender  age visit_type ap_type  pt_year  \\\n",
       "0            14        대한민국  제주특별자치도     남성   10         거주     고정형     2020   \n",
       "1             5        대한민국  제주특별자치도     남성   60         거주     고정형     2020   \n",
       "2            20          중국      NaN     여성   20         관광     고정형     2020   \n",
       "\n",
       "   pt_month  \n",
       "0         4  \n",
       "1         4  \n",
       "2         4  "
      ]
     },
     "execution_count": 2,
     "metadata": {},
     "output_type": "execute_result"
    }
   ],
   "source": [
    "ap20 = pd.read_csv('2020.csv')\n",
    "ap20 = ap20[ap20['ap_type']!='이동형']\n",
    "ap20.head(3)"
   ]
  },
  {
   "cell_type": "markdown",
   "metadata": {},
   "source": [
    "#### 2.2. 2021년 와이파이 접속 데이터"
   ]
  },
  {
   "cell_type": "code",
   "execution_count": 3,
   "metadata": {},
   "outputs": [
    {
     "name": "stderr",
     "output_type": "stream",
     "text": [
      "C:\\Users\\CPB06GameN\\anaconda3\\lib\\site-packages\\IPython\\core\\interactiveshell.py:3165: DtypeWarning: Columns (12,13,14,17) have mixed types.Specify dtype option on import or set low_memory=False.\n",
      "  has_raised = await self.run_ast_nodes(code_ast.body, cell_name,\n"
     ]
    },
    {
     "data": {
      "text/html": [
       "<div>\n",
       "<style scoped>\n",
       "    .dataframe tbody tr th:only-of-type {\n",
       "        vertical-align: middle;\n",
       "    }\n",
       "\n",
       "    .dataframe tbody tr th {\n",
       "        vertical-align: top;\n",
       "    }\n",
       "\n",
       "    .dataframe thead th {\n",
       "        text-align: right;\n",
       "    }\n",
       "</style>\n",
       "<table border=\"1\" class=\"dataframe\">\n",
       "  <thead>\n",
       "    <tr style=\"text-align: right;\">\n",
       "      <th></th>\n",
       "      <th>base_date</th>\n",
       "      <th>user_id</th>\n",
       "      <th>mac_address</th>\n",
       "      <th>upload</th>\n",
       "      <th>download</th>\n",
       "      <th>session_time</th>\n",
       "      <th>nationality</th>\n",
       "      <th>province</th>\n",
       "      <th>gender</th>\n",
       "      <th>age</th>\n",
       "      <th>visit_type</th>\n",
       "      <th>ap_type</th>\n",
       "      <th>ap_category</th>\n",
       "      <th>ap_place</th>\n",
       "      <th>ap_place_detail</th>\n",
       "      <th>ap_latitude</th>\n",
       "      <th>ap_longitude</th>\n",
       "      <th>ap_address_detail</th>\n",
       "      <th>pt_year</th>\n",
       "      <th>pt_month</th>\n",
       "    </tr>\n",
       "  </thead>\n",
       "  <tbody>\n",
       "    <tr>\n",
       "      <th>1</th>\n",
       "      <td>20210401</td>\n",
       "      <td>d5ac5703133e9131c93b5033df85b3ab02fff9e93db95a...</td>\n",
       "      <td>e3b0c44298fc1c149afbf4c8996fb92427ae41e4649b93...</td>\n",
       "      <td>4442</td>\n",
       "      <td>11974</td>\n",
       "      <td>3</td>\n",
       "      <td>대한민국</td>\n",
       "      <td>NaN</td>\n",
       "      <td>남성</td>\n",
       "      <td>40</td>\n",
       "      <td>거주</td>\n",
       "      <td>알수없음</td>\n",
       "      <td>NaN</td>\n",
       "      <td>NaN</td>\n",
       "      <td>NaN</td>\n",
       "      <td>NaN</td>\n",
       "      <td>NaN</td>\n",
       "      <td>NaN</td>\n",
       "      <td>2021</td>\n",
       "      <td>4</td>\n",
       "    </tr>\n",
       "    <tr>\n",
       "      <th>2</th>\n",
       "      <td>20210401</td>\n",
       "      <td>d5ac5703133e9131c93b5033df85b3ab02fff9e93db95a...</td>\n",
       "      <td>e3b0c44298fc1c149afbf4c8996fb92427ae41e4649b93...</td>\n",
       "      <td>23654</td>\n",
       "      <td>44620</td>\n",
       "      <td>280</td>\n",
       "      <td>대한민국</td>\n",
       "      <td>NaN</td>\n",
       "      <td>남성</td>\n",
       "      <td>40</td>\n",
       "      <td>거주</td>\n",
       "      <td>알수없음</td>\n",
       "      <td>NaN</td>\n",
       "      <td>NaN</td>\n",
       "      <td>NaN</td>\n",
       "      <td>NaN</td>\n",
       "      <td>NaN</td>\n",
       "      <td>NaN</td>\n",
       "      <td>2021</td>\n",
       "      <td>4</td>\n",
       "    </tr>\n",
       "    <tr>\n",
       "      <th>3</th>\n",
       "      <td>20210401</td>\n",
       "      <td>e761f66cca15d9cbe277c54600ba7aa1970eea13457e1a...</td>\n",
       "      <td>e3b0c44298fc1c149afbf4c8996fb92427ae41e4649b93...</td>\n",
       "      <td>95827</td>\n",
       "      <td>355731</td>\n",
       "      <td>426</td>\n",
       "      <td>대한민국</td>\n",
       "      <td>NaN</td>\n",
       "      <td>남성</td>\n",
       "      <td>20</td>\n",
       "      <td>관광</td>\n",
       "      <td>알수없음</td>\n",
       "      <td>NaN</td>\n",
       "      <td>NaN</td>\n",
       "      <td>NaN</td>\n",
       "      <td>NaN</td>\n",
       "      <td>NaN</td>\n",
       "      <td>NaN</td>\n",
       "      <td>2021</td>\n",
       "      <td>4</td>\n",
       "    </tr>\n",
       "  </tbody>\n",
       "</table>\n",
       "</div>"
      ],
      "text/plain": [
       "   base_date                                            user_id  \\\n",
       "1   20210401  d5ac5703133e9131c93b5033df85b3ab02fff9e93db95a...   \n",
       "2   20210401  d5ac5703133e9131c93b5033df85b3ab02fff9e93db95a...   \n",
       "3   20210401  e761f66cca15d9cbe277c54600ba7aa1970eea13457e1a...   \n",
       "\n",
       "                                         mac_address  upload  download  \\\n",
       "1  e3b0c44298fc1c149afbf4c8996fb92427ae41e4649b93...    4442     11974   \n",
       "2  e3b0c44298fc1c149afbf4c8996fb92427ae41e4649b93...   23654     44620   \n",
       "3  e3b0c44298fc1c149afbf4c8996fb92427ae41e4649b93...   95827    355731   \n",
       "\n",
       "   session_time nationality province gender  age visit_type ap_type  \\\n",
       "1             3        대한민국      NaN     남성   40         거주    알수없음   \n",
       "2           280        대한민국      NaN     남성   40         거주    알수없음   \n",
       "3           426        대한민국      NaN     남성   20         관광    알수없음   \n",
       "\n",
       "  ap_category ap_place ap_place_detail  ap_latitude  ap_longitude  \\\n",
       "1         NaN      NaN             NaN          NaN           NaN   \n",
       "2         NaN      NaN             NaN          NaN           NaN   \n",
       "3         NaN      NaN             NaN          NaN           NaN   \n",
       "\n",
       "  ap_address_detail  pt_year  pt_month  \n",
       "1               NaN     2021         4  \n",
       "2               NaN     2021         4  \n",
       "3               NaN     2021         4  "
      ]
     },
     "execution_count": 3,
     "metadata": {},
     "output_type": "execute_result"
    }
   ],
   "source": [
    "ap21 = pd.read_csv('2021.csv')\n",
    "ap21 = ap21[ap21['ap_type']!='이동형']\n",
    "ap21.head(3)"
   ]
  },
  {
   "cell_type": "markdown",
   "metadata": {},
   "source": [
    "#### 2.3. 고정형 AP 18,19,20년 데이터"
   ]
  },
  {
   "cell_type": "code",
   "execution_count": 6,
   "metadata": {},
   "outputs": [],
   "source": [
    "fixed1819 = pd.read_csv('fixed 1819.csv')\n",
    "fixed20 = pd.read_csv('fixed 2020.csv')"
   ]
  },
  {
   "cell_type": "code",
   "execution_count": 7,
   "metadata": {},
   "outputs": [
    {
     "data": {
      "text/html": [
       "<div>\n",
       "<style scoped>\n",
       "    .dataframe tbody tr th:only-of-type {\n",
       "        vertical-align: middle;\n",
       "    }\n",
       "\n",
       "    .dataframe tbody tr th {\n",
       "        vertical-align: top;\n",
       "    }\n",
       "\n",
       "    .dataframe thead th {\n",
       "        text-align: right;\n",
       "    }\n",
       "</style>\n",
       "<table border=\"1\" class=\"dataframe\">\n",
       "  <thead>\n",
       "    <tr style=\"text-align: right;\">\n",
       "      <th></th>\n",
       "      <th>base_date</th>\n",
       "      <th>mac_address</th>\n",
       "      <th>ap_install_place</th>\n",
       "      <th>install_location_detail</th>\n",
       "      <th>open_date</th>\n",
       "      <th>category</th>\n",
       "      <th>address_dong</th>\n",
       "      <th>address_detail</th>\n",
       "      <th>latitude</th>\n",
       "      <th>longitude</th>\n",
       "      <th>pt_year</th>\n",
       "      <th>pt_month</th>\n",
       "    </tr>\n",
       "  </thead>\n",
       "  <tbody>\n",
       "    <tr>\n",
       "      <th>0</th>\n",
       "      <td>20180425</td>\n",
       "      <td>642302fd765e18121ad42a39f8d67f4ce5eecc17483506...</td>\n",
       "      <td>Yongyeon_B</td>\n",
       "      <td>-</td>\n",
       "      <td>NaN</td>\n",
       "      <td>-</td>\n",
       "      <td>- -</td>\n",
       "      <td>-</td>\n",
       "      <td>-</td>\n",
       "      <td>-</td>\n",
       "      <td>2018</td>\n",
       "      <td>4</td>\n",
       "    </tr>\n",
       "    <tr>\n",
       "      <th>1</th>\n",
       "      <td>20180425</td>\n",
       "      <td>def22302bc33e0a0906aefe20e52ca7ce5091d3e1be554...</td>\n",
       "      <td>SeosaraRoad_#2_NO46_B</td>\n",
       "      <td>-</td>\n",
       "      <td>NaN</td>\n",
       "      <td>-</td>\n",
       "      <td>- -</td>\n",
       "      <td>-</td>\n",
       "      <td>-</td>\n",
       "      <td>-</td>\n",
       "      <td>2018</td>\n",
       "      <td>4</td>\n",
       "    </tr>\n",
       "    <tr>\n",
       "      <th>2</th>\n",
       "      <td>20180425</td>\n",
       "      <td>788c15fe96dfd109c59be72bb263bfc9f4e93a8b6cbe49...</td>\n",
       "      <td>올인하우스</td>\n",
       "      <td>건물외벽 북</td>\n",
       "      <td>NaN</td>\n",
       "      <td>사설관광지</td>\n",
       "      <td>서귀포시 성산읍</td>\n",
       "      <td>서귀포시 성산읍 고성리 57</td>\n",
       "      <td>33.425779</td>\n",
       "      <td>126.931337</td>\n",
       "      <td>2018</td>\n",
       "      <td>4</td>\n",
       "    </tr>\n",
       "  </tbody>\n",
       "</table>\n",
       "</div>"
      ],
      "text/plain": [
       "   base_date                                        mac_address  \\\n",
       "0   20180425  642302fd765e18121ad42a39f8d67f4ce5eecc17483506...   \n",
       "1   20180425  def22302bc33e0a0906aefe20e52ca7ce5091d3e1be554...   \n",
       "2   20180425  788c15fe96dfd109c59be72bb263bfc9f4e93a8b6cbe49...   \n",
       "\n",
       "        ap_install_place install_location_detail open_date category  \\\n",
       "0             Yongyeon_B                       -       NaN        -   \n",
       "1  SeosaraRoad_#2_NO46_B                       -       NaN        -   \n",
       "2                  올인하우스                  건물외벽 북       NaN    사설관광지   \n",
       "\n",
       "  address_dong   address_detail   latitude   longitude  pt_year  pt_month  \n",
       "0          - -                -          -           -     2018         4  \n",
       "1          - -                -          -           -     2018         4  \n",
       "2     서귀포시 성산읍  서귀포시 성산읍 고성리 57  33.425779  126.931337     2018         4  "
      ]
     },
     "execution_count": 7,
     "metadata": {},
     "output_type": "execute_result"
    }
   ],
   "source": [
    "fixed1819.head(3)"
   ]
  },
  {
   "cell_type": "code",
   "execution_count": 8,
   "metadata": {},
   "outputs": [
    {
     "data": {
      "text/html": [
       "<div>\n",
       "<style scoped>\n",
       "    .dataframe tbody tr th:only-of-type {\n",
       "        vertical-align: middle;\n",
       "    }\n",
       "\n",
       "    .dataframe tbody tr th {\n",
       "        vertical-align: top;\n",
       "    }\n",
       "\n",
       "    .dataframe thead th {\n",
       "        text-align: right;\n",
       "    }\n",
       "</style>\n",
       "<table border=\"1\" class=\"dataframe\">\n",
       "  <thead>\n",
       "    <tr style=\"text-align: right;\">\n",
       "      <th></th>\n",
       "      <th>base_date</th>\n",
       "      <th>manage_no</th>\n",
       "      <th>mac_address</th>\n",
       "      <th>ap_group_name</th>\n",
       "      <th>install_location_detail</th>\n",
       "      <th>open_date</th>\n",
       "      <th>category</th>\n",
       "      <th>category_detail</th>\n",
       "      <th>address_dong</th>\n",
       "      <th>address_detail</th>\n",
       "      <th>latitude</th>\n",
       "      <th>longitude</th>\n",
       "      <th>pt_year</th>\n",
       "      <th>pt_month</th>\n",
       "    </tr>\n",
       "  </thead>\n",
       "  <tbody>\n",
       "    <tr>\n",
       "      <th>0</th>\n",
       "      <td>20200215</td>\n",
       "      <td>19-B0464</td>\n",
       "      <td>e3c2cffbac41cfd95b7acbec852d00aecfbdf7d5c059f0...</td>\n",
       "      <td>서귀포야구장</td>\n",
       "      <td>실내야구연습장</td>\n",
       "      <td>20191128</td>\n",
       "      <td>체육시설</td>\n",
       "      <td>체육시설</td>\n",
       "      <td>제주특별자치도 서귀포시 강정동</td>\n",
       "      <td>서귀포시 강정동 1552-3</td>\n",
       "      <td>33.260778</td>\n",
       "      <td>126.504462</td>\n",
       "      <td>2020</td>\n",
       "      <td>2</td>\n",
       "    </tr>\n",
       "    <tr>\n",
       "      <th>1</th>\n",
       "      <td>20200215</td>\n",
       "      <td>17-B0018</td>\n",
       "      <td>be5e5536d23a48a055c2f97b043e466a15340437476d7d...</td>\n",
       "      <td>엉또폭포</td>\n",
       "      <td>화장실 남</td>\n",
       "      <td>20170814</td>\n",
       "      <td>관광지</td>\n",
       "      <td>공영관광지</td>\n",
       "      <td>제주특별자치도 서귀포시 강정동</td>\n",
       "      <td>서귀포시 염돈로 121-6</td>\n",
       "      <td>33.265064</td>\n",
       "      <td>126.490320</td>\n",
       "      <td>2020</td>\n",
       "      <td>2</td>\n",
       "    </tr>\n",
       "    <tr>\n",
       "      <th>2</th>\n",
       "      <td>20200215</td>\n",
       "      <td>17-B0068</td>\n",
       "      <td>7807f89920f8154e7731f999c58fbc1124e2da3cd48286...</td>\n",
       "      <td>버스정류소_표선환승정류장(표선리사무소)[동]</td>\n",
       "      <td>버스정류장 상부</td>\n",
       "      <td>20170827</td>\n",
       "      <td>버스정류소</td>\n",
       "      <td>버스정류소</td>\n",
       "      <td>제주특별자치도 서귀포시 표선면 표선리</td>\n",
       "      <td>서귀포시 표선면 표선리 631-1</td>\n",
       "      <td>33.325341</td>\n",
       "      <td>126.832510</td>\n",
       "      <td>2020</td>\n",
       "      <td>2</td>\n",
       "    </tr>\n",
       "  </tbody>\n",
       "</table>\n",
       "</div>"
      ],
      "text/plain": [
       "   base_date manage_no                                        mac_address  \\\n",
       "0   20200215  19-B0464  e3c2cffbac41cfd95b7acbec852d00aecfbdf7d5c059f0...   \n",
       "1   20200215  17-B0018  be5e5536d23a48a055c2f97b043e466a15340437476d7d...   \n",
       "2   20200215  17-B0068  7807f89920f8154e7731f999c58fbc1124e2da3cd48286...   \n",
       "\n",
       "              ap_group_name install_location_detail open_date category  \\\n",
       "0                    서귀포야구장                 실내야구연습장  20191128     체육시설   \n",
       "1                      엉또폭포                   화장실 남  20170814      관광지   \n",
       "2  버스정류소_표선환승정류장(표선리사무소)[동]                버스정류장 상부  20170827    버스정류소   \n",
       "\n",
       "  category_detail          address_dong         address_detail   latitude  \\\n",
       "0            체육시설      제주특별자치도 서귀포시 강정동        서귀포시 강정동 1552-3  33.260778   \n",
       "1           공영관광지      제주특별자치도 서귀포시 강정동        서귀포시 염돈로 121-6   33.265064   \n",
       "2           버스정류소  제주특별자치도 서귀포시 표선면 표선리  서귀포시 표선면 표선리 631-1     33.325341   \n",
       "\n",
       "    longitude  pt_year  pt_month  \n",
       "0  126.504462     2020         2  \n",
       "1  126.490320     2020         2  \n",
       "2  126.832510     2020         2  "
      ]
     },
     "execution_count": 8,
     "metadata": {},
     "output_type": "execute_result"
    }
   ],
   "source": [
    "fixed20.head(3)"
   ]
  },
  {
   "cell_type": "markdown",
   "metadata": {},
   "source": [
    "### 3. 결측치 확인 및 처리"
   ]
  },
  {
   "cell_type": "code",
   "execution_count": 9,
   "metadata": {},
   "outputs": [
    {
     "data": {
      "text/plain": [
       "base_date              0\n",
       "user_id                0\n",
       "mac_address            0\n",
       "upload                 0\n",
       "download               0\n",
       "session_time           0\n",
       "nationality            6\n",
       "province        23526803\n",
       "gender                 0\n",
       "age                    0\n",
       "visit_type        745585\n",
       "ap_type                0\n",
       "pt_year                0\n",
       "pt_month               0\n",
       "dtype: int64"
      ]
     },
     "execution_count": 9,
     "metadata": {},
     "output_type": "execute_result"
    }
   ],
   "source": [
    "ap20.isna().sum()"
   ]
  },
  {
   "cell_type": "code",
   "execution_count": 10,
   "metadata": {},
   "outputs": [
    {
     "data": {
      "text/plain": [
       "base_date              0\n",
       "user_id                0\n",
       "mac_address            0\n",
       "upload                 0\n",
       "download               0\n",
       "session_time           0\n",
       "nationality            6\n",
       "province        23526803\n",
       "gender                 0\n",
       "age                    0\n",
       "visit_type        745585\n",
       "ap_type                0\n",
       "pt_year                0\n",
       "pt_month               0\n",
       "dtype: int64"
      ]
     },
     "execution_count": 10,
     "metadata": {},
     "output_type": "execute_result"
    }
   ],
   "source": [
    "ap21.isna().sum()"
   ]
  },
  {
   "cell_type": "code",
   "execution_count": 11,
   "metadata": {},
   "outputs": [
    {
     "data": {
      "text/plain": [
       "base_date                     0\n",
       "mac_address                   0\n",
       "ap_install_place              0\n",
       "install_location_detail       0\n",
       "open_date                  2341\n",
       "category                     32\n",
       "address_dong                  0\n",
       "address_detail                0\n",
       "latitude                      0\n",
       "longitude                     0\n",
       "pt_year                       0\n",
       "pt_month                      0\n",
       "dtype: int64"
      ]
     },
     "execution_count": 11,
     "metadata": {},
     "output_type": "execute_result"
    }
   ],
   "source": [
    "fixed1819.isna().sum()"
   ]
  },
  {
   "cell_type": "code",
   "execution_count": 12,
   "metadata": {},
   "outputs": [
    {
     "data": {
      "text/plain": [
       "base_date                   0\n",
       "manage_no                   0\n",
       "mac_address                 0\n",
       "ap_group_name               0\n",
       "install_location_detail     2\n",
       "open_date                   0\n",
       "category                    0\n",
       "category_detail            22\n",
       "address_dong                4\n",
       "address_detail              0\n",
       "latitude                    0\n",
       "longitude                   0\n",
       "pt_year                     0\n",
       "pt_month                    0\n",
       "dtype: int64"
      ]
     },
     "execution_count": 12,
     "metadata": {},
     "output_type": "execute_result"
    }
   ],
   "source": [
    "fixed20.isna().sum()"
   ]
  },
  {
   "cell_type": "markdown",
   "metadata": {},
   "source": [
    "총 35,321,598개 중 23,526,803개의 결측치를 갖는 **province** 열 삭제 "
   ]
  },
  {
   "cell_type": "code",
   "execution_count": 13,
   "metadata": {},
   "outputs": [],
   "source": [
    "ap20 = ap20.drop(['province'], axis=1)\n",
    "ap21 = ap21.drop(['province'], axis=1)"
   ]
  },
  {
   "cell_type": "markdown",
   "metadata": {},
   "source": [
    "총 35,321,598개 중 5,131,162개 **ap21** 데이터프레임 결측치 대체 > (\"알 수 없음\")"
   ]
  },
  {
   "cell_type": "code",
   "execution_count": 4,
   "metadata": {},
   "outputs": [],
   "source": [
    "list = ['ap_category', 'ap_place', 'ap_place_detail', 'ap_latitude', 'ap_longitude', 'ap_address_detail']\n",
    "for i in list:\n",
    "    ap21[i].fillna('알 수 없음', inplace=True)"
   ]
  },
  {
   "cell_type": "markdown",
   "metadata": {},
   "source": [
    "### 3. 동일 mac_address로부터 주소지 정보를 2020년 데이터에 매핑"
   ]
  },
  {
   "cell_type": "markdown",
   "metadata": {},
   "source": [
    "### 4. 제주 동부 지역별( +서귀포 성산읍) 데이터프레임화"
   ]
  },
  {
   "cell_type": "code",
   "execution_count": null,
   "metadata": {},
   "outputs": [],
   "source": [
    "# # 우도면 \n",
    "# Udo_20 = ap20[ap20['ap_address_detail'].str.contains('우도', na=False)]\n",
    "# # 조천읍\n",
    "# Jocheon_20 = ap20[ap20['ap_address_detail'].str.contains('우도', na=False)]\n",
    "# # 구좌읍\n",
    "# Gujwa_20 = ap20[ap20['ap_address_detail'].str.contains('우도', na=False)]\n",
    "# # 서귀포 성산읍\n",
    "# Seongsan_20 = ap20[ap20['ap_address_detail'].str.contains('우도', na=False)]\n",
    "# # 구제주\n",
    "# Gujeju_20 = ap20[ap20['ap_address_detail'].str.contains('우도', na=False)]"
   ]
  },
  {
   "cell_type": "code",
   "execution_count": 8,
   "metadata": {},
   "outputs": [],
   "source": [
    "# 우도면 \n",
    "Udo_21 = ap21[ap21['ap_address_detail'].str.contains('우도', na=False)]\n",
    "# 조천읍\n",
    "Jocheon_21 = ap21[ap21['ap_address_detail'].str.contains('조천', na=False)]\n",
    "# 구좌읍\n",
    "Gujwa_21 = ap21[ap21['ap_address_detail'].str.contains('구좌', na=False)]\n",
    "# 서귀포 성산읍\n",
    "Seongsan_21 = ap21[ap21['ap_address_detail'].str.contains('성산', na=False)]\n",
    "# 구제주\n",
    "Gujeju_21 = ap21[ap21['ap_address_detail'].str.contains('일도|이도|삼도|용담|건입|도두|화북|삼양|아라|봉개', na=False)]"
   ]
  },
  {
   "cell_type": "markdown",
   "metadata": {},
   "source": [
    ">> 2021. 5,6,7,8 분석으로 우회"
   ]
  },
  {
   "cell_type": "markdown",
   "metadata": {},
   "source": []
  }
 ],
 "metadata": {
  "interpreter": {
   "hash": "c81169c30fb96244cfba0db287a0d3fd5325268de070a7a6116eecd4596df902"
  },
  "kernelspec": {
   "display_name": "Python 3.8.8 ('base')",
   "language": "python",
   "name": "python3"
  },
  "language_info": {
   "codemirror_mode": {
    "name": "ipython",
    "version": 3
   },
   "file_extension": ".py",
   "mimetype": "text/x-python",
   "name": "python",
   "nbconvert_exporter": "python",
   "pygments_lexer": "ipython3",
   "version": "3.8.8"
  },
  "orig_nbformat": 4
 },
 "nbformat": 4,
 "nbformat_minor": 2
}
