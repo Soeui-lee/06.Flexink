{
 "cells": [
  {
   "cell_type": "markdown",
   "metadata": {},
   "source": [
    "## 제주 공공 와이파이 데이터 분석 (동부)"
   ]
  },
  {
   "cell_type": "markdown",
   "metadata": {},
   "source": [
    "동부 : 구제주, 제주시 조천읍, 구좌읍, 우도면, 서귀포시 성산읍"
   ]
  },
  {
   "cell_type": "code",
   "execution_count": 1,
   "metadata": {},
   "outputs": [],
   "source": [
    "import numpy as np \n",
    "import pandas as pd "
   ]
  },
  {
   "cell_type": "markdown",
   "metadata": {},
   "source": [
    "### 1. 버스(이동형) 와이파이 제외한 공공 와이파이 데이터 추출"
   ]
  },
  {
   "cell_type": "markdown",
   "metadata": {},
   "source": [
    "wifi 접속 데이터"
   ]
  },
  {
   "cell_type": "code",
   "execution_count": 2,
   "metadata": {},
   "outputs": [
    {
     "data": {
      "text/html": [
       "<div>\n",
       "<style scoped>\n",
       "    .dataframe tbody tr th:only-of-type {\n",
       "        vertical-align: middle;\n",
       "    }\n",
       "\n",
       "    .dataframe tbody tr th {\n",
       "        vertical-align: top;\n",
       "    }\n",
       "\n",
       "    .dataframe thead th {\n",
       "        text-align: right;\n",
       "    }\n",
       "</style>\n",
       "<table border=\"1\" class=\"dataframe\">\n",
       "  <thead>\n",
       "    <tr style=\"text-align: right;\">\n",
       "      <th></th>\n",
       "      <th>base_date</th>\n",
       "      <th>user_id</th>\n",
       "      <th>mac_address</th>\n",
       "      <th>upload</th>\n",
       "      <th>download</th>\n",
       "      <th>session_time</th>\n",
       "      <th>nationality</th>\n",
       "      <th>province</th>\n",
       "      <th>gender</th>\n",
       "      <th>age</th>\n",
       "      <th>visit_type</th>\n",
       "      <th>ap_type</th>\n",
       "      <th>ap_category</th>\n",
       "      <th>ap_place</th>\n",
       "      <th>ap_place_detail</th>\n",
       "      <th>ap_latitude</th>\n",
       "      <th>ap_longitude</th>\n",
       "      <th>ap_address_detail</th>\n",
       "      <th>pt_year</th>\n",
       "      <th>pt_month</th>\n",
       "    </tr>\n",
       "  </thead>\n",
       "  <tbody>\n",
       "    <tr>\n",
       "      <th>1</th>\n",
       "      <td>20210410</td>\n",
       "      <td>0a5a417e7f5f88f4ee017504d6421c2083be1dec8f5cdf...</td>\n",
       "      <td>e3b0c44298fc1c149afbf4c8996fb92427ae41e4649b93...</td>\n",
       "      <td>282838</td>\n",
       "      <td>1230236</td>\n",
       "      <td>1198</td>\n",
       "      <td>대한민국</td>\n",
       "      <td>NaN</td>\n",
       "      <td>남성</td>\n",
       "      <td>40</td>\n",
       "      <td>거주</td>\n",
       "      <td>알수없음</td>\n",
       "      <td>NaN</td>\n",
       "      <td>NaN</td>\n",
       "      <td>NaN</td>\n",
       "      <td>NaN</td>\n",
       "      <td>NaN</td>\n",
       "      <td>NaN</td>\n",
       "      <td>2021</td>\n",
       "      <td>4</td>\n",
       "    </tr>\n",
       "    <tr>\n",
       "      <th>2</th>\n",
       "      <td>20210410</td>\n",
       "      <td>0a5a417e7f5f88f4ee017504d6421c2083be1dec8f5cdf...</td>\n",
       "      <td>e3b0c44298fc1c149afbf4c8996fb92427ae41e4649b93...</td>\n",
       "      <td>10859</td>\n",
       "      <td>8799</td>\n",
       "      <td>52</td>\n",
       "      <td>대한민국</td>\n",
       "      <td>NaN</td>\n",
       "      <td>남성</td>\n",
       "      <td>40</td>\n",
       "      <td>거주</td>\n",
       "      <td>알수없음</td>\n",
       "      <td>NaN</td>\n",
       "      <td>NaN</td>\n",
       "      <td>NaN</td>\n",
       "      <td>NaN</td>\n",
       "      <td>NaN</td>\n",
       "      <td>NaN</td>\n",
       "      <td>2021</td>\n",
       "      <td>4</td>\n",
       "    </tr>\n",
       "    <tr>\n",
       "      <th>3</th>\n",
       "      <td>20210410</td>\n",
       "      <td>d5ac5703133e9131c93b5033df85b3ab02fff9e93db95a...</td>\n",
       "      <td>e3b0c44298fc1c149afbf4c8996fb92427ae41e4649b93...</td>\n",
       "      <td>70074</td>\n",
       "      <td>124090</td>\n",
       "      <td>1672</td>\n",
       "      <td>대한민국</td>\n",
       "      <td>NaN</td>\n",
       "      <td>남성</td>\n",
       "      <td>40</td>\n",
       "      <td>거주</td>\n",
       "      <td>알수없음</td>\n",
       "      <td>NaN</td>\n",
       "      <td>NaN</td>\n",
       "      <td>NaN</td>\n",
       "      <td>NaN</td>\n",
       "      <td>NaN</td>\n",
       "      <td>NaN</td>\n",
       "      <td>2021</td>\n",
       "      <td>4</td>\n",
       "    </tr>\n",
       "  </tbody>\n",
       "</table>\n",
       "</div>"
      ],
      "text/plain": [
       "   base_date                                            user_id  \\\n",
       "1   20210410  0a5a417e7f5f88f4ee017504d6421c2083be1dec8f5cdf...   \n",
       "2   20210410  0a5a417e7f5f88f4ee017504d6421c2083be1dec8f5cdf...   \n",
       "3   20210410  d5ac5703133e9131c93b5033df85b3ab02fff9e93db95a...   \n",
       "\n",
       "                                         mac_address  upload  download  \\\n",
       "1  e3b0c44298fc1c149afbf4c8996fb92427ae41e4649b93...  282838   1230236   \n",
       "2  e3b0c44298fc1c149afbf4c8996fb92427ae41e4649b93...   10859      8799   \n",
       "3  e3b0c44298fc1c149afbf4c8996fb92427ae41e4649b93...   70074    124090   \n",
       "\n",
       "   session_time nationality province gender  age visit_type ap_type  \\\n",
       "1          1198        대한민국      NaN     남성   40         거주    알수없음   \n",
       "2            52        대한민국      NaN     남성   40         거주    알수없음   \n",
       "3          1672        대한민국      NaN     남성   40         거주    알수없음   \n",
       "\n",
       "  ap_category ap_place ap_place_detail  ap_latitude  ap_longitude  \\\n",
       "1         NaN      NaN             NaN          NaN           NaN   \n",
       "2         NaN      NaN             NaN          NaN           NaN   \n",
       "3         NaN      NaN             NaN          NaN           NaN   \n",
       "\n",
       "  ap_address_detail  pt_year  pt_month  \n",
       "1               NaN     2021         4  \n",
       "2               NaN     2021         4  \n",
       "3               NaN     2021         4  "
      ]
     },
     "execution_count": 2,
     "metadata": {},
     "output_type": "execute_result"
    }
   ],
   "source": [
    "log_ = pd.read_csv('ap_acct_210410.csv')\n",
    "log = log_[log_['ap_type']!='이동형']\n",
    "fixed = pd.read_csv('fixed 2020.csv')\n",
    "log.head(3)"
   ]
  },
  {
   "cell_type": "markdown",
   "metadata": {},
   "source": [
    "wifi AP 데이터"
   ]
  },
  {
   "cell_type": "code",
   "execution_count": 3,
   "metadata": {},
   "outputs": [
    {
     "data": {
      "text/html": [
       "<div>\n",
       "<style scoped>\n",
       "    .dataframe tbody tr th:only-of-type {\n",
       "        vertical-align: middle;\n",
       "    }\n",
       "\n",
       "    .dataframe tbody tr th {\n",
       "        vertical-align: top;\n",
       "    }\n",
       "\n",
       "    .dataframe thead th {\n",
       "        text-align: right;\n",
       "    }\n",
       "</style>\n",
       "<table border=\"1\" class=\"dataframe\">\n",
       "  <thead>\n",
       "    <tr style=\"text-align: right;\">\n",
       "      <th></th>\n",
       "      <th>base_date</th>\n",
       "      <th>manage_no</th>\n",
       "      <th>mac_address</th>\n",
       "      <th>ap_group_name</th>\n",
       "      <th>install_location_detail</th>\n",
       "      <th>open_date</th>\n",
       "      <th>category</th>\n",
       "      <th>category_detail</th>\n",
       "      <th>address_dong</th>\n",
       "      <th>address_detail</th>\n",
       "      <th>latitude</th>\n",
       "      <th>longitude</th>\n",
       "      <th>pt_year</th>\n",
       "      <th>pt_month</th>\n",
       "    </tr>\n",
       "  </thead>\n",
       "  <tbody>\n",
       "    <tr>\n",
       "      <th>0</th>\n",
       "      <td>20200215</td>\n",
       "      <td>19-B0464</td>\n",
       "      <td>e3c2cffbac41cfd95b7acbec852d00aecfbdf7d5c059f0...</td>\n",
       "      <td>서귀포야구장</td>\n",
       "      <td>실내야구연습장</td>\n",
       "      <td>20191128</td>\n",
       "      <td>체육시설</td>\n",
       "      <td>체육시설</td>\n",
       "      <td>제주특별자치도 서귀포시 강정동</td>\n",
       "      <td>서귀포시 강정동 1552-3</td>\n",
       "      <td>33.260778</td>\n",
       "      <td>126.504462</td>\n",
       "      <td>2020</td>\n",
       "      <td>2</td>\n",
       "    </tr>\n",
       "    <tr>\n",
       "      <th>1</th>\n",
       "      <td>20200215</td>\n",
       "      <td>17-B0018</td>\n",
       "      <td>be5e5536d23a48a055c2f97b043e466a15340437476d7d...</td>\n",
       "      <td>엉또폭포</td>\n",
       "      <td>화장실 남</td>\n",
       "      <td>20170814</td>\n",
       "      <td>관광지</td>\n",
       "      <td>공영관광지</td>\n",
       "      <td>제주특별자치도 서귀포시 강정동</td>\n",
       "      <td>서귀포시 염돈로 121-6</td>\n",
       "      <td>33.265064</td>\n",
       "      <td>126.490320</td>\n",
       "      <td>2020</td>\n",
       "      <td>2</td>\n",
       "    </tr>\n",
       "    <tr>\n",
       "      <th>2</th>\n",
       "      <td>20200215</td>\n",
       "      <td>17-B0068</td>\n",
       "      <td>7807f89920f8154e7731f999c58fbc1124e2da3cd48286...</td>\n",
       "      <td>버스정류소_표선환승정류장(표선리사무소)[동]</td>\n",
       "      <td>버스정류장 상부</td>\n",
       "      <td>20170827</td>\n",
       "      <td>버스정류소</td>\n",
       "      <td>버스정류소</td>\n",
       "      <td>제주특별자치도 서귀포시 표선면 표선리</td>\n",
       "      <td>서귀포시 표선면 표선리 631-1</td>\n",
       "      <td>33.325341</td>\n",
       "      <td>126.832510</td>\n",
       "      <td>2020</td>\n",
       "      <td>2</td>\n",
       "    </tr>\n",
       "  </tbody>\n",
       "</table>\n",
       "</div>"
      ],
      "text/plain": [
       "   base_date manage_no                                        mac_address  \\\n",
       "0   20200215  19-B0464  e3c2cffbac41cfd95b7acbec852d00aecfbdf7d5c059f0...   \n",
       "1   20200215  17-B0018  be5e5536d23a48a055c2f97b043e466a15340437476d7d...   \n",
       "2   20200215  17-B0068  7807f89920f8154e7731f999c58fbc1124e2da3cd48286...   \n",
       "\n",
       "              ap_group_name install_location_detail open_date category  \\\n",
       "0                    서귀포야구장                 실내야구연습장  20191128     체육시설   \n",
       "1                      엉또폭포                   화장실 남  20170814      관광지   \n",
       "2  버스정류소_표선환승정류장(표선리사무소)[동]                버스정류장 상부  20170827    버스정류소   \n",
       "\n",
       "  category_detail          address_dong         address_detail   latitude  \\\n",
       "0            체육시설      제주특별자치도 서귀포시 강정동        서귀포시 강정동 1552-3  33.260778   \n",
       "1           공영관광지      제주특별자치도 서귀포시 강정동        서귀포시 염돈로 121-6   33.265064   \n",
       "2           버스정류소  제주특별자치도 서귀포시 표선면 표선리  서귀포시 표선면 표선리 631-1     33.325341   \n",
       "\n",
       "    longitude  pt_year  pt_month  \n",
       "0  126.504462     2020         2  \n",
       "1  126.490320     2020         2  \n",
       "2  126.832510     2020         2  "
      ]
     },
     "execution_count": 3,
     "metadata": {},
     "output_type": "execute_result"
    }
   ],
   "source": [
    "fixed.head(3)"
   ]
  },
  {
   "cell_type": "code",
   "execution_count": 4,
   "metadata": {},
   "outputs": [
    {
     "data": {
      "text/plain": [
       "base_date                 0\n",
       "user_id                   0\n",
       "mac_address               0\n",
       "upload                    0\n",
       "download                  0\n",
       "session_time              0\n",
       "nationality               0\n",
       "province             211035\n",
       "gender                    0\n",
       "age                       0\n",
       "visit_type                0\n",
       "ap_type                   0\n",
       "ap_category            1895\n",
       "ap_place               1895\n",
       "ap_place_detail        1895\n",
       "ap_latitude            1895\n",
       "ap_longitude           1895\n",
       "ap_address_detail      1895\n",
       "pt_year                   0\n",
       "pt_month                  0\n",
       "dtype: int64"
      ]
     },
     "execution_count": 4,
     "metadata": {},
     "output_type": "execute_result"
    }
   ],
   "source": [
    "# 결측치 확인 \n",
    "log.isna().sum()"
   ]
  },
  {
   "cell_type": "code",
   "execution_count": 5,
   "metadata": {},
   "outputs": [
    {
     "data": {
      "text/plain": [
       "base_date                   0\n",
       "manage_no                   0\n",
       "mac_address                 0\n",
       "ap_group_name               0\n",
       "install_location_detail     2\n",
       "open_date                   0\n",
       "category                    0\n",
       "category_detail            22\n",
       "address_dong                4\n",
       "address_detail              0\n",
       "latitude                    0\n",
       "longitude                   0\n",
       "pt_year                     0\n",
       "pt_month                    0\n",
       "dtype: int64"
      ]
     },
     "execution_count": 5,
     "metadata": {},
     "output_type": "execute_result"
    }
   ],
   "source": [
    "fixed.isna().sum()"
   ]
  },
  {
   "cell_type": "markdown",
   "metadata": {},
   "source": [
    "### 2. 결측치 처리"
   ]
  },
  {
   "cell_type": "markdown",
   "metadata": {},
   "source": [
    "총 226927개 중 211035개의 결측치를 갖는 log **province 열 삭제**"
   ]
  },
  {
   "cell_type": "code",
   "execution_count": 6,
   "metadata": {},
   "outputs": [],
   "source": [
    "log = log.drop(['province'], axis=1)"
   ]
  },
  {
   "cell_type": "markdown",
   "metadata": {},
   "source": [
    "총 226927개 중 1895개의 결측치를 갖는 **ap 관련 데이터 프레임 행 삭제**"
   ]
  },
  {
   "cell_type": "code",
   "execution_count": 7,
   "metadata": {},
   "outputs": [
    {
     "name": "stdout",
     "output_type": "stream",
     "text": [
      "[nan]\n",
      "[nan]\n",
      "[nan]\n",
      "[nan]\n",
      "[nan]\n"
     ]
    }
   ],
   "source": [
    "# 1895개가 모두 동일한 데이터인지 확인 \n",
    "\n",
    "list = ['ap_place', 'ap_place_detail', 'ap_latitude', 'ap_longitude', 'ap_address_detail']\n",
    "\n",
    "for i in list:\n",
    "    print(log[log['ap_category'].isna()==True][i].unique())\n",
    "  "
   ]
  },
  {
   "cell_type": "code",
   "execution_count": 8,
   "metadata": {},
   "outputs": [],
   "source": [
    "list = ['ap_category', 'ap_place', 'ap_place_detail', 'ap_latitude', 'ap_longitude', 'ap_address_detail']\n",
    "for i in list:\n",
    "    log[i].fillna('알수없음', inplace=True)"
   ]
  },
  {
   "cell_type": "markdown",
   "metadata": {},
   "source": [
    "### 3. 동부 지역별 데이터프레임화\n"
   ]
  },
  {
   "cell_type": "code",
   "execution_count": 9,
   "metadata": {},
   "outputs": [],
   "source": [
    "# ap_address_detail(ap 주소) col 결측치 'X'로 대체\n",
    "log['ap_address_detail'].fillna('X', inplace=True)"
   ]
  },
  {
   "cell_type": "code",
   "execution_count": 10,
   "metadata": {},
   "outputs": [],
   "source": [
    "# 우도면\n",
    "Udo = log[log['ap_address_detail'].str.contains('우도')]\n",
    "# 조천읍\n",
    "Jocheon = log[log['ap_address_detail'].str.contains('조천')]\n",
    "# 구좌읍 \n",
    "Gujwa = log[log['ap_address_detail'].str.contains('구좌')]\n",
    "# 성산읍(서귀포까지)\n",
    "Seongsan = log[log['ap_address_detail'].str.contains('성산')]\n",
    "\n",
    "# 신제주(Gu_jeju)\n",
    "engs = ['do', 'yong', 'one', 'two', 'hwa', 'sheep', 'ara', 'bong', 'three', 'gun']\n",
    "kors = ['도두', '용담', '일도', '이도', '화북', '삼양', '아라', '봉개', '삼도', '건입']\n",
    "list = []\n",
    "\n",
    "for eng in engs:\n",
    "    for kor in kors:\n",
    "        eng = log[log['ap_address_detail'].str.contains(kor)]\n",
    "        list.append(eng)\n",
    "\n",
    "for i in range(1,10):\n",
    "    list[0] = pd.concat([list[0], list[i]]) \n",
    "\n",
    "Gu_jeju = list[0]"
   ]
  },
  {
   "cell_type": "markdown",
   "metadata": {},
   "source": [
    "### 4. 동일 관광지로 그룹화"
   ]
  },
  {
   "cell_type": "code",
   "execution_count": 11,
   "metadata": {},
   "outputs": [],
   "source": [
    "# 보류"
   ]
  },
  {
   "cell_type": "markdown",
   "metadata": {},
   "source": [
    "### 5. 같은 코스의 user_id > 같은 유형으로 간주"
   ]
  },
  {
   "cell_type": "markdown",
   "metadata": {},
   "source": [
    "- have to be **exactly the same** so that you can consider those ids are the same travelling group\n",
    "- but **except id who have under 3 course** for avoiding coincidence "
   ]
  },
  {
   "cell_type": "code",
   "execution_count": 12,
   "metadata": {},
   "outputs": [
    {
     "data": {
      "text/plain": [
       "array(['0a5a417e7f5f88f4ee017504d6421c2083be1dec8f5cdf4b499baead5d347c09',\n",
       "       'd5ac5703133e9131c93b5033df85b3ab02fff9e93db95a17c2db3da42bc422d7',\n",
       "       '94ca36d62db291c2962b0d89570589a17139f464eadb75819d276ba67a7c0aa6',\n",
       "       ...,\n",
       "       '56ae3b4f9e2bffd04e2a3e2e3a0ea3ba76ea84fca2dd817ab3841c2d7038bad5',\n",
       "       '528c57070e2db24302ff2fbdb4805e08f1a612b77ebb5dc6aa14a95614888d62',\n",
       "       '662c9e8cc6384c89482df0b2f02adee6d764fc59fec23b0abc66057a790b018e'],\n",
       "      dtype=object)"
      ]
     },
     "execution_count": 12,
     "metadata": {},
     "output_type": "execute_result"
    }
   ],
   "source": [
    "log['user_id'].unique()"
   ]
  },
  {
   "cell_type": "code",
   "execution_count": 13,
   "metadata": {},
   "outputs": [
    {
     "data": {
      "text/plain": [
       "'전기차충전소_제주시청'"
      ]
     },
     "execution_count": 13,
     "metadata": {},
     "output_type": "execute_result"
    }
   ],
   "source": [
    "course = (log[log['user_id']=='56ae3b4f9e2bffd04e2a3e2e3a0ea3ba76ea84fca2dd817ab3841c2d7038bad5']['ap_place'].unique())\n",
    "course[0]"
   ]
  },
  {
   "cell_type": "code",
   "execution_count": 14,
   "metadata": {},
   "outputs": [
    {
     "data": {
      "text/plain": [
       "'0a5a417e7f5f88f4ee017504d6421c2083be1dec8f5cdf4b499baead5d347c09'"
      ]
     },
     "execution_count": 14,
     "metadata": {},
     "output_type": "execute_result"
    }
   ],
   "source": [
    "log['user_id'].unique()[0]"
   ]
  },
  {
   "cell_type": "code",
   "execution_count": 15,
   "metadata": {},
   "outputs": [
    {
     "ename": "KeyboardInterrupt",
     "evalue": "",
     "output_type": "error",
     "traceback": [
      "\u001b[1;31m---------------------------------------------------------------------------\u001b[0m",
      "\u001b[1;31mKeyboardInterrupt\u001b[0m                         Traceback (most recent call last)",
      "\u001b[1;32m<ipython-input-15-e7ca22e26387>\u001b[0m in \u001b[0;36m<module>\u001b[1;34m\u001b[0m\n\u001b[0;32m      5\u001b[0m     \u001b[1;32mfor\u001b[0m \u001b[0mj\u001b[0m \u001b[1;32min\u001b[0m \u001b[0mrange\u001b[0m\u001b[1;33m(\u001b[0m\u001b[1;36m14753\u001b[0m\u001b[1;33m)\u001b[0m\u001b[1;33m:\u001b[0m\u001b[1;33m\u001b[0m\u001b[1;33m\u001b[0m\u001b[0m\n\u001b[0;32m      6\u001b[0m         \u001b[1;32mif\u001b[0m \u001b[0mlen\u001b[0m\u001b[1;33m(\u001b[0m\u001b[0mlog\u001b[0m\u001b[1;33m[\u001b[0m\u001b[0mlog\u001b[0m\u001b[1;33m[\u001b[0m\u001b[1;34m'user_id'\u001b[0m\u001b[1;33m]\u001b[0m\u001b[1;33m==\u001b[0m \u001b[0mi\u001b[0m\u001b[1;33m]\u001b[0m\u001b[1;33m[\u001b[0m\u001b[1;34m'ap_place'\u001b[0m\u001b[1;33m]\u001b[0m\u001b[1;33m.\u001b[0m\u001b[0munique\u001b[0m\u001b[1;33m(\u001b[0m\u001b[1;33m)\u001b[0m\u001b[1;33m)\u001b[0m \u001b[1;33m>\u001b[0m \u001b[1;36m3\u001b[0m\u001b[1;33m:\u001b[0m\u001b[1;33m\u001b[0m\u001b[1;33m\u001b[0m\u001b[0m\n\u001b[1;32m----> 7\u001b[1;33m             \u001b[0mlist\u001b[0m\u001b[1;33m.\u001b[0m\u001b[0mappend\u001b[0m\u001b[1;33m(\u001b[0m\u001b[0mlog\u001b[0m\u001b[1;33m[\u001b[0m\u001b[0mlog\u001b[0m\u001b[1;33m[\u001b[0m\u001b[1;34m'user_id'\u001b[0m\u001b[1;33m]\u001b[0m\u001b[1;33m==\u001b[0m \u001b[0mi\u001b[0m\u001b[1;33m]\u001b[0m\u001b[1;33m)\u001b[0m\u001b[1;33m\u001b[0m\u001b[1;33m\u001b[0m\u001b[0m\n\u001b[0m\u001b[0;32m      8\u001b[0m         \u001b[1;32melse\u001b[0m \u001b[1;33m:\u001b[0m\u001b[1;33m\u001b[0m\u001b[1;33m\u001b[0m\u001b[0m\n\u001b[0;32m      9\u001b[0m             \u001b[1;32mpass\u001b[0m\u001b[1;33m\u001b[0m\u001b[1;33m\u001b[0m\u001b[0m\n",
      "\u001b[1;32m~\\anaconda3\\lib\\site-packages\\pandas\\core\\frame.py\u001b[0m in \u001b[0;36m__getitem__\u001b[1;34m(self, key)\u001b[0m\n\u001b[0;32m   3013\u001b[0m         \u001b[1;31m# Do we have a (boolean) 1d indexer?\u001b[0m\u001b[1;33m\u001b[0m\u001b[1;33m\u001b[0m\u001b[1;33m\u001b[0m\u001b[0m\n\u001b[0;32m   3014\u001b[0m         \u001b[1;32mif\u001b[0m \u001b[0mcom\u001b[0m\u001b[1;33m.\u001b[0m\u001b[0mis_bool_indexer\u001b[0m\u001b[1;33m(\u001b[0m\u001b[0mkey\u001b[0m\u001b[1;33m)\u001b[0m\u001b[1;33m:\u001b[0m\u001b[1;33m\u001b[0m\u001b[1;33m\u001b[0m\u001b[0m\n\u001b[1;32m-> 3015\u001b[1;33m             \u001b[1;32mreturn\u001b[0m \u001b[0mself\u001b[0m\u001b[1;33m.\u001b[0m\u001b[0m_getitem_bool_array\u001b[0m\u001b[1;33m(\u001b[0m\u001b[0mkey\u001b[0m\u001b[1;33m)\u001b[0m\u001b[1;33m\u001b[0m\u001b[1;33m\u001b[0m\u001b[0m\n\u001b[0m\u001b[0;32m   3016\u001b[0m \u001b[1;33m\u001b[0m\u001b[0m\n\u001b[0;32m   3017\u001b[0m         \u001b[1;31m# We are left with two options: a single key, and a collection of keys,\u001b[0m\u001b[1;33m\u001b[0m\u001b[1;33m\u001b[0m\u001b[1;33m\u001b[0m\u001b[0m\n",
      "\u001b[1;32m~\\anaconda3\\lib\\site-packages\\pandas\\core\\frame.py\u001b[0m in \u001b[0;36m_getitem_bool_array\u001b[1;34m(self, key)\u001b[0m\n\u001b[0;32m   3067\u001b[0m         \u001b[1;31m# be reindexed to match DataFrame rows\u001b[0m\u001b[1;33m\u001b[0m\u001b[1;33m\u001b[0m\u001b[1;33m\u001b[0m\u001b[0m\n\u001b[0;32m   3068\u001b[0m         \u001b[0mkey\u001b[0m \u001b[1;33m=\u001b[0m \u001b[0mcheck_bool_indexer\u001b[0m\u001b[1;33m(\u001b[0m\u001b[0mself\u001b[0m\u001b[1;33m.\u001b[0m\u001b[0mindex\u001b[0m\u001b[1;33m,\u001b[0m \u001b[0mkey\u001b[0m\u001b[1;33m)\u001b[0m\u001b[1;33m\u001b[0m\u001b[1;33m\u001b[0m\u001b[0m\n\u001b[1;32m-> 3069\u001b[1;33m         \u001b[0mindexer\u001b[0m \u001b[1;33m=\u001b[0m \u001b[0mkey\u001b[0m\u001b[1;33m.\u001b[0m\u001b[0mnonzero\u001b[0m\u001b[1;33m(\u001b[0m\u001b[1;33m)\u001b[0m\u001b[1;33m[\u001b[0m\u001b[1;36m0\u001b[0m\u001b[1;33m]\u001b[0m\u001b[1;33m\u001b[0m\u001b[1;33m\u001b[0m\u001b[0m\n\u001b[0m\u001b[0;32m   3070\u001b[0m         \u001b[1;32mreturn\u001b[0m \u001b[0mself\u001b[0m\u001b[1;33m.\u001b[0m\u001b[0m_take_with_is_copy\u001b[0m\u001b[1;33m(\u001b[0m\u001b[0mindexer\u001b[0m\u001b[1;33m,\u001b[0m \u001b[0maxis\u001b[0m\u001b[1;33m=\u001b[0m\u001b[1;36m0\u001b[0m\u001b[1;33m)\u001b[0m\u001b[1;33m\u001b[0m\u001b[1;33m\u001b[0m\u001b[0m\n\u001b[0;32m   3071\u001b[0m \u001b[1;33m\u001b[0m\u001b[0m\n",
      "\u001b[1;31mKeyboardInterrupt\u001b[0m: "
     ]
    }
   ],
   "source": [
    "id = log['user_id'].unique().tolist()\n",
    "list = []\n",
    "\n",
    "for i in id:\n",
    "    for j in range(14753):\n",
    "        if len(log[log['user_id']== i]['ap_place'].unique()) > 3:\n",
    "            list.append(log[log['user_id']== i])\n",
    "        else :\n",
    "            pass\n",
    "        "
   ]
  },
  {
   "cell_type": "markdown",
   "metadata": {},
   "source": [
    "5. 이지인 이소의 양현진 "
   ]
  },
  {
   "cell_type": "code",
   "execution_count": null,
   "metadata": {},
   "outputs": [
    {
     "data": {
      "text/html": [
       "<div>\n",
       "<style scoped>\n",
       "    .dataframe tbody tr th:only-of-type {\n",
       "        vertical-align: middle;\n",
       "    }\n",
       "\n",
       "    .dataframe tbody tr th {\n",
       "        vertical-align: top;\n",
       "    }\n",
       "\n",
       "    .dataframe thead th {\n",
       "        text-align: right;\n",
       "    }\n",
       "</style>\n",
       "<table border=\"1\" class=\"dataframe\">\n",
       "  <thead>\n",
       "    <tr style=\"text-align: right;\">\n",
       "      <th></th>\n",
       "      <th>base_date</th>\n",
       "      <th>user_id</th>\n",
       "      <th>mac_address</th>\n",
       "      <th>upload</th>\n",
       "      <th>download</th>\n",
       "      <th>session_time</th>\n",
       "      <th>nationality</th>\n",
       "      <th>gender</th>\n",
       "      <th>age</th>\n",
       "      <th>visit_type</th>\n",
       "      <th>ap_type</th>\n",
       "      <th>ap_category</th>\n",
       "      <th>ap_place</th>\n",
       "      <th>ap_place_detail</th>\n",
       "      <th>ap_latitude</th>\n",
       "      <th>ap_longitude</th>\n",
       "      <th>ap_address_detail</th>\n",
       "      <th>pt_year</th>\n",
       "      <th>pt_month</th>\n",
       "    </tr>\n",
       "  </thead>\n",
       "  <tbody>\n",
       "    <tr>\n",
       "      <th>41450</th>\n",
       "      <td>20210410</td>\n",
       "      <td>b5cd03f6fe1b0fa98316767d6a47a2977ff3bbd314c7f9...</td>\n",
       "      <td>5df3377d578b1fa525c48f0e99bb4445adba7189b9745b...</td>\n",
       "      <td>0</td>\n",
       "      <td>0</td>\n",
       "      <td>395</td>\n",
       "      <td>대한민국</td>\n",
       "      <td>여성</td>\n",
       "      <td>40</td>\n",
       "      <td>업무</td>\n",
       "      <td>고정형</td>\n",
       "      <td>전기차충전소</td>\n",
       "      <td>전기차충전소_제주시청</td>\n",
       "      <td>제주시청#4(4별관)-2</td>\n",
       "      <td>33.499321</td>\n",
       "      <td>126.530459</td>\n",
       "      <td>제주시 이도2동 1176-118 (동광로2길 7) 옆</td>\n",
       "      <td>2021</td>\n",
       "      <td>4</td>\n",
       "    </tr>\n",
       "    <tr>\n",
       "      <th>41451</th>\n",
       "      <td>20210410</td>\n",
       "      <td>fda9faa68e3d87a7ad505175da0d69335424b63f346046...</td>\n",
       "      <td>5df3377d578b1fa525c48f0e99bb4445adba7189b9745b...</td>\n",
       "      <td>2188</td>\n",
       "      <td>1146</td>\n",
       "      <td>86767</td>\n",
       "      <td>대한민국</td>\n",
       "      <td>여성</td>\n",
       "      <td>10</td>\n",
       "      <td>거주</td>\n",
       "      <td>고정형</td>\n",
       "      <td>전기차충전소</td>\n",
       "      <td>전기차충전소_제주시청</td>\n",
       "      <td>제주시청#4(4별관)-2</td>\n",
       "      <td>33.499321</td>\n",
       "      <td>126.530459</td>\n",
       "      <td>제주시 이도2동 1176-118 (동광로2길 7) 옆</td>\n",
       "      <td>2021</td>\n",
       "      <td>4</td>\n",
       "    </tr>\n",
       "    <tr>\n",
       "      <th>41452</th>\n",
       "      <td>20210410</td>\n",
       "      <td>7742bd77da456fc101b02ae075aa434f7cfc264554b5cf...</td>\n",
       "      <td>5df3377d578b1fa525c48f0e99bb4445adba7189b9745b...</td>\n",
       "      <td>2838</td>\n",
       "      <td>1096</td>\n",
       "      <td>86772</td>\n",
       "      <td>대한민국</td>\n",
       "      <td>여성</td>\n",
       "      <td>50</td>\n",
       "      <td>관광</td>\n",
       "      <td>고정형</td>\n",
       "      <td>전기차충전소</td>\n",
       "      <td>전기차충전소_제주시청</td>\n",
       "      <td>제주시청#4(4별관)-2</td>\n",
       "      <td>33.499321</td>\n",
       "      <td>126.530459</td>\n",
       "      <td>제주시 이도2동 1176-118 (동광로2길 7) 옆</td>\n",
       "      <td>2021</td>\n",
       "      <td>4</td>\n",
       "    </tr>\n",
       "    <tr>\n",
       "      <th>41453</th>\n",
       "      <td>20210410</td>\n",
       "      <td>967732b6e079e8eaca361c335ac55993f0d6f7d4ae9d01...</td>\n",
       "      <td>5df3377d578b1fa525c48f0e99bb4445adba7189b9745b...</td>\n",
       "      <td>0</td>\n",
       "      <td>100</td>\n",
       "      <td>86761</td>\n",
       "      <td>대한민국</td>\n",
       "      <td>남성</td>\n",
       "      <td>20</td>\n",
       "      <td>관광</td>\n",
       "      <td>고정형</td>\n",
       "      <td>전기차충전소</td>\n",
       "      <td>전기차충전소_제주시청</td>\n",
       "      <td>제주시청#4(4별관)-2</td>\n",
       "      <td>33.499321</td>\n",
       "      <td>126.530459</td>\n",
       "      <td>제주시 이도2동 1176-118 (동광로2길 7) 옆</td>\n",
       "      <td>2021</td>\n",
       "      <td>4</td>\n",
       "    </tr>\n",
       "    <tr>\n",
       "      <th>41454</th>\n",
       "      <td>20210410</td>\n",
       "      <td>c068926dc3270d33bd4574ddc5748e8d72ce71594e876d...</td>\n",
       "      <td>5df3377d578b1fa525c48f0e99bb4445adba7189b9745b...</td>\n",
       "      <td>34</td>\n",
       "      <td>428</td>\n",
       "      <td>86773</td>\n",
       "      <td>대한민국</td>\n",
       "      <td>여성</td>\n",
       "      <td>40</td>\n",
       "      <td>거주</td>\n",
       "      <td>고정형</td>\n",
       "      <td>전기차충전소</td>\n",
       "      <td>전기차충전소_제주시청</td>\n",
       "      <td>제주시청#4(4별관)-2</td>\n",
       "      <td>33.499321</td>\n",
       "      <td>126.530459</td>\n",
       "      <td>제주시 이도2동 1176-118 (동광로2길 7) 옆</td>\n",
       "      <td>2021</td>\n",
       "      <td>4</td>\n",
       "    </tr>\n",
       "    <tr>\n",
       "      <th>...</th>\n",
       "      <td>...</td>\n",
       "      <td>...</td>\n",
       "      <td>...</td>\n",
       "      <td>...</td>\n",
       "      <td>...</td>\n",
       "      <td>...</td>\n",
       "      <td>...</td>\n",
       "      <td>...</td>\n",
       "      <td>...</td>\n",
       "      <td>...</td>\n",
       "      <td>...</td>\n",
       "      <td>...</td>\n",
       "      <td>...</td>\n",
       "      <td>...</td>\n",
       "      <td>...</td>\n",
       "      <td>...</td>\n",
       "      <td>...</td>\n",
       "      <td>...</td>\n",
       "      <td>...</td>\n",
       "    </tr>\n",
       "    <tr>\n",
       "      <th>294019</th>\n",
       "      <td>20210410</td>\n",
       "      <td>9f2002f779584c0723715dee74c665b7d96b837dfc6dfa...</td>\n",
       "      <td>3000408bfe0709ed87994ea9b4a42e242c2a3e40027255...</td>\n",
       "      <td>156148</td>\n",
       "      <td>2222129</td>\n",
       "      <td>86811</td>\n",
       "      <td>대한민국</td>\n",
       "      <td>남성</td>\n",
       "      <td>10</td>\n",
       "      <td>거주</td>\n",
       "      <td>고정형</td>\n",
       "      <td>전기차충전소</td>\n",
       "      <td>전기차충전소_제주시청</td>\n",
       "      <td>제주시청 #2</td>\n",
       "      <td>33.500267</td>\n",
       "      <td>126.532656</td>\n",
       "      <td>제주시 이도 2동 1176-1</td>\n",
       "      <td>2021</td>\n",
       "      <td>4</td>\n",
       "    </tr>\n",
       "    <tr>\n",
       "      <th>294020</th>\n",
       "      <td>20210410</td>\n",
       "      <td>badb85d2b29b752e13505bfb63b7c5046333af03a4769d...</td>\n",
       "      <td>3000408bfe0709ed87994ea9b4a42e242c2a3e40027255...</td>\n",
       "      <td>876</td>\n",
       "      <td>996</td>\n",
       "      <td>12</td>\n",
       "      <td>대한민국</td>\n",
       "      <td>여성</td>\n",
       "      <td>20</td>\n",
       "      <td>거주</td>\n",
       "      <td>고정형</td>\n",
       "      <td>전기차충전소</td>\n",
       "      <td>전기차충전소_제주시청</td>\n",
       "      <td>제주시청 #2</td>\n",
       "      <td>33.500267</td>\n",
       "      <td>126.532656</td>\n",
       "      <td>제주시 이도 2동 1176-1</td>\n",
       "      <td>2021</td>\n",
       "      <td>4</td>\n",
       "    </tr>\n",
       "    <tr>\n",
       "      <th>294021</th>\n",
       "      <td>20210410</td>\n",
       "      <td>938a6c745fb9253ffecb97dde87e46e7e9940d0df2985a...</td>\n",
       "      <td>3000408bfe0709ed87994ea9b4a42e242c2a3e40027255...</td>\n",
       "      <td>0</td>\n",
       "      <td>0</td>\n",
       "      <td>365</td>\n",
       "      <td>대한민국</td>\n",
       "      <td>남성</td>\n",
       "      <td>40</td>\n",
       "      <td>기타</td>\n",
       "      <td>고정형</td>\n",
       "      <td>전기차충전소</td>\n",
       "      <td>전기차충전소_제주시청</td>\n",
       "      <td>제주시청 #2</td>\n",
       "      <td>33.500267</td>\n",
       "      <td>126.532656</td>\n",
       "      <td>제주시 이도 2동 1176-1</td>\n",
       "      <td>2021</td>\n",
       "      <td>4</td>\n",
       "    </tr>\n",
       "    <tr>\n",
       "      <th>294022</th>\n",
       "      <td>20210410</td>\n",
       "      <td>14a64586c2a852a1c924fdd89a5de23cf1875c49510c2a...</td>\n",
       "      <td>3000408bfe0709ed87994ea9b4a42e242c2a3e40027255...</td>\n",
       "      <td>63065</td>\n",
       "      <td>121941</td>\n",
       "      <td>643</td>\n",
       "      <td>대한민국</td>\n",
       "      <td>남성</td>\n",
       "      <td>50</td>\n",
       "      <td>업무</td>\n",
       "      <td>고정형</td>\n",
       "      <td>전기차충전소</td>\n",
       "      <td>전기차충전소_제주시청</td>\n",
       "      <td>제주시청 #2</td>\n",
       "      <td>33.500267</td>\n",
       "      <td>126.532656</td>\n",
       "      <td>제주시 이도 2동 1176-1</td>\n",
       "      <td>2021</td>\n",
       "      <td>4</td>\n",
       "    </tr>\n",
       "    <tr>\n",
       "      <th>294023</th>\n",
       "      <td>20210410</td>\n",
       "      <td>287aca0196a17f6066f3ec2f48897df7aaced99a555ab5...</td>\n",
       "      <td>3000408bfe0709ed87994ea9b4a42e242c2a3e40027255...</td>\n",
       "      <td>0</td>\n",
       "      <td>0</td>\n",
       "      <td>1</td>\n",
       "      <td>대한민국</td>\n",
       "      <td>여성</td>\n",
       "      <td>10</td>\n",
       "      <td>관광</td>\n",
       "      <td>고정형</td>\n",
       "      <td>전기차충전소</td>\n",
       "      <td>전기차충전소_제주시청</td>\n",
       "      <td>제주시청 #2</td>\n",
       "      <td>33.500267</td>\n",
       "      <td>126.532656</td>\n",
       "      <td>제주시 이도 2동 1176-1</td>\n",
       "      <td>2021</td>\n",
       "      <td>4</td>\n",
       "    </tr>\n",
       "  </tbody>\n",
       "</table>\n",
       "<p>257 rows × 19 columns</p>\n",
       "</div>"
      ],
      "text/plain": [
       "        base_date                                            user_id  \\\n",
       "41450    20210410  b5cd03f6fe1b0fa98316767d6a47a2977ff3bbd314c7f9...   \n",
       "41451    20210410  fda9faa68e3d87a7ad505175da0d69335424b63f346046...   \n",
       "41452    20210410  7742bd77da456fc101b02ae075aa434f7cfc264554b5cf...   \n",
       "41453    20210410  967732b6e079e8eaca361c335ac55993f0d6f7d4ae9d01...   \n",
       "41454    20210410  c068926dc3270d33bd4574ddc5748e8d72ce71594e876d...   \n",
       "...           ...                                                ...   \n",
       "294019   20210410  9f2002f779584c0723715dee74c665b7d96b837dfc6dfa...   \n",
       "294020   20210410  badb85d2b29b752e13505bfb63b7c5046333af03a4769d...   \n",
       "294021   20210410  938a6c745fb9253ffecb97dde87e46e7e9940d0df2985a...   \n",
       "294022   20210410  14a64586c2a852a1c924fdd89a5de23cf1875c49510c2a...   \n",
       "294023   20210410  287aca0196a17f6066f3ec2f48897df7aaced99a555ab5...   \n",
       "\n",
       "                                              mac_address  upload  download  \\\n",
       "41450   5df3377d578b1fa525c48f0e99bb4445adba7189b9745b...       0         0   \n",
       "41451   5df3377d578b1fa525c48f0e99bb4445adba7189b9745b...    2188      1146   \n",
       "41452   5df3377d578b1fa525c48f0e99bb4445adba7189b9745b...    2838      1096   \n",
       "41453   5df3377d578b1fa525c48f0e99bb4445adba7189b9745b...       0       100   \n",
       "41454   5df3377d578b1fa525c48f0e99bb4445adba7189b9745b...      34       428   \n",
       "...                                                   ...     ...       ...   \n",
       "294019  3000408bfe0709ed87994ea9b4a42e242c2a3e40027255...  156148   2222129   \n",
       "294020  3000408bfe0709ed87994ea9b4a42e242c2a3e40027255...     876       996   \n",
       "294021  3000408bfe0709ed87994ea9b4a42e242c2a3e40027255...       0         0   \n",
       "294022  3000408bfe0709ed87994ea9b4a42e242c2a3e40027255...   63065    121941   \n",
       "294023  3000408bfe0709ed87994ea9b4a42e242c2a3e40027255...       0         0   \n",
       "\n",
       "        session_time nationality gender  age visit_type ap_type ap_category  \\\n",
       "41450            395        대한민국     여성   40         업무     고정형      전기차충전소   \n",
       "41451          86767        대한민국     여성   10         거주     고정형      전기차충전소   \n",
       "41452          86772        대한민국     여성   50         관광     고정형      전기차충전소   \n",
       "41453          86761        대한민국     남성   20         관광     고정형      전기차충전소   \n",
       "41454          86773        대한민국     여성   40         거주     고정형      전기차충전소   \n",
       "...              ...         ...    ...  ...        ...     ...         ...   \n",
       "294019         86811        대한민국     남성   10         거주     고정형      전기차충전소   \n",
       "294020            12        대한민국     여성   20         거주     고정형      전기차충전소   \n",
       "294021           365        대한민국     남성   40         기타     고정형      전기차충전소   \n",
       "294022           643        대한민국     남성   50         업무     고정형      전기차충전소   \n",
       "294023             1        대한민국     여성   10         관광     고정형      전기차충전소   \n",
       "\n",
       "           ap_place ap_place_detail ap_latitude ap_longitude  \\\n",
       "41450   전기차충전소_제주시청   제주시청#4(4별관)-2   33.499321   126.530459   \n",
       "41451   전기차충전소_제주시청   제주시청#4(4별관)-2   33.499321   126.530459   \n",
       "41452   전기차충전소_제주시청   제주시청#4(4별관)-2   33.499321   126.530459   \n",
       "41453   전기차충전소_제주시청   제주시청#4(4별관)-2   33.499321   126.530459   \n",
       "41454   전기차충전소_제주시청   제주시청#4(4별관)-2   33.499321   126.530459   \n",
       "...             ...             ...         ...          ...   \n",
       "294019  전기차충전소_제주시청         제주시청 #2   33.500267   126.532656   \n",
       "294020  전기차충전소_제주시청         제주시청 #2   33.500267   126.532656   \n",
       "294021  전기차충전소_제주시청         제주시청 #2   33.500267   126.532656   \n",
       "294022  전기차충전소_제주시청         제주시청 #2   33.500267   126.532656   \n",
       "294023  전기차충전소_제주시청         제주시청 #2   33.500267   126.532656   \n",
       "\n",
       "                    ap_address_detail  pt_year  pt_month  \n",
       "41450   제주시 이도2동 1176-118 (동광로2길 7) 옆     2021         4  \n",
       "41451   제주시 이도2동 1176-118 (동광로2길 7) 옆     2021         4  \n",
       "41452   제주시 이도2동 1176-118 (동광로2길 7) 옆     2021         4  \n",
       "41453   제주시 이도2동 1176-118 (동광로2길 7) 옆     2021         4  \n",
       "41454   제주시 이도2동 1176-118 (동광로2길 7) 옆     2021         4  \n",
       "...                               ...      ...       ...  \n",
       "294019               제주시 이도 2동 1176-1     2021         4  \n",
       "294020               제주시 이도 2동 1176-1     2021         4  \n",
       "294021               제주시 이도 2동 1176-1     2021         4  \n",
       "294022               제주시 이도 2동 1176-1     2021         4  \n",
       "294023               제주시 이도 2동 1176-1     2021         4  \n",
       "\n",
       "[257 rows x 19 columns]"
      ]
     },
     "execution_count": 85,
     "metadata": {},
     "output_type": "execute_result"
    }
   ],
   "source": [
    "log[log['ap_place']=='전기차충전소_제주시청']"
   ]
  },
  {
   "cell_type": "code",
   "execution_count": null,
   "metadata": {},
   "outputs": [
    {
     "ename": "ValueError",
     "evalue": "The truth value of an array with more than one element is ambiguous. Use a.any() or a.all()",
     "output_type": "error",
     "traceback": [
      "\u001b[1;31m---------------------------------------------------------------------------\u001b[0m",
      "\u001b[1;31mValueError\u001b[0m                                Traceback (most recent call last)",
      "\u001b[1;32m<ipython-input-84-12809001e63c>\u001b[0m in \u001b[0;36m<module>\u001b[1;34m\u001b[0m\n\u001b[0;32m      2\u001b[0m \u001b[1;33m\u001b[0m\u001b[0m\n\u001b[0;32m      3\u001b[0m \u001b[1;32mfor\u001b[0m \u001b[0mi\u001b[0m \u001b[1;32min\u001b[0m \u001b[0muser\u001b[0m\u001b[1;33m:\u001b[0m\u001b[1;33m\u001b[0m\u001b[1;33m\u001b[0m\u001b[0m\n\u001b[1;32m----> 4\u001b[1;33m     \u001b[1;32mif\u001b[0m \u001b[1;33m(\u001b[0m\u001b[0mlog\u001b[0m\u001b[1;33m[\u001b[0m\u001b[0mlog\u001b[0m\u001b[1;33m[\u001b[0m\u001b[1;34m'user_id'\u001b[0m\u001b[1;33m]\u001b[0m\u001b[1;33m==\u001b[0m\u001b[0mi\u001b[0m\u001b[1;33m]\u001b[0m\u001b[1;33m[\u001b[0m\u001b[1;34m'ap_place'\u001b[0m\u001b[1;33m]\u001b[0m\u001b[1;33m.\u001b[0m\u001b[0munique\u001b[0m\u001b[1;33m(\u001b[0m\u001b[1;33m)\u001b[0m\u001b[1;33m)\u001b[0m \u001b[1;33m==\u001b[0m \u001b[0mcourse\u001b[0m \u001b[1;33m:\u001b[0m\u001b[1;33m\u001b[0m\u001b[1;33m\u001b[0m\u001b[0m\n\u001b[0m\u001b[0;32m      5\u001b[0m         \u001b[0mprint\u001b[0m\u001b[1;33m(\u001b[0m\u001b[0mi\u001b[0m\u001b[1;33m)\u001b[0m\u001b[1;33m\u001b[0m\u001b[1;33m\u001b[0m\u001b[0m\n\u001b[0;32m      6\u001b[0m     \u001b[1;32melse\u001b[0m \u001b[1;33m:\u001b[0m\u001b[1;33m\u001b[0m\u001b[1;33m\u001b[0m\u001b[0m\n",
      "\u001b[1;31mValueError\u001b[0m: The truth value of an array with more than one element is ambiguous. Use a.any() or a.all()"
     ]
    }
   ],
   "source": [
    "user = log['user_id'].unique().tolist()\n",
    "\n",
    "for i in user:\n",
    "    if (log[log['user_id']==i]['ap_place'].unique()) == course :\n",
    "        print(i) \n",
    "    else :\n",
    "        print('no')"
   ]
  }
 ],
 "metadata": {
  "interpreter": {
   "hash": "266817064e548772ee6e8fd4a6ef3b230e60eec7e978c53ff5e842820ea93e45"
  },
  "kernelspec": {
   "display_name": "Python 3.9.10 64-bit",
   "language": "python",
   "name": "python3"
  },
  "language_info": {
   "codemirror_mode": {
    "name": "ipython",
    "version": 3
   },
   "file_extension": ".py",
   "mimetype": "text/x-python",
   "name": "python",
   "nbconvert_exporter": "python",
   "pygments_lexer": "ipython3",
   "version": "3.8.8"
  },
  "orig_nbformat": 4
 },
 "nbformat": 4,
 "nbformat_minor": 2
}
