{
 "cells": [
  {
   "cell_type": "markdown",
   "metadata": {},
   "source": [
    "**제주 공공 와이파이 데이터 분석**\n",
    "=========================================================\n",
    "**21년 제주 관광 트렌드 분석 및 22년 관광업 수요예측**\n",
    "-------------------------------------------------------------"
   ]
  },
  {
   "cell_type": "markdown",
   "metadata": {},
   "source": [
    "### 1. 라이브러리"
   ]
  },
  {
   "cell_type": "code",
   "execution_count": 2,
   "metadata": {},
   "outputs": [],
   "source": [
    "import numpy as np \n",
    "import pandas as pd \n",
    "\n",
    "import matplotlib.pyplot as plt\n",
    "import seaborn as sns \n",
    "\n",
    "import warnings\n",
    "warnings.filterwarnings(\"ignore\")\n",
    "\n",
    "# 시각화 한글 폰트\n",
    "import os\n",
    "plt.rc(\"font\", family=\"Malgun Gothic\")"
   ]
  },
  {
   "cell_type": "markdown",
   "metadata": {},
   "source": [
    "### 2. 활용 데이터"
   ]
  },
  {
   "cell_type": "markdown",
   "metadata": {},
   "source": [
    "**제주 동부지역 ap 접속데이터**"
   ]
  },
  {
   "cell_type": "code",
   "execution_count": 2,
   "metadata": {},
   "outputs": [
    {
     "data": {
      "text/html": [
       "<div>\n",
       "<style scoped>\n",
       "    .dataframe tbody tr th:only-of-type {\n",
       "        vertical-align: middle;\n",
       "    }\n",
       "\n",
       "    .dataframe tbody tr th {\n",
       "        vertical-align: top;\n",
       "    }\n",
       "\n",
       "    .dataframe thead th {\n",
       "        text-align: right;\n",
       "    }\n",
       "</style>\n",
       "<table border=\"1\" class=\"dataframe\">\n",
       "  <thead>\n",
       "    <tr style=\"text-align: right;\">\n",
       "      <th></th>\n",
       "      <th>base_date</th>\n",
       "      <th>user_id</th>\n",
       "      <th>mac_address</th>\n",
       "      <th>upload</th>\n",
       "      <th>download</th>\n",
       "      <th>session_time</th>\n",
       "      <th>nationality</th>\n",
       "      <th>province</th>\n",
       "      <th>gender</th>\n",
       "      <th>age</th>\n",
       "      <th>visit_type</th>\n",
       "      <th>ap_type</th>\n",
       "      <th>ap_category</th>\n",
       "      <th>ap_place</th>\n",
       "      <th>ap_place_detail</th>\n",
       "      <th>ap_latitude</th>\n",
       "      <th>ap_longitude</th>\n",
       "      <th>ap_address_detail</th>\n",
       "      <th>pt_year</th>\n",
       "      <th>pt_month</th>\n",
       "    </tr>\n",
       "  </thead>\n",
       "  <tbody>\n",
       "    <tr>\n",
       "      <th>0</th>\n",
       "      <td>20210101</td>\n",
       "      <td>25ee972873bbca5a135a33c6ba4d970dd48542ba2e79d7...</td>\n",
       "      <td>49288eca91187e2aacea777790f494ff3863d5fd61aed9...</td>\n",
       "      <td>28</td>\n",
       "      <td>0</td>\n",
       "      <td>1</td>\n",
       "      <td>미국</td>\n",
       "      <td>NaN</td>\n",
       "      <td>남성</td>\n",
       "      <td>50</td>\n",
       "      <td>거주</td>\n",
       "      <td>고정형</td>\n",
       "      <td>공영관광지</td>\n",
       "      <td>모구리야영장</td>\n",
       "      <td>모구리야영장 #1</td>\n",
       "      <td>33.406581</td>\n",
       "      <td>126.821853</td>\n",
       "      <td>서귀포시 성산읍 난산리 2960-1</td>\n",
       "      <td>2021</td>\n",
       "      <td>1</td>\n",
       "    </tr>\n",
       "    <tr>\n",
       "      <th>1</th>\n",
       "      <td>20210101</td>\n",
       "      <td>25ee972873bbca5a135a33c6ba4d970dd48542ba2e79d7...</td>\n",
       "      <td>49288eca91187e2aacea777790f494ff3863d5fd61aed9...</td>\n",
       "      <td>88</td>\n",
       "      <td>0</td>\n",
       "      <td>1</td>\n",
       "      <td>미국</td>\n",
       "      <td>NaN</td>\n",
       "      <td>남성</td>\n",
       "      <td>50</td>\n",
       "      <td>거주</td>\n",
       "      <td>고정형</td>\n",
       "      <td>공영관광지</td>\n",
       "      <td>모구리야영장</td>\n",
       "      <td>모구리야영장 #1</td>\n",
       "      <td>33.406581</td>\n",
       "      <td>126.821853</td>\n",
       "      <td>서귀포시 성산읍 난산리 2960-1</td>\n",
       "      <td>2021</td>\n",
       "      <td>1</td>\n",
       "    </tr>\n",
       "    <tr>\n",
       "      <th>2</th>\n",
       "      <td>20210101</td>\n",
       "      <td>25ee972873bbca5a135a33c6ba4d970dd48542ba2e79d7...</td>\n",
       "      <td>49288eca91187e2aacea777790f494ff3863d5fd61aed9...</td>\n",
       "      <td>328</td>\n",
       "      <td>0</td>\n",
       "      <td>2</td>\n",
       "      <td>미국</td>\n",
       "      <td>NaN</td>\n",
       "      <td>남성</td>\n",
       "      <td>50</td>\n",
       "      <td>거주</td>\n",
       "      <td>고정형</td>\n",
       "      <td>공영관광지</td>\n",
       "      <td>모구리야영장</td>\n",
       "      <td>모구리야영장 #1</td>\n",
       "      <td>33.406581</td>\n",
       "      <td>126.821853</td>\n",
       "      <td>서귀포시 성산읍 난산리 2960-1</td>\n",
       "      <td>2021</td>\n",
       "      <td>1</td>\n",
       "    </tr>\n",
       "  </tbody>\n",
       "</table>\n",
       "</div>"
      ],
      "text/plain": [
       "   base_date                                            user_id  \\\n",
       "0   20210101  25ee972873bbca5a135a33c6ba4d970dd48542ba2e79d7...   \n",
       "1   20210101  25ee972873bbca5a135a33c6ba4d970dd48542ba2e79d7...   \n",
       "2   20210101  25ee972873bbca5a135a33c6ba4d970dd48542ba2e79d7...   \n",
       "\n",
       "                                         mac_address  upload  download  \\\n",
       "0  49288eca91187e2aacea777790f494ff3863d5fd61aed9...      28         0   \n",
       "1  49288eca91187e2aacea777790f494ff3863d5fd61aed9...      88         0   \n",
       "2  49288eca91187e2aacea777790f494ff3863d5fd61aed9...     328         0   \n",
       "\n",
       "   session_time nationality province gender  age visit_type ap_type  \\\n",
       "0             1          미국      NaN     남성   50         거주     고정형   \n",
       "1             1          미국      NaN     남성   50         거주     고정형   \n",
       "2             2          미국      NaN     남성   50         거주     고정형   \n",
       "\n",
       "  ap_category ap_place ap_place_detail  ap_latitude  ap_longitude  \\\n",
       "0       공영관광지   모구리야영장       모구리야영장 #1    33.406581    126.821853   \n",
       "1       공영관광지   모구리야영장       모구리야영장 #1    33.406581    126.821853   \n",
       "2       공영관광지   모구리야영장       모구리야영장 #1    33.406581    126.821853   \n",
       "\n",
       "     ap_address_detail  pt_year  pt_month  \n",
       "0  서귀포시 성산읍 난산리 2960-1     2021         1  \n",
       "1  서귀포시 성산읍 난산리 2960-1     2021         1  \n",
       "2  서귀포시 성산읍 난산리 2960-1     2021         1  "
      ]
     },
     "execution_count": 2,
     "metadata": {},
     "output_type": "execute_result"
    }
   ],
   "source": [
    "East_jeju = pd.read_csv('East_jeju.csv')\n",
    "East_jeju.head(3)"
   ]
  },
  {
   "cell_type": "markdown",
   "metadata": {},
   "source": [
    "**고정형 ap** "
   ]
  },
  {
   "cell_type": "code",
   "execution_count": 3,
   "metadata": {},
   "outputs": [
    {
     "data": {
      "text/html": [
       "<div>\n",
       "<style scoped>\n",
       "    .dataframe tbody tr th:only-of-type {\n",
       "        vertical-align: middle;\n",
       "    }\n",
       "\n",
       "    .dataframe tbody tr th {\n",
       "        vertical-align: top;\n",
       "    }\n",
       "\n",
       "    .dataframe thead th {\n",
       "        text-align: right;\n",
       "    }\n",
       "</style>\n",
       "<table border=\"1\" class=\"dataframe\">\n",
       "  <thead>\n",
       "    <tr style=\"text-align: right;\">\n",
       "      <th></th>\n",
       "      <th>base_date</th>\n",
       "      <th>mac_address</th>\n",
       "      <th>ap_install_place</th>\n",
       "      <th>install_location_detail</th>\n",
       "      <th>open_date</th>\n",
       "      <th>category</th>\n",
       "      <th>address_dong</th>\n",
       "      <th>address_detail</th>\n",
       "      <th>latitude</th>\n",
       "      <th>longitude</th>\n",
       "      <th>pt_year</th>\n",
       "      <th>pt_month</th>\n",
       "    </tr>\n",
       "  </thead>\n",
       "  <tbody>\n",
       "    <tr>\n",
       "      <th>0</th>\n",
       "      <td>20180425</td>\n",
       "      <td>642302fd765e18121ad42a39f8d67f4ce5eecc17483506...</td>\n",
       "      <td>Yongyeon_B</td>\n",
       "      <td>-</td>\n",
       "      <td>NaN</td>\n",
       "      <td>-</td>\n",
       "      <td>- -</td>\n",
       "      <td>-</td>\n",
       "      <td>-</td>\n",
       "      <td>-</td>\n",
       "      <td>2018</td>\n",
       "      <td>4</td>\n",
       "    </tr>\n",
       "    <tr>\n",
       "      <th>1</th>\n",
       "      <td>20180425</td>\n",
       "      <td>def22302bc33e0a0906aefe20e52ca7ce5091d3e1be554...</td>\n",
       "      <td>SeosaraRoad_#2_NO46_B</td>\n",
       "      <td>-</td>\n",
       "      <td>NaN</td>\n",
       "      <td>-</td>\n",
       "      <td>- -</td>\n",
       "      <td>-</td>\n",
       "      <td>-</td>\n",
       "      <td>-</td>\n",
       "      <td>2018</td>\n",
       "      <td>4</td>\n",
       "    </tr>\n",
       "    <tr>\n",
       "      <th>2</th>\n",
       "      <td>20180425</td>\n",
       "      <td>788c15fe96dfd109c59be72bb263bfc9f4e93a8b6cbe49...</td>\n",
       "      <td>올인하우스</td>\n",
       "      <td>건물외벽 북</td>\n",
       "      <td>NaN</td>\n",
       "      <td>사설관광지</td>\n",
       "      <td>서귀포시 성산읍</td>\n",
       "      <td>서귀포시 성산읍 고성리 57</td>\n",
       "      <td>33.425779</td>\n",
       "      <td>126.931337</td>\n",
       "      <td>2018</td>\n",
       "      <td>4</td>\n",
       "    </tr>\n",
       "  </tbody>\n",
       "</table>\n",
       "</div>"
      ],
      "text/plain": [
       "   base_date                                        mac_address  \\\n",
       "0   20180425  642302fd765e18121ad42a39f8d67f4ce5eecc17483506...   \n",
       "1   20180425  def22302bc33e0a0906aefe20e52ca7ce5091d3e1be554...   \n",
       "2   20180425  788c15fe96dfd109c59be72bb263bfc9f4e93a8b6cbe49...   \n",
       "\n",
       "        ap_install_place install_location_detail open_date category  \\\n",
       "0             Yongyeon_B                       -       NaN        -   \n",
       "1  SeosaraRoad_#2_NO46_B                       -       NaN        -   \n",
       "2                  올인하우스                  건물외벽 북       NaN    사설관광지   \n",
       "\n",
       "  address_dong   address_detail   latitude   longitude  pt_year  pt_month  \n",
       "0          - -                -          -           -     2018         4  \n",
       "1          - -                -          -           -     2018         4  \n",
       "2     서귀포시 성산읍  서귀포시 성산읍 고성리 57  33.425779  126.931337     2018         4  "
      ]
     },
     "execution_count": 3,
     "metadata": {},
     "output_type": "execute_result"
    }
   ],
   "source": [
    "fixed1819 = pd.read_csv('fixed 1819.csv')\n",
    "fixed20 = pd.read_csv('fixed 2020.csv')\n",
    "fixed1819.head(3)"
   ]
  },
  {
   "cell_type": "markdown",
   "metadata": {},
   "source": [
    "**카드 매출 데이터 1 (1km 격자형, 2019-22)**"
   ]
  },
  {
   "cell_type": "code",
   "execution_count": 5,
   "metadata": {},
   "outputs": [
    {
     "data": {
      "text/html": [
       "<div>\n",
       "<style scoped>\n",
       "    .dataframe tbody tr th:only-of-type {\n",
       "        vertical-align: middle;\n",
       "    }\n",
       "\n",
       "    .dataframe tbody tr th {\n",
       "        vertical-align: top;\n",
       "    }\n",
       "\n",
       "    .dataframe thead th {\n",
       "        text-align: right;\n",
       "    }\n",
       "</style>\n",
       "<table border=\"1\" class=\"dataframe\">\n",
       "  <thead>\n",
       "    <tr style=\"text-align: right;\">\n",
       "      <th></th>\n",
       "      <th>base_year_month</th>\n",
       "      <th>city</th>\n",
       "      <th>area_type</th>\n",
       "      <th>bjd</th>\n",
       "      <th>grid_1km</th>\n",
       "      <th>biz_cd</th>\n",
       "      <th>biz_nm</th>\n",
       "      <th>user_type</th>\n",
       "      <th>age</th>\n",
       "      <th>sex</th>\n",
       "      <th>user_cnt</th>\n",
       "      <th>use_cnt</th>\n",
       "      <th>use_amt</th>\n",
       "      <th>pt_year</th>\n",
       "      <th>pt_month</th>\n",
       "    </tr>\n",
       "  </thead>\n",
       "  <tbody>\n",
       "    <tr>\n",
       "      <th>0</th>\n",
       "      <td>201901</td>\n",
       "      <td>서귀포시</td>\n",
       "      <td>도심</td>\n",
       "      <td>강정동</td>\n",
       "      <td>10004320371</td>\n",
       "      <td>I56114</td>\n",
       "      <td>서양식 음식점업</td>\n",
       "      <td>내국인</td>\n",
       "      <td>30.0</td>\n",
       "      <td>남성</td>\n",
       "      <td>9</td>\n",
       "      <td>9</td>\n",
       "      <td>131000</td>\n",
       "      <td>2019</td>\n",
       "      <td>1</td>\n",
       "    </tr>\n",
       "    <tr>\n",
       "      <th>1</th>\n",
       "      <td>201901</td>\n",
       "      <td>서귀포시</td>\n",
       "      <td>도심</td>\n",
       "      <td>강정동</td>\n",
       "      <td>10004320471</td>\n",
       "      <td>G47214</td>\n",
       "      <td>과실 및 채소 소매업</td>\n",
       "      <td>내국인</td>\n",
       "      <td>50.0</td>\n",
       "      <td>남성</td>\n",
       "      <td>2</td>\n",
       "      <td>2</td>\n",
       "      <td>40000</td>\n",
       "      <td>2019</td>\n",
       "      <td>1</td>\n",
       "    </tr>\n",
       "    <tr>\n",
       "      <th>2</th>\n",
       "      <td>201901</td>\n",
       "      <td>서귀포시</td>\n",
       "      <td>도심</td>\n",
       "      <td>강정동</td>\n",
       "      <td>10004320471</td>\n",
       "      <td>G47214</td>\n",
       "      <td>과실 및 채소 소매업</td>\n",
       "      <td>내국인</td>\n",
       "      <td>70.0</td>\n",
       "      <td>여성</td>\n",
       "      <td>1</td>\n",
       "      <td>1</td>\n",
       "      <td>36000</td>\n",
       "      <td>2019</td>\n",
       "      <td>1</td>\n",
       "    </tr>\n",
       "  </tbody>\n",
       "</table>\n",
       "</div>"
      ],
      "text/plain": [
       "   base_year_month  city area_type  bjd     grid_1km  biz_cd       biz_nm  \\\n",
       "0           201901  서귀포시        도심  강정동  10004320371  I56114     서양식 음식점업   \n",
       "1           201901  서귀포시        도심  강정동  10004320471  G47214  과실 및 채소 소매업   \n",
       "2           201901  서귀포시        도심  강정동  10004320471  G47214  과실 및 채소 소매업   \n",
       "\n",
       "  user_type   age sex  user_cnt  use_cnt  use_amt  pt_year  pt_month  \n",
       "0       내국인  30.0  남성         9        9   131000     2019         1  \n",
       "1       내국인  50.0  남성         2        2    40000     2019         1  \n",
       "2       내국인  70.0  여성         1        1    36000     2019         1  "
      ]
     },
     "execution_count": 5,
     "metadata": {},
     "output_type": "execute_result"
    }
   ],
   "source": [
    "card = pd.read_csv('card 1922.csv')\n",
    "card.head(3)"
   ]
  },
  {
   "cell_type": "code",
   "execution_count": 13,
   "metadata": {},
   "outputs": [
    {
     "data": {
      "text/html": [
       "<div>\n",
       "<style scoped>\n",
       "    .dataframe tbody tr th:only-of-type {\n",
       "        vertical-align: middle;\n",
       "    }\n",
       "\n",
       "    .dataframe tbody tr th {\n",
       "        vertical-align: top;\n",
       "    }\n",
       "\n",
       "    .dataframe thead th {\n",
       "        text-align: right;\n",
       "    }\n",
       "</style>\n",
       "<table border=\"1\" class=\"dataframe\">\n",
       "  <thead>\n",
       "    <tr style=\"text-align: right;\">\n",
       "      <th></th>\n",
       "      <th>base_year_month</th>\n",
       "      <th>city</th>\n",
       "      <th>area_type</th>\n",
       "      <th>bjd</th>\n",
       "      <th>grid_1km</th>\n",
       "      <th>biz_cd</th>\n",
       "      <th>biz_nm</th>\n",
       "      <th>user_type</th>\n",
       "      <th>age</th>\n",
       "      <th>sex</th>\n",
       "      <th>user_cnt</th>\n",
       "      <th>use_cnt</th>\n",
       "      <th>use_amt</th>\n",
       "      <th>pt_year</th>\n",
       "      <th>pt_month</th>\n",
       "    </tr>\n",
       "  </thead>\n",
       "  <tbody>\n",
       "    <tr>\n",
       "      <th>3299027</th>\n",
       "      <td>202201</td>\n",
       "      <td>제주시</td>\n",
       "      <td>읍면</td>\n",
       "      <td>조천읍</td>\n",
       "      <td>10004332106</td>\n",
       "      <td>I55112</td>\n",
       "      <td>여관업</td>\n",
       "      <td>내국인</td>\n",
       "      <td>20.0</td>\n",
       "      <td>남성</td>\n",
       "      <td>8</td>\n",
       "      <td>9</td>\n",
       "      <td>298600</td>\n",
       "      <td>2022</td>\n",
       "      <td>1</td>\n",
       "    </tr>\n",
       "    <tr>\n",
       "      <th>3300653</th>\n",
       "      <td>202201</td>\n",
       "      <td>제주시</td>\n",
       "      <td>읍면</td>\n",
       "      <td>조천읍</td>\n",
       "      <td>10004332205</td>\n",
       "      <td>I55112</td>\n",
       "      <td>여관업</td>\n",
       "      <td>내국인</td>\n",
       "      <td>40.0</td>\n",
       "      <td>여성</td>\n",
       "      <td>92</td>\n",
       "      <td>96</td>\n",
       "      <td>9902162</td>\n",
       "      <td>2022</td>\n",
       "      <td>1</td>\n",
       "    </tr>\n",
       "    <tr>\n",
       "      <th>3301079</th>\n",
       "      <td>202201</td>\n",
       "      <td>제주시</td>\n",
       "      <td>읍면</td>\n",
       "      <td>조천읍</td>\n",
       "      <td>10004332200</td>\n",
       "      <td>I55112</td>\n",
       "      <td>여관업</td>\n",
       "      <td>법인</td>\n",
       "      <td>NaN</td>\n",
       "      <td>알수없음</td>\n",
       "      <td>13</td>\n",
       "      <td>15</td>\n",
       "      <td>3868100</td>\n",
       "      <td>2022</td>\n",
       "      <td>1</td>\n",
       "    </tr>\n",
       "    <tr>\n",
       "      <th>3301941</th>\n",
       "      <td>202201</td>\n",
       "      <td>제주시</td>\n",
       "      <td>읍면</td>\n",
       "      <td>조천읍</td>\n",
       "      <td>10004331905</td>\n",
       "      <td>I55112</td>\n",
       "      <td>여관업</td>\n",
       "      <td>내국인</td>\n",
       "      <td>50.0</td>\n",
       "      <td>여성</td>\n",
       "      <td>1</td>\n",
       "      <td>1</td>\n",
       "      <td>280000</td>\n",
       "      <td>2022</td>\n",
       "      <td>1</td>\n",
       "    </tr>\n",
       "    <tr>\n",
       "      <th>3302469</th>\n",
       "      <td>202201</td>\n",
       "      <td>제주시</td>\n",
       "      <td>읍면</td>\n",
       "      <td>조천읍</td>\n",
       "      <td>10004332106</td>\n",
       "      <td>I55112</td>\n",
       "      <td>여관업</td>\n",
       "      <td>법인</td>\n",
       "      <td>NaN</td>\n",
       "      <td>알수없음</td>\n",
       "      <td>106</td>\n",
       "      <td>129</td>\n",
       "      <td>14717893</td>\n",
       "      <td>2022</td>\n",
       "      <td>1</td>\n",
       "    </tr>\n",
       "    <tr>\n",
       "      <th>...</th>\n",
       "      <td>...</td>\n",
       "      <td>...</td>\n",
       "      <td>...</td>\n",
       "      <td>...</td>\n",
       "      <td>...</td>\n",
       "      <td>...</td>\n",
       "      <td>...</td>\n",
       "      <td>...</td>\n",
       "      <td>...</td>\n",
       "      <td>...</td>\n",
       "      <td>...</td>\n",
       "      <td>...</td>\n",
       "      <td>...</td>\n",
       "      <td>...</td>\n",
       "      <td>...</td>\n",
       "    </tr>\n",
       "    <tr>\n",
       "      <th>3393414</th>\n",
       "      <td>202201</td>\n",
       "      <td>제주시</td>\n",
       "      <td>읍면</td>\n",
       "      <td>조천읍</td>\n",
       "      <td>10004322696</td>\n",
       "      <td>I55112</td>\n",
       "      <td>여관업</td>\n",
       "      <td>제주도민</td>\n",
       "      <td>60.0</td>\n",
       "      <td>여성</td>\n",
       "      <td>1</td>\n",
       "      <td>2</td>\n",
       "      <td>26000</td>\n",
       "      <td>2022</td>\n",
       "      <td>1</td>\n",
       "    </tr>\n",
       "    <tr>\n",
       "      <th>3393676</th>\n",
       "      <td>202201</td>\n",
       "      <td>제주시</td>\n",
       "      <td>읍면</td>\n",
       "      <td>조천읍</td>\n",
       "      <td>10004332305</td>\n",
       "      <td>I55112</td>\n",
       "      <td>여관업</td>\n",
       "      <td>내국인</td>\n",
       "      <td>50.0</td>\n",
       "      <td>여성</td>\n",
       "      <td>2</td>\n",
       "      <td>2</td>\n",
       "      <td>83000</td>\n",
       "      <td>2022</td>\n",
       "      <td>1</td>\n",
       "    </tr>\n",
       "    <tr>\n",
       "      <th>3393739</th>\n",
       "      <td>202201</td>\n",
       "      <td>제주시</td>\n",
       "      <td>읍면</td>\n",
       "      <td>조천읍</td>\n",
       "      <td>10004332007</td>\n",
       "      <td>I55112</td>\n",
       "      <td>여관업</td>\n",
       "      <td>내국인</td>\n",
       "      <td>40.0</td>\n",
       "      <td>여성</td>\n",
       "      <td>1</td>\n",
       "      <td>1</td>\n",
       "      <td>60000</td>\n",
       "      <td>2022</td>\n",
       "      <td>1</td>\n",
       "    </tr>\n",
       "    <tr>\n",
       "      <th>3393850</th>\n",
       "      <td>202201</td>\n",
       "      <td>제주시</td>\n",
       "      <td>읍면</td>\n",
       "      <td>조천읍</td>\n",
       "      <td>10004332200</td>\n",
       "      <td>I55112</td>\n",
       "      <td>여관업</td>\n",
       "      <td>내국인</td>\n",
       "      <td>50.0</td>\n",
       "      <td>여성</td>\n",
       "      <td>2</td>\n",
       "      <td>3</td>\n",
       "      <td>162000</td>\n",
       "      <td>2022</td>\n",
       "      <td>1</td>\n",
       "    </tr>\n",
       "    <tr>\n",
       "      <th>3393855</th>\n",
       "      <td>202201</td>\n",
       "      <td>제주시</td>\n",
       "      <td>읍면</td>\n",
       "      <td>조천읍</td>\n",
       "      <td>10004322196</td>\n",
       "      <td>I55112</td>\n",
       "      <td>여관업</td>\n",
       "      <td>내국인</td>\n",
       "      <td>20.0</td>\n",
       "      <td>남성</td>\n",
       "      <td>1</td>\n",
       "      <td>1</td>\n",
       "      <td>50000</td>\n",
       "      <td>2022</td>\n",
       "      <td>1</td>\n",
       "    </tr>\n",
       "  </tbody>\n",
       "</table>\n",
       "<p>184 rows × 15 columns</p>\n",
       "</div>"
      ],
      "text/plain": [
       "         base_year_month city area_type  bjd     grid_1km  biz_cd biz_nm  \\\n",
       "3299027           202201  제주시        읍면  조천읍  10004332106  I55112    여관업   \n",
       "3300653           202201  제주시        읍면  조천읍  10004332205  I55112    여관업   \n",
       "3301079           202201  제주시        읍면  조천읍  10004332200  I55112    여관업   \n",
       "3301941           202201  제주시        읍면  조천읍  10004331905  I55112    여관업   \n",
       "3302469           202201  제주시        읍면  조천읍  10004332106  I55112    여관업   \n",
       "...                  ...  ...       ...  ...          ...     ...    ...   \n",
       "3393414           202201  제주시        읍면  조천읍  10004322696  I55112    여관업   \n",
       "3393676           202201  제주시        읍면  조천읍  10004332305  I55112    여관업   \n",
       "3393739           202201  제주시        읍면  조천읍  10004332007  I55112    여관업   \n",
       "3393850           202201  제주시        읍면  조천읍  10004332200  I55112    여관업   \n",
       "3393855           202201  제주시        읍면  조천읍  10004322196  I55112    여관업   \n",
       "\n",
       "        user_type   age   sex  user_cnt  use_cnt   use_amt  pt_year  pt_month  \n",
       "3299027       내국인  20.0    남성         8        9    298600     2022         1  \n",
       "3300653       내국인  40.0    여성        92       96   9902162     2022         1  \n",
       "3301079        법인   NaN  알수없음        13       15   3868100     2022         1  \n",
       "3301941       내국인  50.0    여성         1        1    280000     2022         1  \n",
       "3302469        법인   NaN  알수없음       106      129  14717893     2022         1  \n",
       "...           ...   ...   ...       ...      ...       ...      ...       ...  \n",
       "3393414      제주도민  60.0    여성         1        2     26000     2022         1  \n",
       "3393676       내국인  50.0    여성         2        2     83000     2022         1  \n",
       "3393739       내국인  40.0    여성         1        1     60000     2022         1  \n",
       "3393850       내국인  50.0    여성         2        3    162000     2022         1  \n",
       "3393855       내국인  20.0    남성         1        1     50000     2022         1  \n",
       "\n",
       "[184 rows x 15 columns]"
      ]
     },
     "execution_count": 13,
     "metadata": {},
     "output_type": "execute_result"
    }
   ],
   "source": [
    "# 22년 1월 조천읍 여관업 데이터 \n",
    "jo_card = card[card['bjd']=='조천읍']\n",
    "jo_card[(jo_card['biz_nm']=='여관업')&(jo_card['base_year_month']==202201)] # 1박에 10만원 남짓인데 여관이네? "
   ]
  },
  {
   "cell_type": "markdown",
   "metadata": {},
   "source": [
    "**카드매출 데이터 2 (요일별, 2021)**"
   ]
  },
  {
   "cell_type": "code",
   "execution_count": 3,
   "metadata": {},
   "outputs": [
    {
     "data": {
      "text/html": [
       "<div>\n",
       "<style scoped>\n",
       "    .dataframe tbody tr th:only-of-type {\n",
       "        vertical-align: middle;\n",
       "    }\n",
       "\n",
       "    .dataframe tbody tr th {\n",
       "        vertical-align: top;\n",
       "    }\n",
       "\n",
       "    .dataframe thead th {\n",
       "        text-align: right;\n",
       "    }\n",
       "</style>\n",
       "<table border=\"1\" class=\"dataframe\">\n",
       "  <thead>\n",
       "    <tr style=\"text-align: right;\">\n",
       "      <th></th>\n",
       "      <th>base_year_month</th>\n",
       "      <th>area_type</th>\n",
       "      <th>biz_cd</th>\n",
       "      <th>biz_nm</th>\n",
       "      <th>user_type</th>\n",
       "      <th>tour_type</th>\n",
       "      <th>week</th>\n",
       "      <th>age</th>\n",
       "      <th>sex</th>\n",
       "      <th>user_cnt</th>\n",
       "      <th>use_cnt</th>\n",
       "      <th>use_amt</th>\n",
       "      <th>pt_year</th>\n",
       "      <th>pt_month</th>\n",
       "    </tr>\n",
       "  </thead>\n",
       "  <tbody>\n",
       "    <tr>\n",
       "      <th>0</th>\n",
       "      <td>202101</td>\n",
       "      <td>제주시</td>\n",
       "      <td>I56112</td>\n",
       "      <td>중식 음식점업</td>\n",
       "      <td>내국인</td>\n",
       "      <td>개별</td>\n",
       "      <td>월요일</td>\n",
       "      <td>50.0</td>\n",
       "      <td>남성</td>\n",
       "      <td>53</td>\n",
       "      <td>54</td>\n",
       "      <td>1346100</td>\n",
       "      <td>2021</td>\n",
       "      <td>1</td>\n",
       "    </tr>\n",
       "    <tr>\n",
       "      <th>1</th>\n",
       "      <td>202101</td>\n",
       "      <td>제주시</td>\n",
       "      <td>I56112</td>\n",
       "      <td>중식 음식점업</td>\n",
       "      <td>내국인</td>\n",
       "      <td>개별</td>\n",
       "      <td>금요일</td>\n",
       "      <td>40.0</td>\n",
       "      <td>남성</td>\n",
       "      <td>47</td>\n",
       "      <td>50</td>\n",
       "      <td>1234200</td>\n",
       "      <td>2021</td>\n",
       "      <td>1</td>\n",
       "    </tr>\n",
       "    <tr>\n",
       "      <th>2</th>\n",
       "      <td>202101</td>\n",
       "      <td>제주시 서부</td>\n",
       "      <td>I56112</td>\n",
       "      <td>중식 음식점업</td>\n",
       "      <td>제주도민</td>\n",
       "      <td>도민</td>\n",
       "      <td>화요일</td>\n",
       "      <td>40.0</td>\n",
       "      <td>남성</td>\n",
       "      <td>85</td>\n",
       "      <td>88</td>\n",
       "      <td>2301300</td>\n",
       "      <td>2021</td>\n",
       "      <td>1</td>\n",
       "    </tr>\n",
       "    <tr>\n",
       "      <th>3</th>\n",
       "      <td>202101</td>\n",
       "      <td>제주시</td>\n",
       "      <td>I56111</td>\n",
       "      <td>한식 음식점업</td>\n",
       "      <td>제주도민</td>\n",
       "      <td>도민</td>\n",
       "      <td>월요일</td>\n",
       "      <td>50.0</td>\n",
       "      <td>여성</td>\n",
       "      <td>2636</td>\n",
       "      <td>2819</td>\n",
       "      <td>83151690</td>\n",
       "      <td>2021</td>\n",
       "      <td>1</td>\n",
       "    </tr>\n",
       "    <tr>\n",
       "      <th>4</th>\n",
       "      <td>202101</td>\n",
       "      <td>서귀포시</td>\n",
       "      <td>G47121</td>\n",
       "      <td>슈퍼마켓</td>\n",
       "      <td>제주도민</td>\n",
       "      <td>도민</td>\n",
       "      <td>목요일</td>\n",
       "      <td>40.0</td>\n",
       "      <td>여성</td>\n",
       "      <td>714</td>\n",
       "      <td>858</td>\n",
       "      <td>26056450</td>\n",
       "      <td>2021</td>\n",
       "      <td>1</td>\n",
       "    </tr>\n",
       "    <tr>\n",
       "      <th>5</th>\n",
       "      <td>202101</td>\n",
       "      <td>제주시 서부</td>\n",
       "      <td>I56111</td>\n",
       "      <td>한식 음식점업</td>\n",
       "      <td>내국인</td>\n",
       "      <td>단체</td>\n",
       "      <td>일요일</td>\n",
       "      <td>60.0</td>\n",
       "      <td>남성</td>\n",
       "      <td>52</td>\n",
       "      <td>55</td>\n",
       "      <td>2005900</td>\n",
       "      <td>2021</td>\n",
       "      <td>1</td>\n",
       "    </tr>\n",
       "    <tr>\n",
       "      <th>6</th>\n",
       "      <td>202101</td>\n",
       "      <td>서귀포시</td>\n",
       "      <td>G47121</td>\n",
       "      <td>슈퍼마켓</td>\n",
       "      <td>제주도민</td>\n",
       "      <td>도민</td>\n",
       "      <td>월요일</td>\n",
       "      <td>40.0</td>\n",
       "      <td>남성</td>\n",
       "      <td>737</td>\n",
       "      <td>901</td>\n",
       "      <td>29183160</td>\n",
       "      <td>2021</td>\n",
       "      <td>1</td>\n",
       "    </tr>\n",
       "    <tr>\n",
       "      <th>7</th>\n",
       "      <td>202101</td>\n",
       "      <td>서귀포시</td>\n",
       "      <td>G47119</td>\n",
       "      <td>기타 대형 종합 소매업</td>\n",
       "      <td>제주도민</td>\n",
       "      <td>도민</td>\n",
       "      <td>월요일</td>\n",
       "      <td>60.0</td>\n",
       "      <td>여성</td>\n",
       "      <td>231</td>\n",
       "      <td>294</td>\n",
       "      <td>14225330</td>\n",
       "      <td>2021</td>\n",
       "      <td>1</td>\n",
       "    </tr>\n",
       "    <tr>\n",
       "      <th>8</th>\n",
       "      <td>202101</td>\n",
       "      <td>제주시</td>\n",
       "      <td>G47122</td>\n",
       "      <td>체인화 편의점</td>\n",
       "      <td>법인</td>\n",
       "      <td>단체</td>\n",
       "      <td>금요일</td>\n",
       "      <td>NaN</td>\n",
       "      <td>알수없음</td>\n",
       "      <td>995</td>\n",
       "      <td>1167</td>\n",
       "      <td>19261020</td>\n",
       "      <td>2021</td>\n",
       "      <td>1</td>\n",
       "    </tr>\n",
       "    <tr>\n",
       "      <th>9</th>\n",
       "      <td>202101</td>\n",
       "      <td>제주시 동부</td>\n",
       "      <td>I56114</td>\n",
       "      <td>서양식 음식점업</td>\n",
       "      <td>내국인</td>\n",
       "      <td>개별</td>\n",
       "      <td>토요일</td>\n",
       "      <td>30.0</td>\n",
       "      <td>남성</td>\n",
       "      <td>122</td>\n",
       "      <td>127</td>\n",
       "      <td>2549000</td>\n",
       "      <td>2021</td>\n",
       "      <td>1</td>\n",
       "    </tr>\n",
       "  </tbody>\n",
       "</table>\n",
       "</div>"
      ],
      "text/plain": [
       "   base_year_month area_type  biz_cd        biz_nm user_type tour_type week  \\\n",
       "0           202101       제주시  I56112       중식 음식점업       내국인        개별  월요일   \n",
       "1           202101       제주시  I56112       중식 음식점업       내국인        개별  금요일   \n",
       "2           202101    제주시 서부  I56112       중식 음식점업      제주도민        도민  화요일   \n",
       "3           202101       제주시  I56111       한식 음식점업      제주도민        도민  월요일   \n",
       "4           202101      서귀포시  G47121          슈퍼마켓      제주도민        도민  목요일   \n",
       "5           202101    제주시 서부  I56111       한식 음식점업       내국인        단체  일요일   \n",
       "6           202101      서귀포시  G47121          슈퍼마켓      제주도민        도민  월요일   \n",
       "7           202101      서귀포시  G47119  기타 대형 종합 소매업      제주도민        도민  월요일   \n",
       "8           202101       제주시  G47122       체인화 편의점        법인        단체  금요일   \n",
       "9           202101    제주시 동부  I56114      서양식 음식점업       내국인        개별  토요일   \n",
       "\n",
       "    age   sex  user_cnt  use_cnt   use_amt  pt_year  pt_month  \n",
       "0  50.0    남성        53       54   1346100     2021         1  \n",
       "1  40.0    남성        47       50   1234200     2021         1  \n",
       "2  40.0    남성        85       88   2301300     2021         1  \n",
       "3  50.0    여성      2636     2819  83151690     2021         1  \n",
       "4  40.0    여성       714      858  26056450     2021         1  \n",
       "5  60.0    남성        52       55   2005900     2021         1  \n",
       "6  40.0    남성       737      901  29183160     2021         1  \n",
       "7  60.0    여성       231      294  14225330     2021         1  \n",
       "8   NaN  알수없음       995     1167  19261020     2021         1  \n",
       "9  30.0    남성       122      127   2549000     2021         1  "
      ]
     },
     "execution_count": 3,
     "metadata": {},
     "output_type": "execute_result"
    }
   ],
   "source": [
    "card_w = pd.read_csv('card21_week.csv')\n",
    "card_w.head(10)"
   ]
  },
  {
   "cell_type": "markdown",
   "metadata": {},
   "source": [
    "### 3. 결측치 확인 및 처리"
   ]
  },
  {
   "cell_type": "markdown",
   "metadata": {},
   "source": [
    "#### 3.1. 제주 동부 "
   ]
  },
  {
   "cell_type": "code",
   "execution_count": 8,
   "metadata": {},
   "outputs": [
    {
     "data": {
      "text/plain": [
       "base_date                   0\n",
       "user_id                     0\n",
       "mac_address                 0\n",
       "upload                      0\n",
       "download                    0\n",
       "session_time                0\n",
       "nationality                 0\n",
       "province             25517125\n",
       "gender                      0\n",
       "age                         0\n",
       "visit_type                  0\n",
       "ap_type                     0\n",
       "ap_category                 0\n",
       "ap_place                    0\n",
       "ap_place_detail             0\n",
       "ap_latitude                 0\n",
       "ap_longitude                0\n",
       "ap_address_detail           0\n",
       "pt_year                     0\n",
       "pt_month                    0\n",
       "dtype: int64"
      ]
     },
     "execution_count": 8,
     "metadata": {},
     "output_type": "execute_result"
    }
   ],
   "source": [
    "East_jeju.isna().sum()"
   ]
  },
  {
   "cell_type": "markdown",
   "metadata": {},
   "source": [
    "전체 27,325,901 행 중 25,517,125개의 결측값을 갖는 **province 열 제거**"
   ]
  },
  {
   "cell_type": "code",
   "execution_count": 9,
   "metadata": {},
   "outputs": [],
   "source": [
    "East_jeju = East_jeju.drop(['province'], axis=1)"
   ]
  },
  {
   "cell_type": "markdown",
   "metadata": {},
   "source": [
    "#### 3.2. 고정형 데이터"
   ]
  },
  {
   "cell_type": "code",
   "execution_count": 10,
   "metadata": {},
   "outputs": [
    {
     "data": {
      "text/plain": [
       "base_date                     0\n",
       "mac_address                   0\n",
       "ap_install_place              0\n",
       "install_location_detail       0\n",
       "open_date                  2341\n",
       "category                     32\n",
       "address_dong                  0\n",
       "address_detail                0\n",
       "latitude                      0\n",
       "longitude                     0\n",
       "pt_year                       0\n",
       "pt_month                      0\n",
       "dtype: int64"
      ]
     },
     "execution_count": 10,
     "metadata": {},
     "output_type": "execute_result"
    }
   ],
   "source": [
    "fixed1819.isna().sum()"
   ]
  },
  {
   "cell_type": "code",
   "execution_count": 11,
   "metadata": {},
   "outputs": [
    {
     "data": {
      "text/plain": [
       "base_date                   0\n",
       "manage_no                   0\n",
       "mac_address                 0\n",
       "ap_group_name               0\n",
       "install_location_detail     2\n",
       "open_date                   0\n",
       "category                    0\n",
       "category_detail            22\n",
       "address_dong                4\n",
       "address_detail              0\n",
       "latitude                    0\n",
       "longitude                   0\n",
       "pt_year                     0\n",
       "pt_month                    0\n",
       "dtype: int64"
      ]
     },
     "execution_count": 11,
     "metadata": {},
     "output_type": "execute_result"
    }
   ],
   "source": [
    "fixed20.isna().sum()"
   ]
  },
  {
   "cell_type": "markdown",
   "metadata": {},
   "source": [
    "#### 3.3. 카드데이터 "
   ]
  },
  {
   "cell_type": "markdown",
   "metadata": {},
   "source": [
    "카드 데이터는 **성별에 결측값이 존재**한다.   \n",
    "주로 **법인과 외국인**의 성별에 결측값이 존재한다.   \n",
    "  \n",
    "최근 부상 중인 스타트업 근무 트렌드 중 일+휴가 의미의 워케이션은   \n",
    "직원 만족도와 업무성과 증진을 위해 지자체와 기업이 채택하고 있어 '법인'과 관련성이 높아보인다.  "
   ]
  },
  {
   "cell_type": "code",
   "execution_count": 12,
   "metadata": {},
   "outputs": [
    {
     "data": {
      "text/plain": [
       "base_year_month         0\n",
       "city                    0\n",
       "area_type               0\n",
       "bjd                     0\n",
       "grid_1km                0\n",
       "biz_cd                  0\n",
       "biz_nm                  0\n",
       "user_type               0\n",
       "age                215270\n",
       "sex                     0\n",
       "user_cnt                0\n",
       "use_cnt                 0\n",
       "use_amt                 0\n",
       "pt_year                 0\n",
       "pt_month                0\n",
       "dtype: int64"
      ]
     },
     "execution_count": 12,
     "metadata": {},
     "output_type": "execute_result"
    }
   ],
   "source": [
    "card.isna().sum()"
   ]
  },
  {
   "cell_type": "markdown",
   "metadata": {},
   "source": [
    "**age 결측치를 999로 대체한다.** "
   ]
  },
  {
   "cell_type": "code",
   "execution_count": 33,
   "metadata": {},
   "outputs": [],
   "source": [
    "card.fillna(999, inplace=True)"
   ]
  },
  {
   "cell_type": "code",
   "execution_count": 32,
   "metadata": {},
   "outputs": [],
   "source": [
    "# type = ['내국인', '법인', '제주도민', '기타외국', '중국', '일본', '동남아']\n",
    "\n",
    "# print('<card>')\n",
    "# for i in type:\n",
    "#     print(f'{i} : {card[card[\"user_type\"]==i][\"age\"].isna().sum()}')\n",
    "\n",
    "# print('\\n')\n",
    "# print('<card_week>')\n",
    "# for i in type:\n",
    "#     print(f'{i} : {card_21w[card_21w[\"user_type\"]==i][\"age\"].isna().sum()}')\n",
    "\n",
    "# print('\\n')\n",
    "# print('<card_time>')\n",
    "# for i in type:\n",
    "#     print(f'{i} : {card_21t[card_21t[\"user_type\"]==i][\"age\"].isna().sum()}')"
   ]
  },
  {
   "cell_type": "markdown",
   "metadata": {},
   "source": [
    "### 4. 동부 지역별 데이터프레임화"
   ]
  },
  {
   "cell_type": "code",
   "execution_count": 17,
   "metadata": {},
   "outputs": [],
   "source": [
    "# 조천읍\n",
    "Jocheon = East_jeju[East_jeju['ap_address_detail'].str.contains('조천', na=False)]\n",
    "\n",
    "# 구좌읍\n",
    "Gujwa = East_jeju[East_jeju['ap_address_detail'].str.contains('구좌', na=False)]\n",
    "\n",
    "# 서귀포 성산읍\n",
    "Seongsan = East_jeju[East_jeju['ap_address_detail'].str.contains('성산', na=False)]\n",
    "\n",
    "# 구제주\n",
    "Gujeju = East_jeju[East_jeju['ap_address_detail'].str.contains('일도|이도|삼도|용담|건입|도두|화북|삼양|아라|봉개', na=False)]"
   ]
  },
  {
   "cell_type": "code",
   "execution_count": 18,
   "metadata": {},
   "outputs": [],
   "source": [
    "# Jocheon.to_csv('Jocheon.csv', index=False)\n",
    "# Gujwa.to_csv('Gujwa.csv', index=False)\n",
    "# Seongsan.to_csv('Seongsan.csv', index=False)\n",
    "# Gujeju.to_csv('Gujeju.csv', index=False)"
   ]
  },
  {
   "cell_type": "code",
   "execution_count": 19,
   "metadata": {},
   "outputs": [],
   "source": [
    "# 카드데이터 동부 지역\n",
    "\n",
    "Card = card[card['bjd'].str.contains('조천|구좌|성산|일도|이도|삼도|용담|건입|도두|화북|삼양|아라|봉개', na=False)] # w,t 는 '제주 동부'로 묶여있음 "
   ]
  },
  {
   "cell_type": "code",
   "execution_count": 29,
   "metadata": {},
   "outputs": [
    {
     "data": {
      "text/html": [
       "<div>\n",
       "<style scoped>\n",
       "    .dataframe tbody tr th:only-of-type {\n",
       "        vertical-align: middle;\n",
       "    }\n",
       "\n",
       "    .dataframe tbody tr th {\n",
       "        vertical-align: top;\n",
       "    }\n",
       "\n",
       "    .dataframe thead th {\n",
       "        text-align: right;\n",
       "    }\n",
       "</style>\n",
       "<table border=\"1\" class=\"dataframe\">\n",
       "  <thead>\n",
       "    <tr style=\"text-align: right;\">\n",
       "      <th></th>\n",
       "      <th>base_year_month</th>\n",
       "      <th>city</th>\n",
       "      <th>area_type</th>\n",
       "      <th>bjd</th>\n",
       "      <th>grid_1km</th>\n",
       "      <th>biz_cd</th>\n",
       "      <th>biz_nm</th>\n",
       "      <th>user_type</th>\n",
       "      <th>age</th>\n",
       "      <th>sex</th>\n",
       "      <th>user_cnt</th>\n",
       "      <th>use_cnt</th>\n",
       "      <th>use_amt</th>\n",
       "      <th>pt_year</th>\n",
       "      <th>pt_month</th>\n",
       "    </tr>\n",
       "  </thead>\n",
       "  <tbody>\n",
       "    <tr>\n",
       "      <th>8501</th>\n",
       "      <td>201901</td>\n",
       "      <td>서귀포시</td>\n",
       "      <td>읍면</td>\n",
       "      <td>성산읍</td>\n",
       "      <td>10004323588</td>\n",
       "      <td>G47216</td>\n",
       "      <td>건강보조식품 소매업</td>\n",
       "      <td>내국인</td>\n",
       "      <td>30.0</td>\n",
       "      <td>남성</td>\n",
       "      <td>1</td>\n",
       "      <td>1</td>\n",
       "      <td>12000</td>\n",
       "      <td>2019</td>\n",
       "      <td>1</td>\n",
       "    </tr>\n",
       "    <tr>\n",
       "      <th>8502</th>\n",
       "      <td>201901</td>\n",
       "      <td>서귀포시</td>\n",
       "      <td>읍면</td>\n",
       "      <td>성산읍</td>\n",
       "      <td>10004323690</td>\n",
       "      <td>G47122</td>\n",
       "      <td>체인화 편의점</td>\n",
       "      <td>내국인</td>\n",
       "      <td>40.0</td>\n",
       "      <td>여성</td>\n",
       "      <td>7</td>\n",
       "      <td>7</td>\n",
       "      <td>43350</td>\n",
       "      <td>2019</td>\n",
       "      <td>1</td>\n",
       "    </tr>\n",
       "    <tr>\n",
       "      <th>8503</th>\n",
       "      <td>201901</td>\n",
       "      <td>서귀포시</td>\n",
       "      <td>읍면</td>\n",
       "      <td>성산읍</td>\n",
       "      <td>10004323690</td>\n",
       "      <td>G47122</td>\n",
       "      <td>체인화 편의점</td>\n",
       "      <td>내국인</td>\n",
       "      <td>50.0</td>\n",
       "      <td>여성</td>\n",
       "      <td>4</td>\n",
       "      <td>4</td>\n",
       "      <td>47450</td>\n",
       "      <td>2019</td>\n",
       "      <td>1</td>\n",
       "    </tr>\n",
       "    <tr>\n",
       "      <th>8504</th>\n",
       "      <td>201901</td>\n",
       "      <td>서귀포시</td>\n",
       "      <td>읍면</td>\n",
       "      <td>성산읍</td>\n",
       "      <td>10004323690</td>\n",
       "      <td>G47122</td>\n",
       "      <td>체인화 편의점</td>\n",
       "      <td>내국인</td>\n",
       "      <td>50.0</td>\n",
       "      <td>남성</td>\n",
       "      <td>11</td>\n",
       "      <td>12</td>\n",
       "      <td>146300</td>\n",
       "      <td>2019</td>\n",
       "      <td>1</td>\n",
       "    </tr>\n",
       "    <tr>\n",
       "      <th>8505</th>\n",
       "      <td>201901</td>\n",
       "      <td>서귀포시</td>\n",
       "      <td>읍면</td>\n",
       "      <td>성산읍</td>\n",
       "      <td>10004323690</td>\n",
       "      <td>G47122</td>\n",
       "      <td>체인화 편의점</td>\n",
       "      <td>법인</td>\n",
       "      <td>999.0</td>\n",
       "      <td>알수없음</td>\n",
       "      <td>14</td>\n",
       "      <td>14</td>\n",
       "      <td>117700</td>\n",
       "      <td>2019</td>\n",
       "      <td>1</td>\n",
       "    </tr>\n",
       "  </tbody>\n",
       "</table>\n",
       "</div>"
      ],
      "text/plain": [
       "      base_year_month  city area_type  bjd     grid_1km  biz_cd      biz_nm  \\\n",
       "8501           201901  서귀포시        읍면  성산읍  10004323588  G47216  건강보조식품 소매업   \n",
       "8502           201901  서귀포시        읍면  성산읍  10004323690  G47122     체인화 편의점   \n",
       "8503           201901  서귀포시        읍면  성산읍  10004323690  G47122     체인화 편의점   \n",
       "8504           201901  서귀포시        읍면  성산읍  10004323690  G47122     체인화 편의점   \n",
       "8505           201901  서귀포시        읍면  성산읍  10004323690  G47122     체인화 편의점   \n",
       "\n",
       "     user_type    age   sex  user_cnt  use_cnt  use_amt  pt_year  pt_month  \n",
       "8501       내국인   30.0    남성         1        1    12000     2019         1  \n",
       "8502       내국인   40.0    여성         7        7    43350     2019         1  \n",
       "8503       내국인   50.0    여성         4        4    47450     2019         1  \n",
       "8504       내국인   50.0    남성        11       12   146300     2019         1  \n",
       "8505        법인  999.0  알수없음        14       14   117700     2019         1  "
      ]
     },
     "execution_count": 29,
     "metadata": {},
     "output_type": "execute_result"
    }
   ],
   "source": [
    "Card.head()"
   ]
  },
  {
   "cell_type": "markdown",
   "metadata": {},
   "source": [
    "### 5. 21년 숙박업"
   ]
  },
  {
   "cell_type": "code",
   "execution_count": 20,
   "metadata": {},
   "outputs": [],
   "source": [
    "# 지역X숙박업 종류(area_accom)별 이용자수, 매출\n",
    "\n",
    "# 21년 카드 데이터\n",
    "Card21 = Card[Card['pt_year']==2021]\n",
    "\n",
    "# 도시 / 읍면 나누기 \n",
    "city = Card21[Card21['area_type']=='도심']\n",
    "contry = Card21[Card21['area_type']=='읍면']\n",
    "\n",
    "\n",
    "# 도심지 숙박업\n",
    "city_condo = city[city['biz_nm']=='휴양콘도 운영업']\n",
    "city_motel = city[city['biz_nm']=='여관업']\n",
    "city_hotel = city[city['biz_nm']=='호텔업']\n",
    "\n",
    "# 읍면 숙박업 \n",
    "contry_condo = contry[contry['biz_nm']=='휴양콘도 운영업']\n",
    "contry_motel = contry[contry['biz_nm']=='여관업']\n",
    "contry_hotel = contry[contry['biz_nm']=='호텔업']"
   ]
  },
  {
   "cell_type": "code",
   "execution_count": 21,
   "metadata": {},
   "outputs": [],
   "source": [
    "area_accom = pd.DataFrame({'종류' : ['city_condo', 'city_motel', 'city_hotel', 'contry_condo', 'contry_motel', 'contry_hotel'], \n",
    "                            'len' : [len(city_condo), len(city_motel), len(city_hotel), len(contry_condo), len(contry_motel), len(contry_hotel)],\n",
    "                            '매출' : [city_condo['use_amt'].sum(), city_motel['use_amt'].sum(), city_hotel['use_amt'].sum(), contry_condo['use_amt'].sum(), contry_motel['use_amt'].sum(), contry_hotel['use_amt'].sum()]})"
   ]
  },
  {
   "cell_type": "code",
   "execution_count": 22,
   "metadata": {},
   "outputs": [
    {
     "data": {
      "text/html": [
       "<div>\n",
       "<style scoped>\n",
       "    .dataframe tbody tr th:only-of-type {\n",
       "        vertical-align: middle;\n",
       "    }\n",
       "\n",
       "    .dataframe tbody tr th {\n",
       "        vertical-align: top;\n",
       "    }\n",
       "\n",
       "    .dataframe thead th {\n",
       "        text-align: right;\n",
       "    }\n",
       "</style>\n",
       "<table border=\"1\" class=\"dataframe\">\n",
       "  <thead>\n",
       "    <tr style=\"text-align: right;\">\n",
       "      <th></th>\n",
       "      <th>종류</th>\n",
       "      <th>len</th>\n",
       "      <th>매출</th>\n",
       "    </tr>\n",
       "  </thead>\n",
       "  <tbody>\n",
       "    <tr>\n",
       "      <th>0</th>\n",
       "      <td>city_condo</td>\n",
       "      <td>0</td>\n",
       "      <td>0</td>\n",
       "    </tr>\n",
       "    <tr>\n",
       "      <th>1</th>\n",
       "      <td>city_motel</td>\n",
       "      <td>6767</td>\n",
       "      <td>5588272144</td>\n",
       "    </tr>\n",
       "    <tr>\n",
       "      <th>2</th>\n",
       "      <td>city_hotel</td>\n",
       "      <td>1548</td>\n",
       "      <td>7362206535</td>\n",
       "    </tr>\n",
       "    <tr>\n",
       "      <th>3</th>\n",
       "      <td>contry_condo</td>\n",
       "      <td>622</td>\n",
       "      <td>6063785835</td>\n",
       "    </tr>\n",
       "    <tr>\n",
       "      <th>4</th>\n",
       "      <td>contry_motel</td>\n",
       "      <td>6930</td>\n",
       "      <td>5853432729</td>\n",
       "    </tr>\n",
       "    <tr>\n",
       "      <th>5</th>\n",
       "      <td>contry_hotel</td>\n",
       "      <td>392</td>\n",
       "      <td>213799331</td>\n",
       "    </tr>\n",
       "  </tbody>\n",
       "</table>\n",
       "</div>"
      ],
      "text/plain": [
       "             종류   len          매출\n",
       "0    city_condo     0           0\n",
       "1    city_motel  6767  5588272144\n",
       "2    city_hotel  1548  7362206535\n",
       "3  contry_condo   622  6063785835\n",
       "4  contry_motel  6930  5853432729\n",
       "5  contry_hotel   392   213799331"
      ]
     },
     "execution_count": 22,
     "metadata": {},
     "output_type": "execute_result"
    }
   ],
   "source": [
    "area_accom"
   ]
  },
  {
   "cell_type": "code",
   "execution_count": 24,
   "metadata": {},
   "outputs": [],
   "source": [
    "# 월 별 숙박시설 별 추이 시각화 함수 (숙박 종류, 수요 기준)\n",
    "\n",
    "def area_accom_visual(accom, col): \n",
    "    empty = []\n",
    "    for i in range(1,13):\n",
    "        supply = accom[accom['pt_month']==i][col].sum()\n",
    "        empty.append(supply)\n",
    "\n",
    "    df = pd.DataFrame({'month' :[1,2,3,4,5,6,7,8,9,10,11,12], 'user_cnt': empty})\n",
    "    return df"
   ]
  },
  {
   "cell_type": "markdown",
   "metadata": {},
   "source": [
    "- 숙박업별 이용자 수 시각화"
   ]
  },
  {
   "cell_type": "code",
   "execution_count": 31,
   "metadata": {},
   "outputs": [
    {
     "data": {
      "text/plain": [
       "Text(0.5, 1.0, 'contry_hotel')"
      ]
     },
     "execution_count": 31,
     "metadata": {},
     "output_type": "execute_result"
    },
    {
     "data": {
      "image/png": "[encoded data removed]",
      "text/plain": [
       "<Figure size 2160x720 with 6 Axes>"
      ]
     },
     "metadata": {
      "needs_background": "light"
     },
     "output_type": "display_data"
    }
   ],
   "source": [
    "fig, axes = plt.subplots(2,3)\n",
    "fig.set_size_inches(30,10)\n",
    "\n",
    "x = [1,2,3,4,5,6,7,8,9,10,11,12]\n",
    "y = area_accom_visual(city_condo, 'user_cnt')['user_cnt'].tolist()\n",
    "y2 = area_accom_visual(city_motel, 'user_cnt')['user_cnt'].tolist()\n",
    "y3 = area_accom_visual(city_hotel, 'user_cnt')['user_cnt'].tolist()\n",
    "y4 = area_accom_visual(contry_condo, 'user_cnt')['user_cnt'].tolist()\n",
    "y5 = area_accom_visual(contry_motel, 'user_cnt')['user_cnt'].tolist()\n",
    "y6 = area_accom_visual(contry_hotel, 'user_cnt')['user_cnt'].tolist()\n",
    "\n",
    "axes[0,0].plot(x,y)\n",
    "axes[0,1].plot(x,y2)\n",
    "axes[0,2].plot(x,y3)\n",
    "axes[1,0].plot(x,y4)\n",
    "axes[1,1].plot(x,y5)\n",
    "axes[1,2].plot(x,y6)\n",
    "\n",
    "axes[0,0].set_title('city_condo')\n",
    "axes[0,1].set_title('city_motel')\n",
    "axes[0,2].set_title('city_hotel')\n",
    "axes[1,0].set_title('contry_condo')\n",
    "axes[1,1].set_title('contry_motel')\n",
    "axes[1,2].set_title('contry_hotel')"
   ]
  },
  {
   "cell_type": "markdown",
   "metadata": {},
   "source": [
    "- 숙박업별 매출 추이 시각화"
   ]
  },
  {
   "cell_type": "code",
   "execution_count": 26,
   "metadata": {},
   "outputs": [],
   "source": [
    "# fig, axes = plt.subplots(2,3)\n",
    "# fig.set_size_inches(100,30)\n",
    "\n",
    "# x = [1,2,3,4,5,6,7,8,9,10,11,12]\n",
    "# y = area_accom_visual(city_condo, 'use_amt')['use_amt'].tolist()\n",
    "# y2 = area_accom_visual(city_motel, 'use_amt')['use_amt'].tolist()\n",
    "# y3 = area_accom_visual(city_hotel, 'use_amt')['use_amt'].tolist()\n",
    "# y4 = area_accom_visual(contry_condo, 'use_amt')['use_amt'].tolist()\n",
    "# y5 = area_accom_visual(contry_motel, 'use_amt')['use_amt'].tolist()\n",
    "# y6 = area_accom_visual(contry_hotel, 'use_amt')['use_amt'].tolist()\n",
    "\n",
    "# axes[0,0].bar(x,y)\n",
    "# axes[0,1].bar(x,y2)\n",
    "# axes[0,2].bar(x,y3)\n",
    "# axes[1,0].bar(x,y4)\n",
    "# axes[1,1].bar(x,y5)\n",
    "# axes[1,2].bar(x,y6)\n",
    "\n",
    "# axes[0,0].set_title('city_condo')\n",
    "# axes[0,1].set_title('city_motel')\n",
    "# axes[0,2].set_title('city_hotel')\n",
    "# axes[1,0].set_title('contry_condo')\n",
    "# axes[1,1].set_title('contry_motel')\n",
    "# axes[1,2].set_title('contry_hotel')"
   ]
  },
  {
   "cell_type": "code",
   "execution_count": 27,
   "metadata": {},
   "outputs": [],
   "source": [
    "# y 축 공유해서 추이별로 살펴보고 \n",
    "# 도심형 저가, 중소형 숙박시설 - 워케이션, 휴양 목적의 고가 펜션, 호텔으로 간주할만한 거 고르기"
   ]
  },
  {
   "cell_type": "markdown",
   "metadata": {},
   "source": [
    "--- 여기까지 ! \n"
   ]
  },
  {
   "cell_type": "code",
   "execution_count": null,
   "metadata": {},
   "outputs": [],
   "source": []
  },
  {
   "cell_type": "code",
   "execution_count": null,
   "metadata": {},
   "outputs": [],
   "source": []
  },
  {
   "cell_type": "code",
   "execution_count": null,
   "metadata": {},
   "outputs": [],
   "source": []
  },
  {
   "cell_type": "code",
   "execution_count": null,
   "metadata": {},
   "outputs": [],
   "source": []
  },
  {
   "cell_type": "code",
   "execution_count": null,
   "metadata": {},
   "outputs": [],
   "source": []
  },
  {
   "cell_type": "code",
   "execution_count": null,
   "metadata": {},
   "outputs": [],
   "source": []
  },
  {
   "cell_type": "code",
   "execution_count": null,
   "metadata": {},
   "outputs": [],
   "source": []
  },
  {
   "cell_type": "markdown",
   "metadata": {},
   "source": [
    "### 고정형 데이터 일별로 그룹화"
   ]
  },
  {
   "cell_type": "markdown",
   "metadata": {},
   "source": [
    "**1) 18,19년도 고정형 데이터**"
   ]
  },
  {
   "cell_type": "code",
   "execution_count": null,
   "metadata": {},
   "outputs": [],
   "source": [
    "# fixed1819['base_date'].unique()"
   ]
  },
  {
   "cell_type": "code",
   "execution_count": null,
   "metadata": {},
   "outputs": [],
   "source": [
    "# fixed1819 = fixed1819.groupby('base_date')\n",
    "# # fixed1819.groups"
   ]
  },
  {
   "cell_type": "markdown",
   "metadata": {},
   "source": [
    "**기준일자별로 **"
   ]
  },
  {
   "cell_type": "code",
   "execution_count": null,
   "metadata": {},
   "outputs": [],
   "source": [
    "# groups = [20180425, 20180422, 20180811, 20180820, 20180813, 20190730]\n",
    "\n",
    "# for group in groups:\n",
    "#     if len(gr.get_group(group)) == len(gr.get_group(group)[\"mac_address\"].unique()):\n",
    "#         pass\n",
    "#     else:\n",
    "#         print(f'<{group}>')\n",
    "#         print(f'설치 ap 수 : {len(gr.get_group(group))}')\n",
    "#         print(f'ap 고유수 : {len(gr.get_group(group)[\"mac_address\"].unique())}')\n",
    "#         print( )"
   ]
  },
  {
   "cell_type": "markdown",
   "metadata": {},
   "source": [
    "**< 2018.04.22 >**\n",
    "- **ap 이동 (표선면 > 성산읍)**"
   ]
  },
  {
   "cell_type": "code",
   "execution_count": null,
   "metadata": {},
   "outputs": [],
   "source": [
    "# list180422 = gr.get_group(20180422)['mac_address'].unique().tolist()\n",
    "\n",
    "# for i in list0425:\n",
    "#     if len(gr.get_group(20180422)[gr.get_group(20180422)['mac_address']==i]) == 1:\n",
    "#         pass\n",
    "#     else:\n",
    "#         mac = i\n",
    "\n",
    "# gr.get_group(20180422)[gr.get_group(20180422)['mac_address']== mac]\n",
    "\n",
    "# # 18.04.22 ~ 18.04.24 : 성산읍 "
   ]
  },
  {
   "cell_type": "markdown",
   "metadata": {},
   "source": [
    "**< 2018. 04. 25 >**\n",
    "- **불과 3일만에 원위치 (성산읍 > 표선면)**"
   ]
  },
  {
   "cell_type": "code",
   "execution_count": null,
   "metadata": {},
   "outputs": [],
   "source": [
    "# list0425 = gr.get_group(20180425)['mac_address'].unique().tolist()\n",
    "\n",
    "# for i in list0425:\n",
    "#     if len(gr.get_group(20180425)[gr.get_group(20180425)['mac_address']==i]) == 1:\n",
    "#         pass\n",
    "#     else:\n",
    "#         mac = i\n",
    "\n",
    "# gr.get_group(20180425)[gr.get_group(20180425)['mac_address']== mac]\n",
    "\n",
    "# "
   ]
  },
  {
   "cell_type": "markdown",
   "metadata": {},
   "source": [
    "**< 2019. 07. 30 >**\n"
   ]
  },
  {
   "cell_type": "code",
   "execution_count": null,
   "metadata": {},
   "outputs": [],
   "source": [
    "# list190730 = gr.get_group(20190730)['mac_address'].unique().tolist()\n",
    "# empty = []\n",
    "\n",
    "# for i in list0425:\n",
    "#     if len(gr.get_group(20190730)[gr.get_group(20190730)['mac_address']==i]) == 1:\n",
    "#         pass\n",
    "#     else:\n",
    "#         print(i)\n",
    "\n",
    "# # len(empty.unique())\n",
    "# # gr.get_group(20190730)[gr.get_group(20190730)['mac_address']== mac]\n"
   ]
  },
  {
   "cell_type": "code",
   "execution_count": null,
   "metadata": {},
   "outputs": [],
   "source": [
    "# Move['visit_type'].unique()"
   ]
  },
  {
   "cell_type": "markdown",
   "metadata": {},
   "source": [
    "- 버스이용 거주자와 관광객 수는 거의 동일함\n",
    "- 거주자의 버스이용도가 더 많거나, 거주자가 "
   ]
  },
  {
   "cell_type": "code",
   "execution_count": null,
   "metadata": {},
   "outputs": [],
   "source": [
    "# print(len(Move[Move['visit_type']=='거주']))\n",
    "# print(len(Move[Move['visit_type']=='관광']))"
   ]
  },
  {
   "cell_type": "code",
   "execution_count": null,
   "metadata": {},
   "outputs": [],
   "source": [
    "# print(len(Move[Move['visit_type']=='거주']['mac_address'].unique()))\n",
    "# print(len(Move[Move['visit_type']=='관광']['mac_address'].unique()))"
   ]
  },
  {
   "cell_type": "markdown",
   "metadata": {},
   "source": [
    "- fixed 2020"
   ]
  },
  {
   "cell_type": "code",
   "execution_count": null,
   "metadata": {},
   "outputs": [],
   "source": [
    "# fixed20['base_date'].unique()"
   ]
  },
  {
   "cell_type": "code",
   "execution_count": null,
   "metadata": {},
   "outputs": [],
   "source": [
    "# fixed20 = fixed20.groupby('base_date')\n",
    "# # fixed20.groups"
   ]
  },
  {
   "cell_type": "code",
   "execution_count": null,
   "metadata": {},
   "outputs": [],
   "source": [
    "# fixed20.get_group(20200525)"
   ]
  },
  {
   "cell_type": "code",
   "execution_count": null,
   "metadata": {},
   "outputs": [],
   "source": [
    "# fixed1819.set_index(fixed1819['base_date'], inplace=True)\n",
    "# fixed1819=fixed1819.drop(['base_date'],1)\n",
    "# fixed1819"
   ]
  },
  {
   "cell_type": "code",
   "execution_count": null,
   "metadata": {},
   "outputs": [],
   "source": [
    "# fixed20"
   ]
  },
  {
   "cell_type": "code",
   "execution_count": null,
   "metadata": {},
   "outputs": [],
   "source": [
    "# East_jeju['ap_category'].unique()"
   ]
  },
  {
   "cell_type": "code",
   "execution_count": null,
   "metadata": {},
   "outputs": [],
   "source": [
    "# category1 = ['공영관광지', '버스정류소', '테마거리', '광장', '전기차충전소', '사설관광지'] \n",
    "# category2 = ['숲길', '올레코스', '공원', '해변', '체육시설', '복지회관']\n",
    "# category3 = ['지하상가', '요양병원', '항구', '여객터미널', '학습관', '공항'] \n",
    "# category4 = ['학습센터', '전통시장', '박물관', '장례식장', '도서관', '다중이용시설']\n",
    "# category5 = ['포구', '공공기관', '관광지', '미술관', '공연장', '관공서']"
   ]
  },
  {
   "cell_type": "code",
   "execution_count": null,
   "metadata": {},
   "outputs": [],
   "source": [
    "# live = East_jeju[East_jeju['visit_type']=='거주']\n",
    "# travel = East_jeju[East_jeju['visit_type']=='관광']\n",
    "\n",
    "# x = ['거주', '관광']\n",
    "# y = [len(live[live['ap_category']=='복지회관']), len(travel[travel['ap_category']=='복지회관'])]\n",
    "\n",
    "# plt.bar(x, y)\n",
    "# plt.show()"
   ]
  },
  {
   "cell_type": "markdown",
   "metadata": {},
   "source": [
    "## **2021년 제주 공공 와이파이 데이터 분석**    \n",
    "## **제주 관광지 흐름 및 동부 숙박 트렌드 동부 숙박업 수요 예측**\n"
   ]
  },
  {
   "cell_type": "markdown",
   "metadata": {},
   "source": [
    "### **1. 접속 순위**"
   ]
  },
  {
   "cell_type": "markdown",
   "metadata": {},
   "source": [
    "**1) 동부 전체**"
   ]
  },
  {
   "cell_type": "code",
   "execution_count": null,
   "metadata": {},
   "outputs": [],
   "source": [
    "# ap_category \n",
    "East_ap_category = East_jeju['ap_category'].unique().tolist()\n",
    "# Jocheon_ap_category = Jocheon['ap_category'].unique().tolist()\n",
    "# Gujwa_ap_category = Gujwa['ap_category'].unique().tolist()\n",
    "# Seongsan_ap_category = Seongsan['ap_category'].unique().tolist()\n",
    "# Gujeju_ap_category = Gujeju['ap_category'].unique().tolist()"
   ]
  },
  {
   "cell_type": "code",
   "execution_count": null,
   "metadata": {},
   "outputs": [],
   "source": [
    "# 접속횟수 순위 (category_list, df)\n",
    "\n",
    "def ap_ascending(a,b):\n",
    "    empty = []\n",
    "    for category in a:\n",
    "        empty.append(len(b[b[\"ap_category\"]==category]))\n",
    "\n",
    "    # 오름차순 정렬 \n",
    "    df = pd.DataFrame({'ap_category' : a, '접속 횟수' : empty})\n",
    "    return df.sort_values('접속 횟수', ascending=False)[:5]"
   ]
  },
  {
   "cell_type": "markdown",
   "metadata": {},
   "source": [
    "**구좌읍 제외 동부 모든 지역에서 접속순위 1위 : 버스 정류장.**"
   ]
  },
  {
   "cell_type": "code",
   "execution_count": null,
   "metadata": {},
   "outputs": [],
   "source": [
    "fig, axes = plt.subplots(2,3) # 행 열 \n",
    "fig.set_size_inches((30,20)) # 가로 세로\n",
    "\n",
    "x = ap_ascending(East_ap_category, East_jeju)['ap_category']\n",
    "y = ap_ascending(East_ap_category, East_jeju)['접속 횟수']\n",
    "axes[0,0].bar(x,y)\n",
    "\n",
    "x = ap_ascending(Jocheon_ap_category, Jocheon)['ap_category']\n",
    "y = ap_ascending(Jocheon_ap_category, Jocheon)['접속 횟수']\n",
    "axes[0,1].bar(x,y)\n",
    "\n",
    "x = ap_ascending(Gujwa_ap_category, Gujwa)['ap_category']\n",
    "y = ap_ascending(Gujwa_ap_category, Gujwa)['접속 횟수']\n",
    "axes[1,0].bar(x,y)\n",
    "\n",
    "x = ap_ascending(Seongsan_ap_category, Seongsan)['ap_category']\n",
    "y = ap_ascending(Seongsan_ap_category, Seongsan)['접속 횟수']\n",
    "axes[1,1].bar(x,y)\n",
    "\n",
    "x = ap_ascending(Gujeju_ap_category, Gujeju)['ap_category']\n",
    "y = ap_ascending(Gujeju_ap_category, Gujeju)['접속 횟수']\n",
    "axes[1,2].bar(x,y)\n",
    "\n",
    "axes[0,0].set_title('East_jeju')\n",
    "axes[0,1].set_title('Jocheon')\n",
    "axes[0,2].set_title('Gujwa')\n",
    "axes[1,0].set_title('Seongsan')\n",
    "axes[1,1].set_title('Gujeju')\n",
    "axes[2,1].set_title('.')\n",
    "\n",
    "plt.show()"
   ]
  },
  {
   "cell_type": "markdown",
   "metadata": {},
   "source": [
    "- **관광지와 무관한 category 제외**   \n",
    "(버스정류소, 전기차충전소, 요양병원, 공항, 장례식장, 공공기관, 관공서 )"
   ]
  },
  {
   "cell_type": "code",
   "execution_count": null,
   "metadata": {},
   "outputs": [],
   "source": [
    "travel_ap = ['공영관광지', '테마거리', '광장', '사설관광지', '숲길', '올레코스',\n",
    "       '공원', '해변', '체육시설', '지하상가', '항구', '여객터미널', '학습관',\n",
    "       '학습센터', '전통시장', '박물관', '도서관', '다중이용시설', '관광지',\n",
    "       '미술관', '공연장']"
   ]
  },
  {
   "cell_type": "code",
   "execution_count": null,
   "metadata": {},
   "outputs": [],
   "source": [
    "# 지역별 **관광지** 접속횟수 순위 (travel_ap, df)\n",
    "\n",
    "def travel_ascending(a,b):\n",
    "    empty = []\n",
    "    for category in a:\n",
    "        empty.append(len(b[b[\"ap_category\"]==category]))\n",
    "\n",
    "    # 오름차순 정렬 \n",
    "    df = pd.DataFrame({'travel_ap' : a, '접속 횟수' : empty})\n",
    "    return df.sort_values('접속 횟수', ascending=False)"
   ]
  },
  {
   "cell_type": "code",
   "execution_count": null,
   "metadata": {},
   "outputs": [
    {
     "data": {
      "image/png": "[encoded data removed]",
      "text/plain": [
       "<Figure size 2160x360 with 5 Axes>"
      ]
     },
     "metadata": {
      "needs_background": "light"
     },
     "output_type": "display_data"
    }
   ],
   "source": [
    "fig, axes = plt.subplots(1,5) # 행 열 \n",
    "fig.set_size_inches((30,5)) # 가로 세로\n",
    "\n",
    "x = travel_ascending(travel_ap, East_jeju)[:5]['travel_ap']\n",
    "y = travel_ascending(travel_ap, East_jeju)[:5]['접속 횟수']\n",
    "axes[0].bar(x,y)\n",
    "\n",
    "x = travel_ascending(travel_ap, Jocheon)[:5]['travel_ap']\n",
    "y = travel_ascending(travel_ap, Jocheon)[:5]['접속 횟수']\n",
    "axes[1].bar(x,y)\n",
    "\n",
    "x = travel_ascending(travel_ap, Gujwa)[:5]['travel_ap']\n",
    "y = travel_ascending(travel_ap, Gujwa)[:5]['접속 횟수']\n",
    "axes[2].bar(x,y)\n",
    "\n",
    "x = travel_ascending(travel_ap, Seongsan)[:5]['travel_ap']\n",
    "y = travel_ascending(travel_ap, Seongsan)[:5]['접속 횟수']\n",
    "axes[3].bar(x,y)\n",
    "\n",
    "x = travel_ascending(travel_ap, Gujeju)[:5]['travel_ap']\n",
    "y = travel_ascending(travel_ap, Gujeju)[:5]['접속 횟수']\n",
    "axes[4].bar(x,y)\n",
    "\n",
    "axes[0].set_title('East_jeju')\n",
    "axes[1].set_title('Jocheon')\n",
    "axes[2].set_title('Gujwa')\n",
    "axes[3].set_title('Seongsan')\n",
    "axes[4].set_title('Gujeju')\n",
    "\n",
    "plt.show()"
   ]
  },
  {
   "cell_type": "markdown",
   "metadata": {},
   "source": [
    "head / tail 의 가장 큰 차이점은 야외 / 실내 활동"
   ]
  },
  {
   "cell_type": "code",
   "execution_count": null,
   "metadata": {},
   "outputs": [
    {
     "data": {
      "text/html": [
       "<div>\n",
       "<style scoped>\n",
       "    .dataframe tbody tr th:only-of-type {\n",
       "        vertical-align: middle;\n",
       "    }\n",
       "\n",
       "    .dataframe tbody tr th {\n",
       "        vertical-align: top;\n",
       "    }\n",
       "\n",
       "    .dataframe thead th {\n",
       "        text-align: right;\n",
       "    }\n",
       "</style>\n",
       "<table border=\"1\" class=\"dataframe\">\n",
       "  <thead>\n",
       "    <tr style=\"text-align: right;\">\n",
       "      <th></th>\n",
       "      <th>travel_ap</th>\n",
       "      <th>접속 횟수</th>\n",
       "    </tr>\n",
       "  </thead>\n",
       "  <tbody>\n",
       "    <tr>\n",
       "      <th>6</th>\n",
       "      <td>공원</td>\n",
       "      <td>2116046</td>\n",
       "    </tr>\n",
       "    <tr>\n",
       "      <th>7</th>\n",
       "      <td>해변</td>\n",
       "      <td>1991190</td>\n",
       "    </tr>\n",
       "    <tr>\n",
       "      <th>0</th>\n",
       "      <td>공영관광지</td>\n",
       "      <td>1990743</td>\n",
       "    </tr>\n",
       "    <tr>\n",
       "      <th>5</th>\n",
       "      <td>올레코스</td>\n",
       "      <td>1135057</td>\n",
       "    </tr>\n",
       "    <tr>\n",
       "      <th>1</th>\n",
       "      <td>테마거리</td>\n",
       "      <td>432488</td>\n",
       "    </tr>\n",
       "  </tbody>\n",
       "</table>\n",
       "</div>"
      ],
      "text/plain": [
       "  travel_ap    접속 횟수\n",
       "6        공원  2116046\n",
       "7        해변  1991190\n",
       "0     공영관광지  1990743\n",
       "5      올레코스  1135057\n",
       "1      테마거리   432488"
      ]
     },
     "execution_count": 43,
     "metadata": {},
     "output_type": "execute_result"
    }
   ],
   "source": [
    "# 동부 전체 top 5\n",
    "travel_ascending(travel_ap, East_jeju).head(5)"
   ]
  },
  {
   "cell_type": "code",
   "execution_count": null,
   "metadata": {},
   "outputs": [
    {
     "data": {
      "text/html": [
       "<div>\n",
       "<style scoped>\n",
       "    .dataframe tbody tr th:only-of-type {\n",
       "        vertical-align: middle;\n",
       "    }\n",
       "\n",
       "    .dataframe tbody tr th {\n",
       "        vertical-align: top;\n",
       "    }\n",
       "\n",
       "    .dataframe thead th {\n",
       "        text-align: right;\n",
       "    }\n",
       "</style>\n",
       "<table border=\"1\" class=\"dataframe\">\n",
       "  <thead>\n",
       "    <tr style=\"text-align: right;\">\n",
       "      <th></th>\n",
       "      <th>travel_ap</th>\n",
       "      <th>접속 횟수</th>\n",
       "    </tr>\n",
       "  </thead>\n",
       "  <tbody>\n",
       "    <tr>\n",
       "      <th>12</th>\n",
       "      <td>학습관</td>\n",
       "      <td>25734</td>\n",
       "    </tr>\n",
       "    <tr>\n",
       "      <th>20</th>\n",
       "      <td>공연장</td>\n",
       "      <td>13306</td>\n",
       "    </tr>\n",
       "    <tr>\n",
       "      <th>17</th>\n",
       "      <td>다중이용시설</td>\n",
       "      <td>3716</td>\n",
       "    </tr>\n",
       "    <tr>\n",
       "      <th>18</th>\n",
       "      <td>관광지</td>\n",
       "      <td>1182</td>\n",
       "    </tr>\n",
       "    <tr>\n",
       "      <th>19</th>\n",
       "      <td>미술관</td>\n",
       "      <td>858</td>\n",
       "    </tr>\n",
       "  </tbody>\n",
       "</table>\n",
       "</div>"
      ],
      "text/plain": [
       "   travel_ap  접속 횟수\n",
       "12       학습관  25734\n",
       "20       공연장  13306\n",
       "17    다중이용시설   3716\n",
       "18       관광지   1182\n",
       "19       미술관    858"
      ]
     },
     "execution_count": 44,
     "metadata": {},
     "output_type": "execute_result"
    }
   ],
   "source": [
    "# 동부 전체 tail 5\n",
    "travel_ascending(travel_ap, East_jeju).tail(5)"
   ]
  },
  {
   "cell_type": "code",
   "execution_count": null,
   "metadata": {},
   "outputs": [],
   "source": [
    "def highlight_max(val):\n",
    "    color = 'red' if val == max else 'black'\n",
    "    return 'color: %s' % color"
   ]
  },
  {
   "cell_type": "code",
   "execution_count": null,
   "metadata": {},
   "outputs": [
    {
     "data": {
      "text/html": [
       "<div>\n",
       "<style scoped>\n",
       "    .dataframe tbody tr th:only-of-type {\n",
       "        vertical-align: middle;\n",
       "    }\n",
       "\n",
       "    .dataframe tbody tr th {\n",
       "        vertical-align: top;\n",
       "    }\n",
       "\n",
       "    .dataframe thead th {\n",
       "        text-align: right;\n",
       "    }\n",
       "</style>\n",
       "<table border=\"1\" class=\"dataframe\">\n",
       "  <thead>\n",
       "    <tr style=\"text-align: right;\">\n",
       "      <th></th>\n",
       "      <th>East_head</th>\n",
       "      <th>접속 횟수</th>\n",
       "    </tr>\n",
       "  </thead>\n",
       "  <tbody>\n",
       "    <tr>\n",
       "      <th>7</th>\n",
       "      <td>신산공원</td>\n",
       "      <td>195862</td>\n",
       "    </tr>\n",
       "  </tbody>\n",
       "</table>\n",
       "</div>"
      ],
      "text/plain": [
       "  East_head   접속 횟수\n",
       "7      신산공원  195862"
      ]
     },
     "execution_count": 46,
     "metadata": {},
     "output_type": "execute_result"
    }
   ],
   "source": [
    "East_head = East_jeju[East_jeju['ap_category']=='공원']['ap_place'].unique().tolist()\n",
    "\n",
    "# 제주 동부 공영관광지 접속 순위 \n",
    "def East_head_ascending(a,b):\n",
    "    empty = []\n",
    "    for place in a:\n",
    "        empty.append(len(b[b[\"ap_place\"]==place]))\n",
    "\n",
    "    # 오름차순 정렬 \n",
    "    df = pd.DataFrame({'East_head' : a, '접속 횟수' : empty})\n",
    "    return df.sort_values('접속 횟수', ascending=False)\n",
    "\n",
    "East_head_ascending(East_head,East_jeju[East_jeju['ap_category']=='공원']).head(1)\n",
    "\n"
   ]
  },
  {
   "cell_type": "markdown",
   "metadata": {},
   "source": [
    "**절대적인 접속자 수 \"장소\" 순위**\n",
    "- head : 함덕 서우봉 해변 \n",
    "- tail : 갓전시관 "
   ]
  },
  {
   "cell_type": "code",
   "execution_count": null,
   "metadata": {},
   "outputs": [],
   "source": [
    "# 이거 다시 실행하세용."
   ]
  },
  {
   "cell_type": "code",
   "execution_count": 34,
   "metadata": {},
   "outputs": [],
   "source": [
    "# 관광지만 포함하는 동부 데이터 프레임 생성 \n",
    "\n",
    "not_travel_category = ['버스정류소', '전기차충전소', '요양병원', '공항', '장례식장', '공공기관', '관공서']\n",
    "\n",
    "# 동부\n",
    "East_travel = East_jeju[~East_jeju['ap_category'].isin(not_travel_category)]\n",
    "East_ap_place = East_travel['ap_place'].unique().tolist()\n",
    "\n",
    "# 조천\n",
    "Jocheon_travel = Jocheon[~Jocheon['ap_category'].isin(not_travel_category)]\n",
    "Jocheon_ap_place = Jocheon_travel['ap_place'].unique().tolist()\n",
    "\n",
    "# 구좌\n",
    "Gujwa_travel = Gujwa[~Gujwa['ap_category'].isin(not_travel_category)]\n",
    "Gujwa_ap_place = Gujwa_travel['ap_place'].unique().tolist()\n",
    "\n",
    "# 성산\n",
    "Seongsan_travel = Seongsan[~Seongsan['ap_category'].isin(not_travel_category)]\n",
    "Seongsan_ap_place = Seongsan_travel['ap_place'].unique().tolist()\n",
    "\n",
    "# 구제주 \n",
    "Gujeju_travel = Gujeju[~Gujeju['ap_category'].isin(not_travel_category)]\n",
    "Gujeju_ap_place = Gujeju_travel['ap_place'].unique().tolist()"
   ]
  },
  {
   "cell_type": "code",
   "execution_count": 35,
   "metadata": {},
   "outputs": [],
   "source": [
    "# 관광 장소별 접속횟수 순위 (East_ap_place, East_travel)\n",
    "\n",
    "def travel_ascending(a,b):\n",
    "   empty = []\n",
    "   for place in a:\n",
    "      empty.append(len(b[b[\"ap_place\"]==place]))\n",
    " \n",
    "   df = pd.DataFrame({'East_a_place' : a, '접속 횟수' : empty})\n",
    "   return df.sort_values('접속 횟수', ascending=False)"
   ]
  },
  {
   "cell_type": "code",
   "execution_count": 38,
   "metadata": {},
   "outputs": [
    {
     "data": {
      "text/html": [
       "<div>\n",
       "<style scoped>\n",
       "    .dataframe tbody tr th:only-of-type {\n",
       "        vertical-align: middle;\n",
       "    }\n",
       "\n",
       "    .dataframe tbody tr th {\n",
       "        vertical-align: top;\n",
       "    }\n",
       "\n",
       "    .dataframe thead th {\n",
       "        text-align: right;\n",
       "    }\n",
       "</style>\n",
       "<table border=\"1\" class=\"dataframe\">\n",
       "  <thead>\n",
       "    <tr style=\"text-align: right;\">\n",
       "      <th></th>\n",
       "      <th>East_a_place</th>\n",
       "      <th>접속 횟수</th>\n",
       "    </tr>\n",
       "  </thead>\n",
       "  <tbody>\n",
       "    <tr>\n",
       "      <th>36</th>\n",
       "      <td>함덕 서우봉 해변</td>\n",
       "      <td>568313</td>\n",
       "    </tr>\n",
       "    <tr>\n",
       "      <th>12</th>\n",
       "      <td>성산일출봉</td>\n",
       "      <td>513851</td>\n",
       "    </tr>\n",
       "    <tr>\n",
       "      <th>48</th>\n",
       "      <td>절물자연휴양림</td>\n",
       "      <td>437018</td>\n",
       "    </tr>\n",
       "    <tr>\n",
       "      <th>15</th>\n",
       "      <td>광치기해변</td>\n",
       "      <td>427033</td>\n",
       "    </tr>\n",
       "    <tr>\n",
       "      <th>40</th>\n",
       "      <td>19코스</td>\n",
       "      <td>394466</td>\n",
       "    </tr>\n",
       "    <tr>\n",
       "      <th>47</th>\n",
       "      <td>20코스</td>\n",
       "      <td>288396</td>\n",
       "    </tr>\n",
       "    <tr>\n",
       "      <th>32</th>\n",
       "      <td>칠성로 쇼핑거리</td>\n",
       "      <td>246346</td>\n",
       "    </tr>\n",
       "    <tr>\n",
       "      <th>75</th>\n",
       "      <td>섭지코지</td>\n",
       "      <td>222040</td>\n",
       "    </tr>\n",
       "    <tr>\n",
       "      <th>0</th>\n",
       "      <td>모구리야영장</td>\n",
       "      <td>216619</td>\n",
       "    </tr>\n",
       "    <tr>\n",
       "      <th>26</th>\n",
       "      <td>김녕 성세기 해변</td>\n",
       "      <td>203369</td>\n",
       "    </tr>\n",
       "    <tr>\n",
       "      <th>28</th>\n",
       "      <td>신산공원</td>\n",
       "      <td>195862</td>\n",
       "    </tr>\n",
       "    <tr>\n",
       "      <th>46</th>\n",
       "      <td>지하상가</td>\n",
       "      <td>195107</td>\n",
       "    </tr>\n",
       "    <tr>\n",
       "      <th>9</th>\n",
       "      <td>18코스</td>\n",
       "      <td>194311</td>\n",
       "    </tr>\n",
       "    <tr>\n",
       "      <th>52</th>\n",
       "      <td>월정리 해변</td>\n",
       "      <td>186429</td>\n",
       "    </tr>\n",
       "    <tr>\n",
       "      <th>101</th>\n",
       "      <td>교래자연휴양림</td>\n",
       "      <td>174290</td>\n",
       "    </tr>\n",
       "    <tr>\n",
       "      <th>150</th>\n",
       "      <td>용두암</td>\n",
       "      <td>155521</td>\n",
       "    </tr>\n",
       "    <tr>\n",
       "      <th>56</th>\n",
       "      <td>성산포항</td>\n",
       "      <td>128279</td>\n",
       "    </tr>\n",
       "    <tr>\n",
       "      <th>30</th>\n",
       "      <td>만장굴</td>\n",
       "      <td>121260</td>\n",
       "    </tr>\n",
       "    <tr>\n",
       "      <th>107</th>\n",
       "      <td>하도 해변</td>\n",
       "      <td>115549</td>\n",
       "    </tr>\n",
       "    <tr>\n",
       "      <th>2</th>\n",
       "      <td>북수구광장</td>\n",
       "      <td>110429</td>\n",
       "    </tr>\n",
       "  </tbody>\n",
       "</table>\n",
       "</div>"
      ],
      "text/plain": [
       "    East_a_place   접속 횟수\n",
       "36     함덕 서우봉 해변  568313\n",
       "12         성산일출봉  513851\n",
       "48       절물자연휴양림  437018\n",
       "15         광치기해변  427033\n",
       "40          19코스  394466\n",
       "47          20코스  288396\n",
       "32      칠성로 쇼핑거리  246346\n",
       "75          섭지코지  222040\n",
       "0         모구리야영장  216619\n",
       "26     김녕 성세기 해변  203369\n",
       "28          신산공원  195862\n",
       "46          지하상가  195107\n",
       "9           18코스  194311\n",
       "52        월정리 해변  186429\n",
       "101      교래자연휴양림  174290\n",
       "150          용두암  155521\n",
       "56          성산포항  128279\n",
       "30           만장굴  121260\n",
       "107        하도 해변  115549\n",
       "2          북수구광장  110429"
      ]
     },
     "execution_count": 38,
     "metadata": {},
     "output_type": "execute_result"
    }
   ],
   "source": [
    "travel_ascending(East_ap_place, East_travel).head(20)"
   ]
  },
  {
   "cell_type": "markdown",
   "metadata": {},
   "source": [
    "- head(10) 칠성로 쇼핑거리 제외 야외관광지(활동, 체험, 자연 위주)"
   ]
  },
  {
   "cell_type": "code",
   "execution_count": null,
   "metadata": {},
   "outputs": [
    {
     "data": {
      "text/html": [
       "<div>\n",
       "<style scoped>\n",
       "    .dataframe tbody tr th:only-of-type {\n",
       "        vertical-align: middle;\n",
       "    }\n",
       "\n",
       "    .dataframe tbody tr th {\n",
       "        vertical-align: top;\n",
       "    }\n",
       "\n",
       "    .dataframe thead th {\n",
       "        text-align: right;\n",
       "    }\n",
       "</style>\n",
       "<table border=\"1\" class=\"dataframe\">\n",
       "  <thead>\n",
       "    <tr style=\"text-align: right;\">\n",
       "      <th></th>\n",
       "      <th>East_a_place</th>\n",
       "      <th>접속 횟수</th>\n",
       "    </tr>\n",
       "  </thead>\n",
       "  <tbody>\n",
       "    <tr>\n",
       "      <th>36</th>\n",
       "      <td>함덕 서우봉 해변</td>\n",
       "      <td>568313</td>\n",
       "    </tr>\n",
       "    <tr>\n",
       "      <th>12</th>\n",
       "      <td>성산일출봉</td>\n",
       "      <td>513851</td>\n",
       "    </tr>\n",
       "    <tr>\n",
       "      <th>48</th>\n",
       "      <td>절물자연휴양림</td>\n",
       "      <td>437018</td>\n",
       "    </tr>\n",
       "    <tr>\n",
       "      <th>15</th>\n",
       "      <td>광치기해변</td>\n",
       "      <td>427033</td>\n",
       "    </tr>\n",
       "    <tr>\n",
       "      <th>40</th>\n",
       "      <td>19코스</td>\n",
       "      <td>394466</td>\n",
       "    </tr>\n",
       "    <tr>\n",
       "      <th>47</th>\n",
       "      <td>20코스</td>\n",
       "      <td>288396</td>\n",
       "    </tr>\n",
       "    <tr>\n",
       "      <th>32</th>\n",
       "      <td>칠성로 쇼핑거리</td>\n",
       "      <td>246346</td>\n",
       "    </tr>\n",
       "    <tr>\n",
       "      <th>75</th>\n",
       "      <td>섭지코지</td>\n",
       "      <td>222040</td>\n",
       "    </tr>\n",
       "    <tr>\n",
       "      <th>0</th>\n",
       "      <td>모구리야영장</td>\n",
       "      <td>216619</td>\n",
       "    </tr>\n",
       "    <tr>\n",
       "      <th>26</th>\n",
       "      <td>김녕 성세기 해변</td>\n",
       "      <td>203369</td>\n",
       "    </tr>\n",
       "  </tbody>\n",
       "</table>\n",
       "</div>"
      ],
      "text/plain": [
       "   East_a_place   접속 횟수\n",
       "36    함덕 서우봉 해변  568313\n",
       "12        성산일출봉  513851\n",
       "48      절물자연휴양림  437018\n",
       "15        광치기해변  427033\n",
       "40         19코스  394466\n",
       "47         20코스  288396\n",
       "32     칠성로 쇼핑거리  246346\n",
       "75         섭지코지  222040\n",
       "0        모구리야영장  216619\n",
       "26    김녕 성세기 해변  203369"
      ]
     },
     "execution_count": 51,
     "metadata": {},
     "output_type": "execute_result"
    }
   ],
   "source": [
    "travel_ascending(East_ap_place, East_travel).head(10)"
   ]
  },
  {
   "cell_type": "markdown",
   "metadata": {},
   "source": [
    "- tail(10) 야외(7), 실내(2~3)"
   ]
  },
  {
   "cell_type": "code",
   "execution_count": null,
   "metadata": {},
   "outputs": [
    {
     "data": {
      "text/html": [
       "<div>\n",
       "<style scoped>\n",
       "    .dataframe tbody tr th:only-of-type {\n",
       "        vertical-align: middle;\n",
       "    }\n",
       "\n",
       "    .dataframe tbody tr th {\n",
       "        vertical-align: top;\n",
       "    }\n",
       "\n",
       "    .dataframe thead th {\n",
       "        text-align: right;\n",
       "    }\n",
       "</style>\n",
       "<table border=\"1\" class=\"dataframe\">\n",
       "  <thead>\n",
       "    <tr style=\"text-align: right;\">\n",
       "      <th></th>\n",
       "      <th>East_a_place</th>\n",
       "      <th>접속 횟수</th>\n",
       "    </tr>\n",
       "  </thead>\n",
       "  <tbody>\n",
       "    <tr>\n",
       "      <th>87</th>\n",
       "      <td>베니스랜드</td>\n",
       "      <td>2114</td>\n",
       "    </tr>\n",
       "    <tr>\n",
       "      <th>163</th>\n",
       "      <td>문주란 자생지</td>\n",
       "      <td>2005</td>\n",
       "    </tr>\n",
       "    <tr>\n",
       "      <th>155</th>\n",
       "      <td>남생이못 습지생태 관찰원</td>\n",
       "      <td>1928</td>\n",
       "    </tr>\n",
       "    <tr>\n",
       "      <th>60</th>\n",
       "      <td>초록동산</td>\n",
       "      <td>1629</td>\n",
       "    </tr>\n",
       "    <tr>\n",
       "      <th>160</th>\n",
       "      <td>기적의 도서관</td>\n",
       "      <td>1602</td>\n",
       "    </tr>\n",
       "    <tr>\n",
       "      <th>137</th>\n",
       "      <td>제주민속박물관</td>\n",
       "      <td>1217</td>\n",
       "    </tr>\n",
       "    <tr>\n",
       "      <th>119</th>\n",
       "      <td>오션파크</td>\n",
       "      <td>1167</td>\n",
       "    </tr>\n",
       "    <tr>\n",
       "      <th>164</th>\n",
       "      <td>해변공연장</td>\n",
       "      <td>365</td>\n",
       "    </tr>\n",
       "    <tr>\n",
       "      <th>165</th>\n",
       "      <td>1-1호 어린이공원</td>\n",
       "      <td>110</td>\n",
       "    </tr>\n",
       "    <tr>\n",
       "      <th>133</th>\n",
       "      <td>갓전시관</td>\n",
       "      <td>84</td>\n",
       "    </tr>\n",
       "  </tbody>\n",
       "</table>\n",
       "</div>"
      ],
      "text/plain": [
       "      East_a_place  접속 횟수\n",
       "87           베니스랜드   2114\n",
       "163        문주란 자생지   2005\n",
       "155  남생이못 습지생태 관찰원   1928\n",
       "60            초록동산   1629\n",
       "160        기적의 도서관   1602\n",
       "137        제주민속박물관   1217\n",
       "119           오션파크   1167\n",
       "164          해변공연장    365\n",
       "165     1-1호 어린이공원    110\n",
       "133           갓전시관     84"
      ]
     },
     "execution_count": 52,
     "metadata": {},
     "output_type": "execute_result"
    }
   ],
   "source": [
    "travel_ascending(East_ap_place, East_travel).tail(10)"
   ]
  },
  {
   "cell_type": "code",
   "execution_count": 43,
   "metadata": {},
   "outputs": [
    {
     "name": "stdout",
     "output_type": "stream",
     "text": [
      "0:70\n",
      "10:40204\n",
      "20:57542\n",
      "30:32865\n",
      "40:38427\n",
      "50:36330\n",
      "60:427\n"
     ]
    }
   ],
   "source": [
    "# age별 unique_id 수 / 접속 기록 / 업로드 패킷 양 \n",
    "# East_jeju['age'].unique()   # 0 ~ 60\n",
    "\n",
    "\n",
    "age_list = [0,10,20,30,40,50,60]\n",
    "for i in age_list:\n",
    "    print(f'{i}:{len(East_jeju[East_jeju[\"age\"]==i][\"user_id\"].unique())}')\n"
   ]
  },
  {
   "cell_type": "markdown",
   "metadata": {},
   "source": [
    "### 피쳐별 접속 특징 보기"
   ]
  },
  {
   "cell_type": "code",
   "execution_count": null,
   "metadata": {},
   "outputs": [
    {
     "data": {
      "text/html": [
       "<div>\n",
       "<style scoped>\n",
       "    .dataframe tbody tr th:only-of-type {\n",
       "        vertical-align: middle;\n",
       "    }\n",
       "\n",
       "    .dataframe tbody tr th {\n",
       "        vertical-align: top;\n",
       "    }\n",
       "\n",
       "    .dataframe thead th {\n",
       "        text-align: right;\n",
       "    }\n",
       "</style>\n",
       "<table border=\"1\" class=\"dataframe\">\n",
       "  <thead>\n",
       "    <tr style=\"text-align: right;\">\n",
       "      <th></th>\n",
       "      <th>base_date</th>\n",
       "      <th>user_id</th>\n",
       "      <th>mac_address</th>\n",
       "      <th>upload</th>\n",
       "      <th>download</th>\n",
       "      <th>session_time</th>\n",
       "      <th>nationality</th>\n",
       "      <th>gender</th>\n",
       "      <th>age</th>\n",
       "      <th>visit_type</th>\n",
       "      <th>ap_type</th>\n",
       "      <th>ap_category</th>\n",
       "      <th>ap_place</th>\n",
       "      <th>ap_place_detail</th>\n",
       "      <th>ap_latitude</th>\n",
       "      <th>ap_longitude</th>\n",
       "      <th>ap_address_detail</th>\n",
       "      <th>pt_year</th>\n",
       "      <th>pt_month</th>\n",
       "    </tr>\n",
       "  </thead>\n",
       "  <tbody>\n",
       "    <tr>\n",
       "      <th>0</th>\n",
       "      <td>20210101</td>\n",
       "      <td>25ee972873bbca5a135a33c6ba4d970dd48542ba2e79d7...</td>\n",
       "      <td>49288eca91187e2aacea777790f494ff3863d5fd61aed9...</td>\n",
       "      <td>28</td>\n",
       "      <td>0</td>\n",
       "      <td>1</td>\n",
       "      <td>미국</td>\n",
       "      <td>남성</td>\n",
       "      <td>50</td>\n",
       "      <td>거주</td>\n",
       "      <td>고정형</td>\n",
       "      <td>공영관광지</td>\n",
       "      <td>모구리야영장</td>\n",
       "      <td>모구리야영장 #1</td>\n",
       "      <td>33.406581</td>\n",
       "      <td>126.821853</td>\n",
       "      <td>서귀포시 성산읍 난산리 2960-1</td>\n",
       "      <td>2021</td>\n",
       "      <td>1</td>\n",
       "    </tr>\n",
       "    <tr>\n",
       "      <th>1</th>\n",
       "      <td>20210101</td>\n",
       "      <td>25ee972873bbca5a135a33c6ba4d970dd48542ba2e79d7...</td>\n",
       "      <td>49288eca91187e2aacea777790f494ff3863d5fd61aed9...</td>\n",
       "      <td>88</td>\n",
       "      <td>0</td>\n",
       "      <td>1</td>\n",
       "      <td>미국</td>\n",
       "      <td>남성</td>\n",
       "      <td>50</td>\n",
       "      <td>거주</td>\n",
       "      <td>고정형</td>\n",
       "      <td>공영관광지</td>\n",
       "      <td>모구리야영장</td>\n",
       "      <td>모구리야영장 #1</td>\n",
       "      <td>33.406581</td>\n",
       "      <td>126.821853</td>\n",
       "      <td>서귀포시 성산읍 난산리 2960-1</td>\n",
       "      <td>2021</td>\n",
       "      <td>1</td>\n",
       "    </tr>\n",
       "    <tr>\n",
       "      <th>2</th>\n",
       "      <td>20210101</td>\n",
       "      <td>25ee972873bbca5a135a33c6ba4d970dd48542ba2e79d7...</td>\n",
       "      <td>49288eca91187e2aacea777790f494ff3863d5fd61aed9...</td>\n",
       "      <td>328</td>\n",
       "      <td>0</td>\n",
       "      <td>2</td>\n",
       "      <td>미국</td>\n",
       "      <td>남성</td>\n",
       "      <td>50</td>\n",
       "      <td>거주</td>\n",
       "      <td>고정형</td>\n",
       "      <td>공영관광지</td>\n",
       "      <td>모구리야영장</td>\n",
       "      <td>모구리야영장 #1</td>\n",
       "      <td>33.406581</td>\n",
       "      <td>126.821853</td>\n",
       "      <td>서귀포시 성산읍 난산리 2960-1</td>\n",
       "      <td>2021</td>\n",
       "      <td>1</td>\n",
       "    </tr>\n",
       "  </tbody>\n",
       "</table>\n",
       "</div>"
      ],
      "text/plain": [
       "   base_date                                            user_id  \\\n",
       "0   20210101  25ee972873bbca5a135a33c6ba4d970dd48542ba2e79d7...   \n",
       "1   20210101  25ee972873bbca5a135a33c6ba4d970dd48542ba2e79d7...   \n",
       "2   20210101  25ee972873bbca5a135a33c6ba4d970dd48542ba2e79d7...   \n",
       "\n",
       "                                         mac_address  upload  download  \\\n",
       "0  49288eca91187e2aacea777790f494ff3863d5fd61aed9...      28         0   \n",
       "1  49288eca91187e2aacea777790f494ff3863d5fd61aed9...      88         0   \n",
       "2  49288eca91187e2aacea777790f494ff3863d5fd61aed9...     328         0   \n",
       "\n",
       "   session_time nationality gender  age visit_type ap_type ap_category  \\\n",
       "0             1          미국     남성   50         거주     고정형       공영관광지   \n",
       "1             1          미국     남성   50         거주     고정형       공영관광지   \n",
       "2             2          미국     남성   50         거주     고정형       공영관광지   \n",
       "\n",
       "  ap_place ap_place_detail  ap_latitude  ap_longitude    ap_address_detail  \\\n",
       "0   모구리야영장       모구리야영장 #1    33.406581    126.821853  서귀포시 성산읍 난산리 2960-1   \n",
       "1   모구리야영장       모구리야영장 #1    33.406581    126.821853  서귀포시 성산읍 난산리 2960-1   \n",
       "2   모구리야영장       모구리야영장 #1    33.406581    126.821853  서귀포시 성산읍 난산리 2960-1   \n",
       "\n",
       "   pt_year  pt_month  \n",
       "0     2021         1  \n",
       "1     2021         1  \n",
       "2     2021         1  "
      ]
     },
     "execution_count": 53,
     "metadata": {},
     "output_type": "execute_result"
    }
   ],
   "source": [
    "East_jeju.head(3)"
   ]
  },
  {
   "cell_type": "code",
   "execution_count": null,
   "metadata": {},
   "outputs": [],
   "source": [
    "# 국적, 성별(내,외국인 구분), 나이대, 방문유형, 해, 월 "
   ]
  },
  {
   "cell_type": "markdown",
   "metadata": {},
   "source": [
    "내국인"
   ]
  },
  {
   "cell_type": "code",
   "execution_count": null,
   "metadata": {},
   "outputs": [],
   "source": [
    "genders = East_jeju['gender'].unique().tolist()\n",
    "ages = East_jeju['age'].unique().tolist()\n",
    "visit_types = East_jeju['visit_type'].unique().tolist()\n",
    "months = East_jeju['pt_month'].unique().tolist()"
   ]
  },
  {
   "cell_type": "code",
   "execution_count": null,
   "metadata": {},
   "outputs": [],
   "source": [
    "korean = East_jeju[East_jeju['nationality']=='대한민국']\n",
    "\n",
    "def feature_char(a,b):\n",
    "    empty = []\n",
    "    for i in a:\n",
    "        empty.append(len(korean[korean[b]==i]))\n",
    "\n",
    "    df = pd.DataFrame({'feature' : a, 'len' : empty})\n",
    "    return df.sort_values('len', ascending=False)"
   ]
  },
  {
   "cell_type": "code",
   "execution_count": null,
   "metadata": {},
   "outputs": [
    {
     "data": {
      "text/html": [
       "<div>\n",
       "<style scoped>\n",
       "    .dataframe tbody tr th:only-of-type {\n",
       "        vertical-align: middle;\n",
       "    }\n",
       "\n",
       "    .dataframe tbody tr th {\n",
       "        vertical-align: top;\n",
       "    }\n",
       "\n",
       "    .dataframe thead th {\n",
       "        text-align: right;\n",
       "    }\n",
       "</style>\n",
       "<table border=\"1\" class=\"dataframe\">\n",
       "  <thead>\n",
       "    <tr style=\"text-align: right;\">\n",
       "      <th></th>\n",
       "      <th>feature</th>\n",
       "      <th>len</th>\n",
       "    </tr>\n",
       "  </thead>\n",
       "  <tbody>\n",
       "    <tr>\n",
       "      <th>0</th>\n",
       "      <td>남성</td>\n",
       "      <td>14425631</td>\n",
       "    </tr>\n",
       "    <tr>\n",
       "      <th>1</th>\n",
       "      <td>여성</td>\n",
       "      <td>11777544</td>\n",
       "    </tr>\n",
       "  </tbody>\n",
       "</table>\n",
       "</div>"
      ],
      "text/plain": [
       "  feature       len\n",
       "0      남성  14425631\n",
       "1      여성  11777544"
      ]
     },
     "execution_count": 68,
     "metadata": {},
     "output_type": "execute_result"
    }
   ],
   "source": [
    "# Gender \n",
    "Gender = feature_char(genders, 'gender')\n"
   ]
  },
  {
   "cell_type": "code",
   "execution_count": null,
   "metadata": {},
   "outputs": [
    {
     "data": {
      "text/html": [
       "<div>\n",
       "<style scoped>\n",
       "    .dataframe tbody tr th:only-of-type {\n",
       "        vertical-align: middle;\n",
       "    }\n",
       "\n",
       "    .dataframe tbody tr th {\n",
       "        vertical-align: top;\n",
       "    }\n",
       "\n",
       "    .dataframe thead th {\n",
       "        text-align: right;\n",
       "    }\n",
       "</style>\n",
       "<table border=\"1\" class=\"dataframe\">\n",
       "  <thead>\n",
       "    <tr style=\"text-align: right;\">\n",
       "      <th></th>\n",
       "      <th>feature</th>\n",
       "      <th>len</th>\n",
       "    </tr>\n",
       "  </thead>\n",
       "  <tbody>\n",
       "    <tr>\n",
       "      <th>0</th>\n",
       "      <td>50</td>\n",
       "      <td>6532524</td>\n",
       "    </tr>\n",
       "    <tr>\n",
       "      <th>1</th>\n",
       "      <td>10</td>\n",
       "      <td>6193223</td>\n",
       "    </tr>\n",
       "    <tr>\n",
       "      <th>2</th>\n",
       "      <td>20</td>\n",
       "      <td>5361656</td>\n",
       "    </tr>\n",
       "    <tr>\n",
       "      <th>3</th>\n",
       "      <td>40</td>\n",
       "      <td>5099817</td>\n",
       "    </tr>\n",
       "    <tr>\n",
       "      <th>4</th>\n",
       "      <td>30</td>\n",
       "      <td>2843773</td>\n",
       "    </tr>\n",
       "    <tr>\n",
       "      <th>5</th>\n",
       "      <td>60</td>\n",
       "      <td>161491</td>\n",
       "    </tr>\n",
       "    <tr>\n",
       "      <th>6</th>\n",
       "      <td>0</td>\n",
       "      <td>10691</td>\n",
       "    </tr>\n",
       "  </tbody>\n",
       "</table>\n",
       "</div>"
      ],
      "text/plain": [
       "   feature      len\n",
       "0       50  6532524\n",
       "1       10  6193223\n",
       "2       20  5361656\n",
       "3       40  5099817\n",
       "4       30  2843773\n",
       "5       60   161491\n",
       "6        0    10691"
      ]
     },
     "execution_count": 58,
     "metadata": {},
     "output_type": "execute_result"
    }
   ],
   "source": [
    "# Age\n",
    "feature_char(ages, 'age')"
   ]
  },
  {
   "cell_type": "code",
   "execution_count": null,
   "metadata": {},
   "outputs": [],
   "source": [
    "# # Visit_type\n",
    "# feature_char(visit_types, 'visit_type')"
   ]
  },
  {
   "cell_type": "code",
   "execution_count": null,
   "metadata": {},
   "outputs": [
    {
     "data": {
      "text/html": [
       "<div>\n",
       "<style scoped>\n",
       "    .dataframe tbody tr th:only-of-type {\n",
       "        vertical-align: middle;\n",
       "    }\n",
       "\n",
       "    .dataframe tbody tr th {\n",
       "        vertical-align: top;\n",
       "    }\n",
       "\n",
       "    .dataframe thead th {\n",
       "        text-align: right;\n",
       "    }\n",
       "</style>\n",
       "<table border=\"1\" class=\"dataframe\">\n",
       "  <thead>\n",
       "    <tr style=\"text-align: right;\">\n",
       "      <th></th>\n",
       "      <th>feature</th>\n",
       "      <th>len</th>\n",
       "    </tr>\n",
       "  </thead>\n",
       "  <tbody>\n",
       "    <tr>\n",
       "      <th>9</th>\n",
       "      <td>10</td>\n",
       "      <td>2734227</td>\n",
       "    </tr>\n",
       "    <tr>\n",
       "      <th>6</th>\n",
       "      <td>7</td>\n",
       "      <td>2628384</td>\n",
       "    </tr>\n",
       "    <tr>\n",
       "      <th>7</th>\n",
       "      <td>8</td>\n",
       "      <td>2378266</td>\n",
       "    </tr>\n",
       "    <tr>\n",
       "      <th>3</th>\n",
       "      <td>4</td>\n",
       "      <td>2370321</td>\n",
       "    </tr>\n",
       "    <tr>\n",
       "      <th>10</th>\n",
       "      <td>11</td>\n",
       "      <td>2365298</td>\n",
       "    </tr>\n",
       "    <tr>\n",
       "      <th>5</th>\n",
       "      <td>6</td>\n",
       "      <td>2268379</td>\n",
       "    </tr>\n",
       "    <tr>\n",
       "      <th>4</th>\n",
       "      <td>5</td>\n",
       "      <td>2222880</td>\n",
       "    </tr>\n",
       "    <tr>\n",
       "      <th>8</th>\n",
       "      <td>9</td>\n",
       "      <td>2201174</td>\n",
       "    </tr>\n",
       "    <tr>\n",
       "      <th>2</th>\n",
       "      <td>3</td>\n",
       "      <td>2039520</td>\n",
       "    </tr>\n",
       "    <tr>\n",
       "      <th>11</th>\n",
       "      <td>12</td>\n",
       "      <td>1941475</td>\n",
       "    </tr>\n",
       "    <tr>\n",
       "      <th>1</th>\n",
       "      <td>2</td>\n",
       "      <td>1556975</td>\n",
       "    </tr>\n",
       "    <tr>\n",
       "      <th>0</th>\n",
       "      <td>1</td>\n",
       "      <td>1496276</td>\n",
       "    </tr>\n",
       "  </tbody>\n",
       "</table>\n",
       "</div>"
      ],
      "text/plain": [
       "    feature      len\n",
       "9        10  2734227\n",
       "6         7  2628384\n",
       "7         8  2378266\n",
       "3         4  2370321\n",
       "10       11  2365298\n",
       "5         6  2268379\n",
       "4         5  2222880\n",
       "8         9  2201174\n",
       "2         3  2039520\n",
       "11       12  1941475\n",
       "1         2  1556975\n",
       "0         1  1496276"
      ]
     },
     "execution_count": 60,
     "metadata": {},
     "output_type": "execute_result"
    }
   ],
   "source": [
    "# Month\n",
    "feature_char(months, 'pt_month')"
   ]
  },
  {
   "cell_type": "markdown",
   "metadata": {},
   "source": [
    "외국인"
   ]
  },
  {
   "cell_type": "code",
   "execution_count": null,
   "metadata": {},
   "outputs": [],
   "source": [
    "foreigner = East_jeju[East_jeju['nationality']!='대한민국']\n",
    "nations = foreigner['nationality'].unique().tolist()"
   ]
  },
  {
   "cell_type": "code",
   "execution_count": null,
   "metadata": {},
   "outputs": [
    {
     "ename": "ValueError",
     "evalue": "arrays must all be same length",
     "output_type": "error",
     "traceback": [
      "\u001b[1;31m---------------------------------------------------------------------------\u001b[0m",
      "\u001b[1;31mValueError\u001b[0m                                Traceback (most recent call last)",
      "\u001b[1;32m<ipython-input-62-80ba98b4e3ea>\u001b[0m in \u001b[0;36m<module>\u001b[1;34m\u001b[0m\n\u001b[0;32m      7\u001b[0m     \u001b[0mempty\u001b[0m\u001b[1;33m.\u001b[0m\u001b[0mappend\u001b[0m\u001b[1;33m(\u001b[0m\u001b[0mlen\u001b[0m\u001b[1;33m(\u001b[0m\u001b[0mforeigner\u001b[0m\u001b[1;33m[\u001b[0m\u001b[0mforeigner\u001b[0m\u001b[1;33m[\u001b[0m\u001b[1;34m'nationality'\u001b[0m\u001b[1;33m]\u001b[0m\u001b[1;33m==\u001b[0m\u001b[0mnation\u001b[0m\u001b[1;33m]\u001b[0m\u001b[1;33m)\u001b[0m\u001b[1;33m)\u001b[0m\u001b[1;33m\u001b[0m\u001b[1;33m\u001b[0m\u001b[0m\n\u001b[0;32m      8\u001b[0m \u001b[1;33m\u001b[0m\u001b[0m\n\u001b[1;32m----> 9\u001b[1;33m \u001b[0mdf\u001b[0m \u001b[1;33m=\u001b[0m \u001b[0mpd\u001b[0m\u001b[1;33m.\u001b[0m\u001b[0mDataFrame\u001b[0m\u001b[1;33m(\u001b[0m\u001b[1;33m{\u001b[0m\u001b[1;34m'feature'\u001b[0m \u001b[1;33m:\u001b[0m \u001b[0mnations\u001b[0m\u001b[1;33m,\u001b[0m \u001b[1;34m'len'\u001b[0m \u001b[1;33m:\u001b[0m \u001b[0mempty\u001b[0m\u001b[1;33m}\u001b[0m\u001b[1;33m)\u001b[0m\u001b[1;33m\u001b[0m\u001b[1;33m\u001b[0m\u001b[0m\n\u001b[0m\u001b[0;32m     10\u001b[0m \u001b[0mdf\u001b[0m\u001b[1;33m.\u001b[0m\u001b[0msort_values\u001b[0m\u001b[1;33m(\u001b[0m\u001b[1;34m'len'\u001b[0m\u001b[1;33m,\u001b[0m \u001b[0mascending\u001b[0m\u001b[1;33m=\u001b[0m\u001b[1;32mFalse\u001b[0m\u001b[1;33m)\u001b[0m\u001b[1;33m.\u001b[0m\u001b[0mhead\u001b[0m\u001b[1;33m(\u001b[0m\u001b[1;33m)\u001b[0m\u001b[1;33m\u001b[0m\u001b[1;33m\u001b[0m\u001b[0m\n",
      "\u001b[1;32m~\\anaconda3\\lib\\site-packages\\pandas\\core\\frame.py\u001b[0m in \u001b[0;36m__init__\u001b[1;34m(self, data, index, columns, dtype, copy)\u001b[0m\n\u001b[0;32m    527\u001b[0m \u001b[1;33m\u001b[0m\u001b[0m\n\u001b[0;32m    528\u001b[0m         \u001b[1;32melif\u001b[0m \u001b[0misinstance\u001b[0m\u001b[1;33m(\u001b[0m\u001b[0mdata\u001b[0m\u001b[1;33m,\u001b[0m \u001b[0mdict\u001b[0m\u001b[1;33m)\u001b[0m\u001b[1;33m:\u001b[0m\u001b[1;33m\u001b[0m\u001b[1;33m\u001b[0m\u001b[0m\n\u001b[1;32m--> 529\u001b[1;33m             \u001b[0mmgr\u001b[0m \u001b[1;33m=\u001b[0m \u001b[0minit_dict\u001b[0m\u001b[1;33m(\u001b[0m\u001b[0mdata\u001b[0m\u001b[1;33m,\u001b[0m \u001b[0mindex\u001b[0m\u001b[1;33m,\u001b[0m \u001b[0mcolumns\u001b[0m\u001b[1;33m,\u001b[0m \u001b[0mdtype\u001b[0m\u001b[1;33m=\u001b[0m\u001b[0mdtype\u001b[0m\u001b[1;33m)\u001b[0m\u001b[1;33m\u001b[0m\u001b[1;33m\u001b[0m\u001b[0m\n\u001b[0m\u001b[0;32m    530\u001b[0m         \u001b[1;32melif\u001b[0m \u001b[0misinstance\u001b[0m\u001b[1;33m(\u001b[0m\u001b[0mdata\u001b[0m\u001b[1;33m,\u001b[0m \u001b[0mma\u001b[0m\u001b[1;33m.\u001b[0m\u001b[0mMaskedArray\u001b[0m\u001b[1;33m)\u001b[0m\u001b[1;33m:\u001b[0m\u001b[1;33m\u001b[0m\u001b[1;33m\u001b[0m\u001b[0m\n\u001b[0;32m    531\u001b[0m             \u001b[1;32mimport\u001b[0m \u001b[0mnumpy\u001b[0m\u001b[1;33m.\u001b[0m\u001b[0mma\u001b[0m\u001b[1;33m.\u001b[0m\u001b[0mmrecords\u001b[0m \u001b[1;32mas\u001b[0m \u001b[0mmrecords\u001b[0m\u001b[1;33m\u001b[0m\u001b[1;33m\u001b[0m\u001b[0m\n",
      "\u001b[1;32m~\\anaconda3\\lib\\site-packages\\pandas\\core\\internals\\construction.py\u001b[0m in \u001b[0;36minit_dict\u001b[1;34m(data, index, columns, dtype)\u001b[0m\n\u001b[0;32m    285\u001b[0m             \u001b[0marr\u001b[0m \u001b[1;32mif\u001b[0m \u001b[1;32mnot\u001b[0m \u001b[0mis_datetime64tz_dtype\u001b[0m\u001b[1;33m(\u001b[0m\u001b[0marr\u001b[0m\u001b[1;33m)\u001b[0m \u001b[1;32melse\u001b[0m \u001b[0marr\u001b[0m\u001b[1;33m.\u001b[0m\u001b[0mcopy\u001b[0m\u001b[1;33m(\u001b[0m\u001b[1;33m)\u001b[0m \u001b[1;32mfor\u001b[0m \u001b[0marr\u001b[0m \u001b[1;32min\u001b[0m \u001b[0marrays\u001b[0m\u001b[1;33m\u001b[0m\u001b[1;33m\u001b[0m\u001b[0m\n\u001b[0;32m    286\u001b[0m         ]\n\u001b[1;32m--> 287\u001b[1;33m     \u001b[1;32mreturn\u001b[0m \u001b[0marrays_to_mgr\u001b[0m\u001b[1;33m(\u001b[0m\u001b[0marrays\u001b[0m\u001b[1;33m,\u001b[0m \u001b[0mdata_names\u001b[0m\u001b[1;33m,\u001b[0m \u001b[0mindex\u001b[0m\u001b[1;33m,\u001b[0m \u001b[0mcolumns\u001b[0m\u001b[1;33m,\u001b[0m \u001b[0mdtype\u001b[0m\u001b[1;33m=\u001b[0m\u001b[0mdtype\u001b[0m\u001b[1;33m)\u001b[0m\u001b[1;33m\u001b[0m\u001b[1;33m\u001b[0m\u001b[0m\n\u001b[0m\u001b[0;32m    288\u001b[0m \u001b[1;33m\u001b[0m\u001b[0m\n\u001b[0;32m    289\u001b[0m \u001b[1;33m\u001b[0m\u001b[0m\n",
      "\u001b[1;32m~\\anaconda3\\lib\\site-packages\\pandas\\core\\internals\\construction.py\u001b[0m in \u001b[0;36marrays_to_mgr\u001b[1;34m(arrays, arr_names, index, columns, dtype, verify_integrity)\u001b[0m\n\u001b[0;32m     78\u001b[0m         \u001b[1;31m# figure out the index, if necessary\u001b[0m\u001b[1;33m\u001b[0m\u001b[1;33m\u001b[0m\u001b[1;33m\u001b[0m\u001b[0m\n\u001b[0;32m     79\u001b[0m         \u001b[1;32mif\u001b[0m \u001b[0mindex\u001b[0m \u001b[1;32mis\u001b[0m \u001b[1;32mNone\u001b[0m\u001b[1;33m:\u001b[0m\u001b[1;33m\u001b[0m\u001b[1;33m\u001b[0m\u001b[0m\n\u001b[1;32m---> 80\u001b[1;33m             \u001b[0mindex\u001b[0m \u001b[1;33m=\u001b[0m \u001b[0mextract_index\u001b[0m\u001b[1;33m(\u001b[0m\u001b[0marrays\u001b[0m\u001b[1;33m)\u001b[0m\u001b[1;33m\u001b[0m\u001b[1;33m\u001b[0m\u001b[0m\n\u001b[0m\u001b[0;32m     81\u001b[0m         \u001b[1;32melse\u001b[0m\u001b[1;33m:\u001b[0m\u001b[1;33m\u001b[0m\u001b[1;33m\u001b[0m\u001b[0m\n\u001b[0;32m     82\u001b[0m             \u001b[0mindex\u001b[0m \u001b[1;33m=\u001b[0m \u001b[0mensure_index\u001b[0m\u001b[1;33m(\u001b[0m\u001b[0mindex\u001b[0m\u001b[1;33m)\u001b[0m\u001b[1;33m\u001b[0m\u001b[1;33m\u001b[0m\u001b[0m\n",
      "\u001b[1;32m~\\anaconda3\\lib\\site-packages\\pandas\\core\\internals\\construction.py\u001b[0m in \u001b[0;36mextract_index\u001b[1;34m(data)\u001b[0m\n\u001b[0;32m    399\u001b[0m             \u001b[0mlengths\u001b[0m \u001b[1;33m=\u001b[0m \u001b[0mlist\u001b[0m\u001b[1;33m(\u001b[0m\u001b[0mset\u001b[0m\u001b[1;33m(\u001b[0m\u001b[0mraw_lengths\u001b[0m\u001b[1;33m)\u001b[0m\u001b[1;33m)\u001b[0m\u001b[1;33m\u001b[0m\u001b[1;33m\u001b[0m\u001b[0m\n\u001b[0;32m    400\u001b[0m             \u001b[1;32mif\u001b[0m \u001b[0mlen\u001b[0m\u001b[1;33m(\u001b[0m\u001b[0mlengths\u001b[0m\u001b[1;33m)\u001b[0m \u001b[1;33m>\u001b[0m \u001b[1;36m1\u001b[0m\u001b[1;33m:\u001b[0m\u001b[1;33m\u001b[0m\u001b[1;33m\u001b[0m\u001b[0m\n\u001b[1;32m--> 401\u001b[1;33m                 \u001b[1;32mraise\u001b[0m \u001b[0mValueError\u001b[0m\u001b[1;33m(\u001b[0m\u001b[1;34m\"arrays must all be same length\"\u001b[0m\u001b[1;33m)\u001b[0m\u001b[1;33m\u001b[0m\u001b[1;33m\u001b[0m\u001b[0m\n\u001b[0m\u001b[0;32m    402\u001b[0m \u001b[1;33m\u001b[0m\u001b[0m\n\u001b[0;32m    403\u001b[0m             \u001b[1;32mif\u001b[0m \u001b[0mhave_dicts\u001b[0m\u001b[1;33m:\u001b[0m\u001b[1;33m\u001b[0m\u001b[1;33m\u001b[0m\u001b[0m\n",
      "\u001b[1;31mValueError\u001b[0m: arrays must all be same length"
     ]
    }
   ],
   "source": [
    "# Nationality (외국인)\n",
    "# foreigner = East_jeju[East_jeju['nationality']!='대한민국']\n",
    "# nations = foreigner['nationality'].unique().tolist()\n",
    "\n",
    "for nation in nations:\n",
    "    empty = []\n",
    "    empty.append(len(foreigner[foreigner['nationality']==nation]))\n",
    "\n",
    "df = pd.DataFrame({'feature' : nations, 'len' : empty})\n",
    "df.sort_values('len', ascending=False).head()"
   ]
  },
  {
   "cell_type": "markdown",
   "metadata": {},
   "source": [
    "이용자 수 예측 > 테마별 관광 코스 생성"
   ]
  },
  {
   "cell_type": "code",
   "execution_count": null,
   "metadata": {},
   "outputs": [
    {
     "data": {
      "text/html": [
       "<div>\n",
       "<style scoped>\n",
       "    .dataframe tbody tr th:only-of-type {\n",
       "        vertical-align: middle;\n",
       "    }\n",
       "\n",
       "    .dataframe tbody tr th {\n",
       "        vertical-align: top;\n",
       "    }\n",
       "\n",
       "    .dataframe thead th {\n",
       "        text-align: right;\n",
       "    }\n",
       "</style>\n",
       "<table border=\"1\" class=\"dataframe\">\n",
       "  <thead>\n",
       "    <tr style=\"text-align: right;\">\n",
       "      <th></th>\n",
       "      <th>base_date</th>\n",
       "      <th>user_id</th>\n",
       "      <th>mac_address</th>\n",
       "      <th>upload</th>\n",
       "      <th>download</th>\n",
       "      <th>session_time</th>\n",
       "      <th>nationality</th>\n",
       "      <th>gender</th>\n",
       "      <th>age</th>\n",
       "      <th>visit_type</th>\n",
       "      <th>ap_type</th>\n",
       "      <th>ap_category</th>\n",
       "      <th>ap_place</th>\n",
       "      <th>ap_place_detail</th>\n",
       "      <th>ap_latitude</th>\n",
       "      <th>ap_longitude</th>\n",
       "      <th>ap_address_detail</th>\n",
       "      <th>pt_year</th>\n",
       "      <th>pt_month</th>\n",
       "    </tr>\n",
       "  </thead>\n",
       "  <tbody>\n",
       "    <tr>\n",
       "      <th>0</th>\n",
       "      <td>20210101</td>\n",
       "      <td>25ee972873bbca5a135a33c6ba4d970dd48542ba2e79d7...</td>\n",
       "      <td>49288eca91187e2aacea777790f494ff3863d5fd61aed9...</td>\n",
       "      <td>28</td>\n",
       "      <td>0</td>\n",
       "      <td>1</td>\n",
       "      <td>미국</td>\n",
       "      <td>남성</td>\n",
       "      <td>50</td>\n",
       "      <td>거주</td>\n",
       "      <td>고정형</td>\n",
       "      <td>공영관광지</td>\n",
       "      <td>모구리야영장</td>\n",
       "      <td>모구리야영장 #1</td>\n",
       "      <td>33.406581</td>\n",
       "      <td>126.821853</td>\n",
       "      <td>서귀포시 성산읍 난산리 2960-1</td>\n",
       "      <td>2021</td>\n",
       "      <td>1</td>\n",
       "    </tr>\n",
       "  </tbody>\n",
       "</table>\n",
       "</div>"
      ],
      "text/plain": [
       "   base_date                                            user_id  \\\n",
       "0   20210101  25ee972873bbca5a135a33c6ba4d970dd48542ba2e79d7...   \n",
       "\n",
       "                                         mac_address  upload  download  \\\n",
       "0  49288eca91187e2aacea777790f494ff3863d5fd61aed9...      28         0   \n",
       "\n",
       "   session_time nationality gender  age visit_type ap_type ap_category  \\\n",
       "0             1          미국     남성   50         거주     고정형       공영관광지   \n",
       "\n",
       "  ap_place ap_place_detail  ap_latitude  ap_longitude    ap_address_detail  \\\n",
       "0   모구리야영장       모구리야영장 #1    33.406581    126.821853  서귀포시 성산읍 난산리 2960-1   \n",
       "\n",
       "   pt_year  pt_month  \n",
       "0     2021         1  "
      ]
     },
     "execution_count": 65,
     "metadata": {},
     "output_type": "execute_result"
    }
   ],
   "source": [
    "East_jeju.head(1)"
   ]
  },
  {
   "cell_type": "code",
   "execution_count": null,
   "metadata": {},
   "outputs": [
    {
     "data": {
      "text/plain": [
       "282"
      ]
     },
     "execution_count": 67,
     "metadata": {},
     "output_type": "execute_result"
    }
   ],
   "source": [
    "len(East_jeju[East_jeju['ap_category']=='버스정류소']['mac_address'].unique())\n",
    "# 적어도 ap 설치된 버정은 동부에 282개"
   ]
  },
  {
   "cell_type": "code",
   "execution_count": null,
   "metadata": {},
   "outputs": [],
   "source": [
    "이용자 수 예측부터 해야하려나. \n",
    "# 날씨 > 일별로 묶기 \n",
    "# 채준이 > 푸드트럭 입지선정 \n",
    "# 유동인구 데이터 활용해서 뭐라도.. "
   ]
  },
  {
   "cell_type": "code",
   "execution_count": null,
   "metadata": {},
   "outputs": [
    {
     "data": {
      "text/plain": [
       "array(['공영관광지', '버스정류소', '테마거리', '광장', '전기차충전소', '사설관광지', '숲길', '올레코스',\n",
       "       '공원', '해변', '체육시설', '지하상가', '요양병원', '항구', '여객터미널', '학습관', '공항',\n",
       "       '학습센터', '전통시장', '박물관', '장례식장', '도서관', '다중이용시설', '공공기관', '관광지',\n",
       "       '미술관', '공연장', '관공서'], dtype=object)"
      ]
     },
     "execution_count": 63,
     "metadata": {},
     "output_type": "execute_result"
    }
   ],
   "source": [
    "East_jeju['ap_category'].unique()"
   ]
  },
  {
   "cell_type": "code",
   "execution_count": null,
   "metadata": {},
   "outputs": [
    {
     "data": {
      "text/plain": [
       "array(['공익활동지원센터'], dtype=object)"
      ]
     },
     "execution_count": 65,
     "metadata": {},
     "output_type": "execute_result"
    }
   ],
   "source": [
    "East_jeju[East_jeju['ap_category']=='관공서']['ap_place'].unique()"
   ]
  },
  {
   "cell_type": "code",
   "execution_count": null,
   "metadata": {},
   "outputs": [
    {
     "data": {
      "text/plain": [
       "array(['제주의료원 부속 요양병원', '제주의료원'], dtype=object)"
      ]
     },
     "execution_count": 67,
     "metadata": {},
     "output_type": "execute_result"
    }
   ],
   "source": [
    "East_jeju[East_jeju['ap_category']=='요양병원']['ap_place'].unique()"
   ]
  },
  {
   "cell_type": "code",
   "execution_count": null,
   "metadata": {},
   "outputs": [],
   "source": []
  }
 ],
 "metadata": {
  "interpreter": {
   "hash": "c81169c30fb96244cfba0db287a0d3fd5325268de070a7a6116eecd4596df902"
  },
  "kernelspec": {
   "display_name": "Python 3.8.8 ('base')",
   "language": "python",
   "name": "python3"
  },
  "language_info": {
   "codemirror_mode": {
    "name": "ipython",
    "version": 3
   },
   "file_extension": ".py",
   "mimetype": "text/x-python",
   "name": "python",
   "nbconvert_exporter": "python",
   "pygments_lexer": "ipython3",
   "version": "3.8.8"
  },
  "orig_nbformat": 4
 },
 "nbformat": 4,
 "nbformat_minor": 2
}
