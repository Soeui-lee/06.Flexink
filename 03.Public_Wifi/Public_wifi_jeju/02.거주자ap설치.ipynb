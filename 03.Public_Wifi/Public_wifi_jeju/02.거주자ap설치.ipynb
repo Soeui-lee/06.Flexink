{
 "cells": [
  {
   "cell_type": "markdown",
   "metadata": {},
   "source": [
    "### 1. 라이브러리"
   ]
  },
  {
   "cell_type": "code",
   "execution_count": 1,
   "metadata": {},
   "outputs": [],
   "source": [
    "import numpy as np \n",
    "import pandas as pd \n",
    "\n",
    "import matplotlib.pyplot as plt\n",
    "import seaborn as sns \n",
    "\n",
    "import warnings\n",
    "warnings.filterwarnings(\"ignore\")\n",
    "\n",
    "# 시각화 한글 폰트\n",
    "import os\n",
    "plt.rc(\"font\", family=\"Malgun Gothic\")"
   ]
  },
  {
   "cell_type": "markdown",
   "metadata": {},
   "source": [
    "### 2. 데이터 확인 "
   ]
  },
  {
   "cell_type": "code",
   "execution_count": 2,
   "metadata": {},
   "outputs": [],
   "source": [
    "# ap2021 = pd.read_csv('202021.csv')\n",
    "# ap2021 = ap2021[ap2021['pt_year']==2021]\n",
    "\n",
    "# # 이동형 데이터 \n",
    "# Move = ap2021[ap2021['ap_type']=='이동형']\n",
    "\n",
    "# # 제주 동부지역 추출 \n",
    "# East_jeju = ap2021[ap2021['ap_address_detail'].str.contains('조천|구좌|성산|일도|이도|삼도|용담|건입|도두|화북|삼양|아라|봉개', na=False)]\n",
    "\n",
    "# East_jeju.to_csv('East_jeju.csv', index=False)\n",
    "# Move.to_csv('Move.csv', index=False)"
   ]
  },
  {
   "cell_type": "code",
   "execution_count": 3,
   "metadata": {},
   "outputs": [],
   "source": [
    "# 고정형 데이터 \n",
    "fixed1819 = pd.read_csv('fixed 1819.csv')\n",
    "fixed20 = pd.read_csv('fixed 2020.csv')"
   ]
  },
  {
   "cell_type": "code",
   "execution_count": 4,
   "metadata": {},
   "outputs": [],
   "source": [
    "# 동부 제주 \n",
    "East_jeju = pd.read_csv('East_jeju.csv')\n",
    "# 이동형\n",
    "Move = pd.read_csv('Move.csv')"
   ]
  },
  {
   "cell_type": "markdown",
   "metadata": {},
   "source": [
    "### 3. 결측치 확인 및 처리"
   ]
  },
  {
   "cell_type": "markdown",
   "metadata": {},
   "source": [
    "**동부 제주 데이터**"
   ]
  },
  {
   "cell_type": "code",
   "execution_count": 5,
   "metadata": {},
   "outputs": [
    {
     "data": {
      "text/plain": [
       "base_date                   0\n",
       "user_id                     0\n",
       "mac_address                 0\n",
       "upload                      0\n",
       "download                    0\n",
       "session_time                0\n",
       "nationality                 0\n",
       "province             25517125\n",
       "gender                      0\n",
       "age                         0\n",
       "visit_type                  0\n",
       "ap_type                     0\n",
       "ap_category                 0\n",
       "ap_place                    0\n",
       "ap_place_detail             0\n",
       "ap_latitude                 0\n",
       "ap_longitude                0\n",
       "ap_address_detail           0\n",
       "pt_year                     0\n",
       "pt_month                    0\n",
       "dtype: int64"
      ]
     },
     "execution_count": 5,
     "metadata": {},
     "output_type": "execute_result"
    }
   ],
   "source": [
    "East_jeju.isna().sum()"
   ]
  },
  {
   "cell_type": "markdown",
   "metadata": {},
   "source": [
    "- 전체 27,325,901 행 중 25,517,125개의 결측값을 갖는 **province 열 삭제** "
   ]
  },
  {
   "cell_type": "code",
   "execution_count": 6,
   "metadata": {},
   "outputs": [],
   "source": [
    "East_jeju = East_jeju.drop(['province'], axis=1)"
   ]
  },
  {
   "cell_type": "markdown",
   "metadata": {},
   "source": [
    "**이동형**"
   ]
  },
  {
   "cell_type": "code",
   "execution_count": 7,
   "metadata": {},
   "outputs": [
    {
     "data": {
      "text/plain": [
       "base_date                   0\n",
       "user_id                     0\n",
       "mac_address                 0\n",
       "upload                      0\n",
       "download                    0\n",
       "session_time                0\n",
       "nationality               282\n",
       "province             19203798\n",
       "gender                      0\n",
       "age                         0\n",
       "visit_type                522\n",
       "ap_type                     0\n",
       "ap_category                 0\n",
       "ap_place             20361447\n",
       "ap_place_detail             0\n",
       "ap_latitude          20361447\n",
       "ap_longitude         20361447\n",
       "ap_address_detail    20361447\n",
       "pt_year                     0\n",
       "pt_month                    0\n",
       "dtype: int64"
      ]
     },
     "execution_count": 7,
     "metadata": {},
     "output_type": "execute_result"
    }
   ],
   "source": [
    "Move.isna().sum()"
   ]
  },
  {
   "cell_type": "markdown",
   "metadata": {},
   "source": [
    "- 전체 20,361,447 행 중 19,203,798개 결측치가 존재하는 **province 열 삭제**   \n",
    "- 이동형에 존재하지 않는 **ap 정보 열 삭제**   \n",
    "- **국적과 방문유형 \"알 수 없음\"** 대체"
   ]
  },
  {
   "cell_type": "code",
   "execution_count": 8,
   "metadata": {},
   "outputs": [],
   "source": [
    "Move = Move.drop(['province'], axis=1)"
   ]
  },
  {
   "cell_type": "code",
   "execution_count": 9,
   "metadata": {},
   "outputs": [],
   "source": [
    "Move = Move.drop(['ap_place', 'ap_latitude', 'ap_longitude', 'ap_address_detail'], axis=1)"
   ]
  },
  {
   "cell_type": "code",
   "execution_count": 10,
   "metadata": {},
   "outputs": [],
   "source": [
    "Move['nationality'].fillna(\"알 수 없음\", inplace = True)\n",
    "Move['visit_type'].fillna(\"알 수 없음\", inplace = True)"
   ]
  },
  {
   "cell_type": "markdown",
   "metadata": {},
   "source": [
    "**고정형 데이터**"
   ]
  },
  {
   "cell_type": "code",
   "execution_count": 11,
   "metadata": {},
   "outputs": [
    {
     "data": {
      "text/plain": [
       "base_date                     0\n",
       "mac_address                   0\n",
       "ap_install_place              0\n",
       "install_location_detail       0\n",
       "open_date                  2341\n",
       "category                     32\n",
       "address_dong                  0\n",
       "address_detail                0\n",
       "latitude                      0\n",
       "longitude                     0\n",
       "pt_year                       0\n",
       "pt_month                      0\n",
       "dtype: int64"
      ]
     },
     "execution_count": 11,
     "metadata": {},
     "output_type": "execute_result"
    }
   ],
   "source": [
    "fixed1819.isna().sum()"
   ]
  },
  {
   "cell_type": "code",
   "execution_count": 12,
   "metadata": {},
   "outputs": [
    {
     "data": {
      "text/plain": [
       "base_date                   0\n",
       "manage_no                   0\n",
       "mac_address                 0\n",
       "ap_group_name               0\n",
       "install_location_detail     2\n",
       "open_date                   0\n",
       "category                    0\n",
       "category_detail            22\n",
       "address_dong                4\n",
       "address_detail              0\n",
       "latitude                    0\n",
       "longitude                   0\n",
       "pt_year                     0\n",
       "pt_month                    0\n",
       "dtype: int64"
      ]
     },
     "execution_count": 12,
     "metadata": {},
     "output_type": "execute_result"
    }
   ],
   "source": [
    "fixed20.isna().sum()"
   ]
  },
  {
   "cell_type": "markdown",
   "metadata": {},
   "source": [
    "### 4. 동부 지역별 데이터프레임화"
   ]
  },
  {
   "cell_type": "code",
   "execution_count": 13,
   "metadata": {},
   "outputs": [],
   "source": [
    "# 조천읍\n",
    "Jocheon = East_jeju[East_jeju['ap_address_detail'].str.contains('조천', na=False)]\n",
    "\n",
    "# 구좌읍\n",
    "Gujwa = East_jeju[East_jeju['ap_address_detail'].str.contains('구좌', na=False)]\n",
    "\n",
    "# 서귀포 성산읍\n",
    "Seongsan = East_jeju[East_jeju['ap_address_detail'].str.contains('성산', na=False)]\n",
    "\n",
    "# 구제주\n",
    "Gujeju = East_jeju[East_jeju['ap_address_detail'].str.contains('일도|이도|삼도|용담|건입|도두|화북|삼양|아라|봉개', na=False)]"
   ]
  },
  {
   "cell_type": "markdown",
   "metadata": {},
   "source": [
    "### 5. 거주민 이용가능한 ap 정보"
   ]
  },
  {
   "cell_type": "code",
   "execution_count": 15,
   "metadata": {},
   "outputs": [
    {
     "data": {
      "text/html": [
       "<div>\n",
       "<style scoped>\n",
       "    .dataframe tbody tr th:only-of-type {\n",
       "        vertical-align: middle;\n",
       "    }\n",
       "\n",
       "    .dataframe tbody tr th {\n",
       "        vertical-align: top;\n",
       "    }\n",
       "\n",
       "    .dataframe thead th {\n",
       "        text-align: right;\n",
       "    }\n",
       "</style>\n",
       "<table border=\"1\" class=\"dataframe\">\n",
       "  <thead>\n",
       "    <tr style=\"text-align: right;\">\n",
       "      <th></th>\n",
       "      <th>base_date</th>\n",
       "      <th>user_id</th>\n",
       "      <th>mac_address</th>\n",
       "      <th>upload</th>\n",
       "      <th>download</th>\n",
       "      <th>session_time</th>\n",
       "      <th>nationality</th>\n",
       "      <th>gender</th>\n",
       "      <th>age</th>\n",
       "      <th>visit_type</th>\n",
       "      <th>ap_type</th>\n",
       "      <th>ap_category</th>\n",
       "      <th>ap_place</th>\n",
       "      <th>ap_place_detail</th>\n",
       "      <th>ap_latitude</th>\n",
       "      <th>ap_longitude</th>\n",
       "      <th>ap_address_detail</th>\n",
       "      <th>pt_year</th>\n",
       "      <th>pt_month</th>\n",
       "    </tr>\n",
       "  </thead>\n",
       "  <tbody>\n",
       "    <tr>\n",
       "      <th>0</th>\n",
       "      <td>20210101</td>\n",
       "      <td>25ee972873bbca5a135a33c6ba4d970dd48542ba2e79d7...</td>\n",
       "      <td>49288eca91187e2aacea777790f494ff3863d5fd61aed9...</td>\n",
       "      <td>28</td>\n",
       "      <td>0</td>\n",
       "      <td>1</td>\n",
       "      <td>미국</td>\n",
       "      <td>남성</td>\n",
       "      <td>50</td>\n",
       "      <td>거주</td>\n",
       "      <td>고정형</td>\n",
       "      <td>공영관광지</td>\n",
       "      <td>모구리야영장</td>\n",
       "      <td>모구리야영장 #1</td>\n",
       "      <td>33.406581</td>\n",
       "      <td>126.821853</td>\n",
       "      <td>서귀포시 성산읍 난산리 2960-1</td>\n",
       "      <td>2021</td>\n",
       "      <td>1</td>\n",
       "    </tr>\n",
       "    <tr>\n",
       "      <th>1</th>\n",
       "      <td>20210101</td>\n",
       "      <td>25ee972873bbca5a135a33c6ba4d970dd48542ba2e79d7...</td>\n",
       "      <td>49288eca91187e2aacea777790f494ff3863d5fd61aed9...</td>\n",
       "      <td>88</td>\n",
       "      <td>0</td>\n",
       "      <td>1</td>\n",
       "      <td>미국</td>\n",
       "      <td>남성</td>\n",
       "      <td>50</td>\n",
       "      <td>거주</td>\n",
       "      <td>고정형</td>\n",
       "      <td>공영관광지</td>\n",
       "      <td>모구리야영장</td>\n",
       "      <td>모구리야영장 #1</td>\n",
       "      <td>33.406581</td>\n",
       "      <td>126.821853</td>\n",
       "      <td>서귀포시 성산읍 난산리 2960-1</td>\n",
       "      <td>2021</td>\n",
       "      <td>1</td>\n",
       "    </tr>\n",
       "    <tr>\n",
       "      <th>2</th>\n",
       "      <td>20210101</td>\n",
       "      <td>25ee972873bbca5a135a33c6ba4d970dd48542ba2e79d7...</td>\n",
       "      <td>49288eca91187e2aacea777790f494ff3863d5fd61aed9...</td>\n",
       "      <td>328</td>\n",
       "      <td>0</td>\n",
       "      <td>2</td>\n",
       "      <td>미국</td>\n",
       "      <td>남성</td>\n",
       "      <td>50</td>\n",
       "      <td>거주</td>\n",
       "      <td>고정형</td>\n",
       "      <td>공영관광지</td>\n",
       "      <td>모구리야영장</td>\n",
       "      <td>모구리야영장 #1</td>\n",
       "      <td>33.406581</td>\n",
       "      <td>126.821853</td>\n",
       "      <td>서귀포시 성산읍 난산리 2960-1</td>\n",
       "      <td>2021</td>\n",
       "      <td>1</td>\n",
       "    </tr>\n",
       "    <tr>\n",
       "      <th>3</th>\n",
       "      <td>20210101</td>\n",
       "      <td>25ee972873bbca5a135a33c6ba4d970dd48542ba2e79d7...</td>\n",
       "      <td>49288eca91187e2aacea777790f494ff3863d5fd61aed9...</td>\n",
       "      <td>60</td>\n",
       "      <td>0</td>\n",
       "      <td>1</td>\n",
       "      <td>미국</td>\n",
       "      <td>남성</td>\n",
       "      <td>50</td>\n",
       "      <td>거주</td>\n",
       "      <td>고정형</td>\n",
       "      <td>공영관광지</td>\n",
       "      <td>모구리야영장</td>\n",
       "      <td>모구리야영장 #1</td>\n",
       "      <td>33.406581</td>\n",
       "      <td>126.821853</td>\n",
       "      <td>서귀포시 성산읍 난산리 2960-1</td>\n",
       "      <td>2021</td>\n",
       "      <td>1</td>\n",
       "    </tr>\n",
       "    <tr>\n",
       "      <th>4</th>\n",
       "      <td>20210101</td>\n",
       "      <td>25ee972873bbca5a135a33c6ba4d970dd48542ba2e79d7...</td>\n",
       "      <td>49288eca91187e2aacea777790f494ff3863d5fd61aed9...</td>\n",
       "      <td>28</td>\n",
       "      <td>0</td>\n",
       "      <td>1</td>\n",
       "      <td>미국</td>\n",
       "      <td>남성</td>\n",
       "      <td>50</td>\n",
       "      <td>거주</td>\n",
       "      <td>고정형</td>\n",
       "      <td>공영관광지</td>\n",
       "      <td>모구리야영장</td>\n",
       "      <td>모구리야영장 #1</td>\n",
       "      <td>33.406581</td>\n",
       "      <td>126.821853</td>\n",
       "      <td>서귀포시 성산읍 난산리 2960-1</td>\n",
       "      <td>2021</td>\n",
       "      <td>1</td>\n",
       "    </tr>\n",
       "  </tbody>\n",
       "</table>\n",
       "</div>"
      ],
      "text/plain": [
       "   base_date                                            user_id  \\\n",
       "0   20210101  25ee972873bbca5a135a33c6ba4d970dd48542ba2e79d7...   \n",
       "1   20210101  25ee972873bbca5a135a33c6ba4d970dd48542ba2e79d7...   \n",
       "2   20210101  25ee972873bbca5a135a33c6ba4d970dd48542ba2e79d7...   \n",
       "3   20210101  25ee972873bbca5a135a33c6ba4d970dd48542ba2e79d7...   \n",
       "4   20210101  25ee972873bbca5a135a33c6ba4d970dd48542ba2e79d7...   \n",
       "\n",
       "                                         mac_address  upload  download  \\\n",
       "0  49288eca91187e2aacea777790f494ff3863d5fd61aed9...      28         0   \n",
       "1  49288eca91187e2aacea777790f494ff3863d5fd61aed9...      88         0   \n",
       "2  49288eca91187e2aacea777790f494ff3863d5fd61aed9...     328         0   \n",
       "3  49288eca91187e2aacea777790f494ff3863d5fd61aed9...      60         0   \n",
       "4  49288eca91187e2aacea777790f494ff3863d5fd61aed9...      28         0   \n",
       "\n",
       "   session_time nationality gender  age visit_type ap_type ap_category  \\\n",
       "0             1          미국     남성   50         거주     고정형       공영관광지   \n",
       "1             1          미국     남성   50         거주     고정형       공영관광지   \n",
       "2             2          미국     남성   50         거주     고정형       공영관광지   \n",
       "3             1          미국     남성   50         거주     고정형       공영관광지   \n",
       "4             1          미국     남성   50         거주     고정형       공영관광지   \n",
       "\n",
       "  ap_place ap_place_detail  ap_latitude  ap_longitude    ap_address_detail  \\\n",
       "0   모구리야영장       모구리야영장 #1    33.406581    126.821853  서귀포시 성산읍 난산리 2960-1   \n",
       "1   모구리야영장       모구리야영장 #1    33.406581    126.821853  서귀포시 성산읍 난산리 2960-1   \n",
       "2   모구리야영장       모구리야영장 #1    33.406581    126.821853  서귀포시 성산읍 난산리 2960-1   \n",
       "3   모구리야영장       모구리야영장 #1    33.406581    126.821853  서귀포시 성산읍 난산리 2960-1   \n",
       "4   모구리야영장       모구리야영장 #1    33.406581    126.821853  서귀포시 성산읍 난산리 2960-1   \n",
       "\n",
       "   pt_year  pt_month  \n",
       "0     2021         1  \n",
       "1     2021         1  \n",
       "2     2021         1  \n",
       "3     2021         1  \n",
       "4     2021         1  "
      ]
     },
     "execution_count": 15,
     "metadata": {},
     "output_type": "execute_result"
    }
   ],
   "source": [
    "East_jeju.head()"
   ]
  },
  {
   "cell_type": "markdown",
   "metadata": {},
   "source": [
    "1) category별 방문유형 별 접속 수 "
   ]
  },
  {
   "cell_type": "code",
   "execution_count": 37,
   "metadata": {},
   "outputs": [],
   "source": [
    "visit_type = ['거주', '관광', '기타', '업무', '국제회의 및 인센티브 투어']\n",
    "empty = []\n",
    "\n",
    "def visit_type_len(a):\n",
    "    for i in visit_type:\n",
    "        accpt_len = len(East_jeju[(East_jeju['visit_type']==i)&(East_jeju['ap_category']==a)])\n",
    "        empty.append(accpt_len)\n",
    "\n",
    "    df = pd.DataFrame({'visit_type' : visit_type, '접속 횟수' : empty})\n",
    "    return df "
   ]
  },
  {
   "cell_type": "code",
   "execution_count": 61,
   "metadata": {},
   "outputs": [],
   "source": [
    "# 국제회의 및 인센티브 투어 > 짧게 매핑 필"
   ]
  },
  {
   "cell_type": "markdown",
   "metadata": {},
   "source": [
    "**거주 > 관광 : 버정, 테마거리, 전기차충전소, 공원, 체육시설, 지하상가, 요양병원, 학습관, 전통시장, 박물관, 장례식장, 도서관, 공공기관, 미술관, 관공서** \n",
    ">  \n",
    "**테마거리, 광장, 공항, 다중이용시설, 공공기관은 거주와 관광객이 비슷함**   \n",
    "**장례식장과 공공기관에서 관광객의 접속수가 의외로 높게 나온다.**"
   ]
  },
  {
   "cell_type": "code",
   "execution_count": 60,
   "metadata": {},
   "outputs": [
    {
     "data": {
      "text/plain": [
       "Text(0.5, 1.0, '항구')"
      ]
     },
     "execution_count": 60,
     "metadata": {},
     "output_type": "execute_result"
    },
    {
     "data": {
      "image/png": "[encoded data removed]",
      "text/plain": [
       "<Figure size 2160x720 with 14 Axes>"
      ]
     },
     "metadata": {
      "needs_background": "light"
     },
     "output_type": "display_data"
    }
   ],
   "source": [
    "fig, axes = plt.subplots(2,7)\n",
    "fig.set_size_inches(30,10)\n",
    "\n",
    "\n",
    "x = visit_type_len('공영관광지')['visit_type']\n",
    "y = visit_type_len('공영관광지')['접속 횟수']\n",
    "axes[0,0].bar(x,y)\n",
    "\n",
    "x = visit_type_len('버스정류소')['visit_type']\n",
    "y = visit_type_len('버스정류소')['접속 횟수']\n",
    "axes[0,1].bar(x,y)\n",
    "\n",
    "x = visit_type_len('테마거리')['visit_type']\n",
    "y = visit_type_len('테마거리')['접속 횟수']\n",
    "axes[0,2].bar(x,y)\n",
    "\n",
    "x = visit_type_len('광장')['visit_type']\n",
    "y = visit_type_len('광장')['접속 횟수']\n",
    "axes[0,3].bar(x,y)\n",
    "\n",
    "x = visit_type_len('전기차충전소')['visit_type']\n",
    "y = visit_type_len('전기차충전소')['접속 횟수']\n",
    "axes[0,4].bar(x,y)\n",
    "\n",
    "x = visit_type_len('사설관광지')['visit_type']\n",
    "y = visit_type_len('사설관광지')['접속 횟수']\n",
    "axes[0,5].bar(x,y)\n",
    "\n",
    "x = visit_type_len('숲길')['visit_type']\n",
    "y = visit_type_len('숲길')['접속 횟수']\n",
    "axes[0,6].bar(x,y)\n",
    "\n",
    "x = visit_type_len('올레코스')['visit_type']\n",
    "y = visit_type_len('올레코스')['접속 횟수']\n",
    "axes[1,0].bar(x,y)\n",
    "\n",
    "x = visit_type_len('공원')['visit_type']\n",
    "y = visit_type_len('공원')['접속 횟수']\n",
    "axes[1,1].bar(x,y)\n",
    "\n",
    "x = visit_type_len('해변')['visit_type']\n",
    "y = visit_type_len('해변')['접속 횟수']\n",
    "axes[1,2].bar(x,y)\n",
    "\n",
    "x = visit_type_len('체육시설')['visit_type']\n",
    "y = visit_type_len('체육시설')['접속 횟수']\n",
    "axes[1,3].bar(x,y)\n",
    "\n",
    "x = visit_type_len('지하상가')['visit_type']\n",
    "y = visit_type_len('지하상가')['접속 횟수']\n",
    "axes[1,4].bar(x,y)\n",
    "\n",
    "x = visit_type_len('요양병원')['visit_type']\n",
    "y = visit_type_len('요양병원')['접속 횟수']\n",
    "axes[1,5].bar(x,y)\n",
    "\n",
    "x = visit_type_len('항구')['visit_type']\n",
    "y = visit_type_len('항구')['접속 횟수']\n",
    "axes[1,6].bar(x,y)\n",
    "\n",
    "\n",
    "axes[0,0].set_title('공영관광지')\n",
    "axes[0,1].set_title('버스정류소')\n",
    "axes[0,2].set_title('테마거리')\n",
    "axes[0,3].set_title('광장')\n",
    "axes[0,4].set_title('전기차충전소')\n",
    "axes[0,5].set_title('사설관광지')\n",
    "axes[0,6].set_title('숲길')\n",
    "axes[1,0].set_title('올레코스')\n",
    "axes[1,1].set_title('공원')\n",
    "axes[1,2].set_title('해변')\n",
    "axes[1,3].set_title('체육시설')\n",
    "axes[1,4].set_title('지하상가')\n",
    "axes[1,5].set_title('요양병원')\n",
    "axes[1,6].set_title('항구')"
   ]
  },
  {
   "cell_type": "code",
   "execution_count": 62,
   "metadata": {},
   "outputs": [
    {
     "data": {
      "text/plain": [
       "Text(0.5, 1.0, '관공서')"
      ]
     },
     "execution_count": 62,
     "metadata": {},
     "output_type": "execute_result"
    },
    {
     "data": {
      "image/png": "[encoded data removed]",
      "text/plain": [
       "<Figure size 2160x720 with 14 Axes>"
      ]
     },
     "metadata": {
      "needs_background": "light"
     },
     "output_type": "display_data"
    }
   ],
   "source": [
    "fig, axes = plt.subplots(2,7)\n",
    "fig.set_size_inches(30,10)\n",
    "\n",
    "x = visit_type_len('여객터미널')['visit_type']\n",
    "y = visit_type_len('여객터미널')['접속 횟수']\n",
    "axes[0,0].bar(x,y)\n",
    "\n",
    "x = visit_type_len('학습관')['visit_type']\n",
    "y = visit_type_len('학습관')['접속 횟수']\n",
    "axes[0,1].bar(x,y)\n",
    "\n",
    "x = visit_type_len('공항')['visit_type']\n",
    "y = visit_type_len('공항')['접속 횟수']\n",
    "axes[0,2].bar(x,y)\n",
    "\n",
    "x = visit_type_len('학습센터')['visit_type']\n",
    "y = visit_type_len('학습센터')['접속 횟수']\n",
    "axes[0,3].bar(x,y)\n",
    "\n",
    "x = visit_type_len('전통시장')['visit_type']\n",
    "y = visit_type_len('전통시장')['접속 횟수']\n",
    "axes[0,4].bar(x,y)\n",
    "\n",
    "x = visit_type_len('박물관')['visit_type']\n",
    "y = visit_type_len('박물관')['접속 횟수']\n",
    "axes[0,5].bar(x,y)\n",
    "\n",
    "x = visit_type_len('장례식장')['visit_type']\n",
    "y = visit_type_len('장례식장')['접속 횟수']\n",
    "axes[0,6].bar(x,y)\n",
    "\n",
    "x = visit_type_len('도서관')['visit_type']\n",
    "y = visit_type_len('도서관')['접속 횟수']\n",
    "axes[1,0].bar(x,y)\n",
    "\n",
    "x = visit_type_len('다중이용시설')['visit_type']\n",
    "y = visit_type_len('다중이용시설')['접속 횟수']\n",
    "axes[1,1].bar(x,y)\n",
    "\n",
    "x = visit_type_len('공공기관')['visit_type']\n",
    "y = visit_type_len('공공기관')['접속 횟수']\n",
    "axes[1,2].bar(x,y)\n",
    "\n",
    "x = visit_type_len('관광지')['visit_type']\n",
    "y = visit_type_len('관광지')['접속 횟수']\n",
    "axes[1,3].bar(x,y)\n",
    "\n",
    "x = visit_type_len('미술관')['visit_type']\n",
    "y = visit_type_len('미술관')['접속 횟수']\n",
    "axes[1,4].bar(x,y)\n",
    "\n",
    "x = visit_type_len('공연장')['visit_type']\n",
    "y = visit_type_len('공연장')['접속 횟수']\n",
    "axes[1,5].bar(x,y)\n",
    "\n",
    "x = visit_type_len('관공서')['visit_type']\n",
    "y = visit_type_len('관공서')['접속 횟수']\n",
    "axes[1,6].bar(x,y)\n",
    "\n",
    "\n",
    "axes[0,0].set_title('여객터미널')\n",
    "axes[0,1].set_title('학습관')\n",
    "axes[0,2].set_title('공항')\n",
    "axes[0,3].set_title('학습센터')\n",
    "axes[0,4].set_title('전통시장')\n",
    "axes[0,5].set_title('박물관')\n",
    "axes[0,6].set_title('장례식장')\n",
    "axes[1,0].set_title('도서관')\n",
    "axes[1,1].set_title('다중이용시설')\n",
    "axes[1,2].set_title('공공기관')\n",
    "axes[1,3].set_title('관광지')\n",
    "axes[1,4].set_title('미술관')\n",
    "axes[1,5].set_title('공연장')\n",
    "axes[1,6].set_title('관공서')"
   ]
  },
  {
   "cell_type": "markdown",
   "metadata": {},
   "source": [
    "2) 거주자 와이파이 접속 분석"
   ]
  },
  {
   "cell_type": "code",
   "execution_count": 70,
   "metadata": {},
   "outputs": [
    {
     "data": {
      "text/html": [
       "<div>\n",
       "<style scoped>\n",
       "    .dataframe tbody tr th:only-of-type {\n",
       "        vertical-align: middle;\n",
       "    }\n",
       "\n",
       "    .dataframe tbody tr th {\n",
       "        vertical-align: top;\n",
       "    }\n",
       "\n",
       "    .dataframe thead th {\n",
       "        text-align: right;\n",
       "    }\n",
       "</style>\n",
       "<table border=\"1\" class=\"dataframe\">\n",
       "  <thead>\n",
       "    <tr style=\"text-align: right;\">\n",
       "      <th></th>\n",
       "      <th>base_date</th>\n",
       "      <th>user_id</th>\n",
       "      <th>mac_address</th>\n",
       "      <th>upload</th>\n",
       "      <th>download</th>\n",
       "      <th>session_time</th>\n",
       "      <th>nationality</th>\n",
       "      <th>gender</th>\n",
       "      <th>age</th>\n",
       "      <th>visit_type</th>\n",
       "      <th>ap_type</th>\n",
       "      <th>ap_category</th>\n",
       "      <th>ap_place</th>\n",
       "      <th>ap_place_detail</th>\n",
       "      <th>ap_latitude</th>\n",
       "      <th>ap_longitude</th>\n",
       "      <th>ap_address_detail</th>\n",
       "      <th>pt_year</th>\n",
       "      <th>pt_month</th>\n",
       "    </tr>\n",
       "  </thead>\n",
       "  <tbody>\n",
       "    <tr>\n",
       "      <th>12</th>\n",
       "      <td>20210101</td>\n",
       "      <td>79dd034114ab296e4cfe62245f35445ebe795bdeb5ef02...</td>\n",
       "      <td>fa941188aa9d3d91c673502ef784a0ba0490808675294c...</td>\n",
       "      <td>984777</td>\n",
       "      <td>32184544</td>\n",
       "      <td>327</td>\n",
       "      <td>대한민국</td>\n",
       "      <td>여성</td>\n",
       "      <td>10</td>\n",
       "      <td>거주</td>\n",
       "      <td>고정형</td>\n",
       "      <td>버스정류소</td>\n",
       "      <td>버스정류소_행원리[북]</td>\n",
       "      <td>행원리(북)#1-1</td>\n",
       "      <td>33.553292</td>\n",
       "      <td>126.807810</td>\n",
       "      <td>제주시 구좌읍 행원리 728-3</td>\n",
       "      <td>2021</td>\n",
       "      <td>1</td>\n",
       "    </tr>\n",
       "    <tr>\n",
       "      <th>14</th>\n",
       "      <td>20210101</td>\n",
       "      <td>25ca90407adb861b40a17c1b6b8dbf7e3ec3ebe983cd34...</td>\n",
       "      <td>fa941188aa9d3d91c673502ef784a0ba0490808675294c...</td>\n",
       "      <td>752807</td>\n",
       "      <td>36148726</td>\n",
       "      <td>414</td>\n",
       "      <td>대한민국</td>\n",
       "      <td>여성</td>\n",
       "      <td>10</td>\n",
       "      <td>거주</td>\n",
       "      <td>고정형</td>\n",
       "      <td>버스정류소</td>\n",
       "      <td>버스정류소_행원리[북]</td>\n",
       "      <td>행원리(북)#1-1</td>\n",
       "      <td>33.553292</td>\n",
       "      <td>126.807810</td>\n",
       "      <td>제주시 구좌읍 행원리 728-3</td>\n",
       "      <td>2021</td>\n",
       "      <td>1</td>\n",
       "    </tr>\n",
       "    <tr>\n",
       "      <th>30</th>\n",
       "      <td>20210101</td>\n",
       "      <td>78020a2cd9bb0b650993551c26111f30e56f9c7eed3142...</td>\n",
       "      <td>85e9d48ebef2c2362503a4d1df2c877367d6b1d201860f...</td>\n",
       "      <td>21820</td>\n",
       "      <td>56136</td>\n",
       "      <td>379</td>\n",
       "      <td>대한민국</td>\n",
       "      <td>여성</td>\n",
       "      <td>40</td>\n",
       "      <td>거주</td>\n",
       "      <td>고정형</td>\n",
       "      <td>버스정류소</td>\n",
       "      <td>버스정류소_탐라중학교(한일베라체방면)</td>\n",
       "      <td>탐라중학교#1-1</td>\n",
       "      <td>33.490660</td>\n",
       "      <td>126.545337</td>\n",
       "      <td>제주시 아라2동 1251-6</td>\n",
       "      <td>2021</td>\n",
       "      <td>1</td>\n",
       "    </tr>\n",
       "  </tbody>\n",
       "</table>\n",
       "</div>"
      ],
      "text/plain": [
       "    base_date                                            user_id  \\\n",
       "12   20210101  79dd034114ab296e4cfe62245f35445ebe795bdeb5ef02...   \n",
       "14   20210101  25ca90407adb861b40a17c1b6b8dbf7e3ec3ebe983cd34...   \n",
       "30   20210101  78020a2cd9bb0b650993551c26111f30e56f9c7eed3142...   \n",
       "\n",
       "                                          mac_address  upload  download  \\\n",
       "12  fa941188aa9d3d91c673502ef784a0ba0490808675294c...  984777  32184544   \n",
       "14  fa941188aa9d3d91c673502ef784a0ba0490808675294c...  752807  36148726   \n",
       "30  85e9d48ebef2c2362503a4d1df2c877367d6b1d201860f...   21820     56136   \n",
       "\n",
       "    session_time nationality gender  age visit_type ap_type ap_category  \\\n",
       "12           327        대한민국     여성   10         거주     고정형       버스정류소   \n",
       "14           414        대한민국     여성   10         거주     고정형       버스정류소   \n",
       "30           379        대한민국     여성   40         거주     고정형       버스정류소   \n",
       "\n",
       "                ap_place ap_place_detail  ap_latitude  ap_longitude  \\\n",
       "12          버스정류소_행원리[북]      행원리(북)#1-1    33.553292    126.807810   \n",
       "14          버스정류소_행원리[북]      행원리(북)#1-1    33.553292    126.807810   \n",
       "30  버스정류소_탐라중학교(한일베라체방면)       탐라중학교#1-1    33.490660    126.545337   \n",
       "\n",
       "    ap_address_detail  pt_year  pt_month  \n",
       "12  제주시 구좌읍 행원리 728-3     2021         1  \n",
       "14  제주시 구좌읍 행원리 728-3     2021         1  \n",
       "30    제주시 아라2동 1251-6     2021         1  "
      ]
     },
     "execution_count": 70,
     "metadata": {},
     "output_type": "execute_result"
    }
   ],
   "source": [
    "category_list = ['버스정류소', '테마거리', '전기차충전소', '공원', '체육시설', '지하상가', '요양병원', '학습관', \n",
    "                '전통시장', '박물관', '장례식장', '도서관', '공공기관', '미술관', '관공서']\n",
    "\n",
    "live_over_travel = East_jeju[East_jeju['ap_category'].isin(category_list)]\n",
    "resident = live_over_travel[live_over_travel['visit_type']=='거주']\n",
    "resident.head(3)"
   ]
  },
  {
   "cell_type": "code",
   "execution_count": null,
   "metadata": {},
   "outputs": [],
   "source": [
    "# 버정 \n",
    "res_bus = resident[resident['ap_category']=='버스정류소']\n",
    "res_theme = resident[resident['ap_category']=='테마거리']\n",
    "res_bus = resident[resident['ap_category']=='전기차충전소']\n",
    "res_theme = resident[resident['ap_category']=='공원']\n",
    "res_bus = resident[resident['ap_category']=='체육시설']\n",
    "res_theme = resident[resident['ap_category']=='지하상가']\n",
    "res_bus = resident[resident['ap_category']=='요양병원']\n",
    "res_theme = resident[resident['ap_category']=='학습관']\n",
    "res_bus = resident[resident['ap_category']=='전통시장']\n",
    "res_theme = resident[resident['ap_category']=='박물관']\n",
    "res_bus = resident[resident['ap_category']=='장례식장']\n",
    "res_theme = resident[resident['ap_category']=='도서관']\n",
    "res_bus = resident[resident['ap_category']=='공공기관']\n",
    "res_theme = resident[resident['ap_category']=='미술관']\n",
    "res_bus = resident[resident['ap_category']=='관공서']\n"
   ]
  }
 ],
 "metadata": {
  "interpreter": {
   "hash": "c81169c30fb96244cfba0db287a0d3fd5325268de070a7a6116eecd4596df902"
  },
  "kernelspec": {
   "display_name": "Python 3.8.8 ('base')",
   "language": "python",
   "name": "python3"
  },
  "language_info": {
   "codemirror_mode": {
    "name": "ipython",
    "version": 3
   },
   "file_extension": ".py",
   "mimetype": "text/x-python",
   "name": "python",
   "nbconvert_exporter": "python",
   "pygments_lexer": "ipython3",
   "version": "3.8.8"
  },
  "orig_nbformat": 4
 },
 "nbformat": 4,
 "nbformat_minor": 2
}
