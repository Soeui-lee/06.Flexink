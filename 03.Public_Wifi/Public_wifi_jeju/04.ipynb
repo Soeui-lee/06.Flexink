{
 "cells": [
  {
   "cell_type": "code",
   "execution_count": 1,
   "metadata": {},
   "outputs": [],
   "source": [
    "import numpy as np \n",
    "import pandas as pd \n",
    "\n",
    "import matplotlib.pyplot as plt\n",
    "import seaborn as sns \n",
    "\n",
    "import warnings\n",
    "warnings.filterwarnings(\"ignore\")"
   ]
  },
  {
   "cell_type": "code",
   "execution_count": 2,
   "metadata": {},
   "outputs": [],
   "source": [
    "# ap2021 = pd.read_csv('202021.csv')\n",
    "# ap2021 = ap2021[ap2021['ap_type']!='이동형']"
   ]
  },
  {
   "cell_type": "code",
   "execution_count": 4,
   "metadata": {},
   "outputs": [
    {
     "name": "stdout",
     "output_type": "stream",
     "text": [
      "24451387\n"
     ]
    }
   ],
   "source": [
    "# # 우도면 \n",
    "# Udo_21 = ap2021[ap2021['ap_address_detail'].str.contains('우도', na=False)]\n",
    "\n",
    "# # 조천읍\n",
    "# Jocheon_21 = ap2021[ap2021['ap_address_detail'].str.contains('조천', na=False)]\n",
    "\n",
    "# # 구좌읍\n",
    "# Gujwa_21 = ap2021[ap2021['ap_address_detail'].str.contains('구좌', na=False)]\n",
    "\n",
    "# # 서귀포 성산읍\n",
    "# Seongsan_21 = ap2021[ap2021['ap_address_detail'].str.contains('성산', na=False)]\n",
    "\n",
    "# # 구제주\n",
    "# Gujeju_21 = ap2021[ap2021['ap_address_detail'].str.contains('일도|이도|삼도|용담|건입|도두|화북|삼양|아라|봉개', na=False)]"
   ]
  },
  {
   "cell_type": "code",
   "execution_count": 5,
   "metadata": {},
   "outputs": [],
   "source": [
    "# Udo_21.to_csv('Udo.csv', index=False)\n",
    "# Jocheon_21.to_csv('Jocheon.csv', index=False)\n",
    "# Gujwa_21.to_csv('Gujwa.csv', index=False)\n",
    "# Seongsan_21.to_csv('Seongsan.csv', index=False)\n",
    "# Gujeju_21.to_csv('Gujeju.csv', index=False)"
   ]
  }
 ],
 "metadata": {
  "interpreter": {
   "hash": "c81169c30fb96244cfba0db287a0d3fd5325268de070a7a6116eecd4596df902"
  },
  "kernelspec": {
   "display_name": "Python 3.8.8 ('base')",
   "language": "python",
   "name": "python3"
  },
  "language_info": {
   "codemirror_mode": {
    "name": "ipython",
    "version": 3
   },
   "file_extension": ".py",
   "mimetype": "text/x-python",
   "name": "python",
   "nbconvert_exporter": "python",
   "pygments_lexer": "ipython3",
   "version": "3.8.8"
  },
  "orig_nbformat": 4
 },
 "nbformat": 4,
 "nbformat_minor": 2
}
