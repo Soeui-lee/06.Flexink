{
 "cells": [
  {
   "cell_type": "code",
   "execution_count": null,
   "metadata": {},
   "outputs": [],
   "source": [
    "import numpy as np\n",
    "import pandas as pd\n",
    "import matplotlib.pyplot as plt\n",
    "import seaborn as sns\n",
    "import warnings\n",
    "import os\n",
    "import folium\n",
    "from folium import plugins\n",
    "from folium.plugins import MarkerCluster\n",
    "from folium.plugins import HeatMap\n",
    "import requests \n",
    "import sys\n",
    "import json\n",
    "import datetime as dt\n",
    "plt.rcParams['font.family'] = 'Malgun Gothic'\n",
    "plt.rc('axes', unicode_minus=False)\n",
    "warnings.filterwarnings(\"ignore\")\n",
    "import requests\n",
    "import json\n",
    "from statsmodels.tsa.arima_model import ARIMA\n",
    "import statsmodels.api as sm\n",
    "\n",
    "import os\n",
    "os.environ['TF_CPP_MIN_LOG_LEVEL']='2'\n",
    "\n",
    "# pip install keras\n",
    "# pip install tensorflow\n",
    "from keras.models import Sequential\n",
    "from keras.layers import SimpleRNN, Dense\n"
   ]
  }
 ],
 "metadata": {
  "language_info": {
   "name": "python"
  },
  "orig_nbformat": 4
 },
 "nbformat": 4,
 "nbformat_minor": 2
}
